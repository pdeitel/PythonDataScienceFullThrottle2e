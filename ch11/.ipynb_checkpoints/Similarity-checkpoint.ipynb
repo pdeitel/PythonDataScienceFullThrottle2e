{
 "cells": [
  {
   "cell_type": "markdown",
   "metadata": {},
   "source": [
    "# 11.6 Similarity Detection with spaCy (1 of 3)\n",
    "* Determine **how alike documents are** \n",
    "* **Who really wrote** the works of **William Shakespeare**? [Sir Francis Bacon? Christopher Marlowe? Others?](https://en.wikipedia.org/wiki/Shakespeare_authorship_question)\n",
    "* Compare **`Doc` objects** for Shakespeare’s **Romeo and Juliet** and [Christopher Marlowe's **Edward the Second**](https://www.gutenberg.org/ebooks/20288)\n",
    "* Load spaCy's **medium size model (~95mb)** for **better accuracy** than the small model\n",
    "\n",
    "> `ipython -m spacy download en_core_web_md`\n",
    "\n",
    "* For the **best accuracy**, could load the **large size model (~827mb)**  \n",
    "\n",
    "> `ipython -m spacy download en_core_web_lg`"
   ]
  },
  {
   "cell_type": "code",
   "execution_count": null,
   "metadata": {},
   "outputs": [],
   "source": [
    "nlp = spacy.load('en_core_web_md')  # medium model for better accuracy"
   ]
  },
  {
   "cell_type": "markdown",
   "metadata": {},
   "source": [
    "<hr style=\"height:2px; border:none; color:#000; background-color:#000;\">"
   ]
  },
  {
   "cell_type": "markdown",
   "metadata": {},
   "source": [
    "### Creating the spaCy `Doc`s (2 of 3)\n",
    "* Create **`Doc` objects** for **Romeo and Juliet** and **Edward the Second**:"
   ]
  },
  {
   "cell_type": "code",
   "execution_count": null,
   "metadata": {},
   "outputs": [],
   "source": [
    "document1 = nlp(Path('RomeoAndJuliet.txt').read_text())"
   ]
  },
  {
   "cell_type": "code",
   "execution_count": null,
   "metadata": {},
   "outputs": [],
   "source": [
    "document2 = nlp(Path('EdwardTheSecond.txt').read_text())"
   ]
  },
  {
   "cell_type": "markdown",
   "metadata": {},
   "source": [
    "* **How similar do you think these are?**"
   ]
  },
  {
   "cell_type": "markdown",
   "metadata": {},
   "source": [
    "<hr style=\"height:2px; border:none; color:#000; background-color:#000;\">"
   ]
  },
  {
   "cell_type": "markdown",
   "metadata": {},
   "source": [
    "### Comparing the Books’ Similarity via the `Doc` Class’s **`similarity` Method** (4 of 4)\n",
    "* Returns a value from **0.0 (not similar)** to **1.0 (identical)** indicating how similar the documents are"
   ]
  },
  {
   "cell_type": "code",
   "execution_count": null,
   "metadata": {},
   "outputs": [],
   "source": [
    "print(f'{document1.similarity(document2):.2%}')\n",
    "document1.similarity()"
   ]
  },
  {
   "cell_type": "markdown",
   "metadata": {},
   "source": [
    "* spaCy believes these two documents have significant similarities"
   ]
  },
  {
   "cell_type": "markdown",
   "metadata": {},
   "source": [
    "<hr style=\"height:2px; border:none; color:#000; background-color:#000;\">"
   ]
  }
 ],
 "metadata": {
  "kernelspec": {
   "display_name": "Python 3",
   "language": "python",
   "name": "python3"
  },
  "language_info": {
   "codemirror_mode": {
    "name": "ipython",
    "version": 3
   },
   "file_extension": ".py",
   "mimetype": "text/x-python",
   "name": "python",
   "nbconvert_exporter": "python",
   "pygments_lexer": "ipython3",
   "version": "3.7.3"
  }
 },
 "nbformat": 4,
 "nbformat_minor": 4
}
