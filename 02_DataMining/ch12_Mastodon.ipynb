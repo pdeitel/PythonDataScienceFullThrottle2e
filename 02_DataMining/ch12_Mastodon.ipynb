{
 "cells": [
  {
   "cell_type": "code",
   "execution_count": 1,
   "metadata": {
    "tags": []
   },
   "outputs": [
    {
     "data": {
      "text/html": [
       "<!-- CSS settings for this notbook -->\n",
       "<style>\n",
       "    h1 {color:#BB0000}\n",
       "    h2 {color:purple}\n",
       "    h3 {color:#0099ff}\n",
       "    hr {    \n",
       "        border: 0;\n",
       "        height: 3px;\n",
       "        background: #333;\n",
       "        background-image: linear-gradient(to right, #ccc, black, #ccc);\n",
       "    }\n",
       "</style>\n"
      ],
      "text/plain": [
       "<IPython.core.display.HTML object>"
      ]
     },
     "metadata": {},
     "output_type": "display_data"
    }
   ],
   "source": [
    "%%html\n",
    "<!-- CSS settings for this notbook -->\n",
    "<style>\n",
    "    h1 {color:#BB0000}\n",
    "    h2 {color:purple}\n",
    "    h3 {color:#0099ff}\n",
    "    hr {    \n",
    "        border: 0;\n",
    "        height: 3px;\n",
    "        background: #333;\n",
    "        background-image: linear-gradient(to right, #ccc, black, #ccc);\n",
    "    }\n",
    "</style>"
   ]
  },
  {
   "cell_type": "markdown",
   "metadata": {
    "tags": []
   },
   "source": [
    "# Data Mining Mastodon"
   ]
  },
  {
   "cell_type": "markdown",
   "metadata": {},
   "source": [
    "------"
   ]
  },
  {
   "cell_type": "markdown",
   "metadata": {
    "tags": []
   },
   "source": [
    "# Objectives\n",
    "* What is **Mastodon**?\n",
    "* Why we're presenting **Mastodon** rather than **Twitter**\n",
    "* **Data-mine Mastodon** with **Mastodon.py** library\n",
    "* Use various **Mastodon** API methods\n",
    "* **Get information** about a specific Mastodon account\n",
    "* **Look up trending hashtags** \n",
    "* **Search for toots** containing a specific hashtag\n",
    "* **Process streams of toots** as they’re happening\n",
    "* **Clean and preprocess toots** to prepare them for analysis\n",
    "* **Translate foreign language toots** into English \n",
    "* Tap into the **live streams of toots**\n",
    "<!--* Perform **sentiment analysis** on toots from the live stream-->\n",
    "* Create an **interactive map of Mastodon servers locations** from which Toots are received"
   ]
  },
  {
   "cell_type": "markdown",
   "metadata": {},
   "source": [
    "------"
   ]
  },
  {
   "cell_type": "markdown",
   "metadata": {
    "tags": []
   },
   "source": [
    "# 12.1 Introduction \n",
    "* **Data mining** &mdash; searching large collections of data for **insights**\n",
    "* **Sentiment** in toots can help **make predictions**  \n",
    "    * **Stock prices**\n",
    "    * **Election results**\n",
    "    * Likely **revenues** for a **new movie** or, more generally, **product**\n",
    "    * **Success** of a company’s **marketing campaign**\n",
    "* Spot **comments on your company's products** \n",
    "* Spot **faults in competitors’ products** \n",
    "* Spot **trending topics**\n",
    "* **Connect to Mastodon** with easy-to-use **Web services**"
   ]
  },
  {
   "cell_type": "markdown",
   "metadata": {
    "tags": []
   },
   "source": [
    "## What Is Mastodon?\n",
    "* Free social network\n",
    "* Similar to X, but decentralized and more privacy focused\n",
    "* No ads\n",
    "* Thousands of servers run by individuals and companies worldwide\n",
    "* **Federated** (known as the **Fediverse**)\n",
    "    * Independent servers distributed across the Internet\n",
    "    * Communication among the server nodes  \n",
    "    > https://en.wikipedia.org/wiki/Distributed_social_network\n",
    "    * Can communicate with accounts throughout the **Fediverse** \n",
    "* **Toots**\n",
    "    * Messages up to **500 characters**\n",
    "    * Some servers allow more\n",
    "* Anyone can generally choose to follow anyone else but depends on\n",
    "    * individual users' account settings \n",
    "    * specific server rules"
   ]
  },
  {
   "cell_type": "markdown",
   "metadata": {
    "tags": []
   },
   "source": [
    "## Accessing Mastodon Data Programmatically \n",
    "* Anyone with an account can use the APIs\n",
    "* Access and manipulate accounts, servers, toots (statuses), timelines, trends, ...\n",
    "* Can **tap into the live stream** of toots for a given server or the **Fediverse** "
   ]
  },
  {
   "cell_type": "markdown",
   "metadata": {},
   "source": [
    "------"
   ]
  },
  {
   "cell_type": "markdown",
   "metadata": {
    "tags": []
   },
   "source": [
    "# 12.2 Overview of the Mastodon APIs \n",
    "* **Web services** are methods that you call in the **cloud**\n",
    "* Each method has a **web service endpoint** represented by a **URL**\n",
    "    * **Caution**: Internet connections can be lost, services can change and some services are not available in all countries, so **apps can be brittle**\n",
    "* Some **API categories** \n",
    "    * **Accounts API** — Access information about and manipulate **Mastodon user accounts**\n",
    "    * **Statuses API** — Access info about and post **status updates**, known as **toots**\n",
    "    * **Timelines API** — Toots and other \"events\" (follows, likes, ...) over time — since the inception of each Mastodon server\n",
    "    > Enables access to toots and other \"events\" from the **public fediverse**, **toots with specific hashtags**, **logged-in user's timeline** (including accounts the user follows) and **lists** for filtering a user's home timeline. Can use timelines to search for **past toots** containing specific hashtags and access **live toot streams**\n",
    "* **Mastodon API categories** under the **API METHODS** heading in the left column at\n",
    ">https://docs.joinmastodon.org/"
   ]
  },
  {
   "cell_type": "markdown",
   "metadata": {},
   "source": [
    "------"
   ]
  },
  {
   "cell_type": "markdown",
   "metadata": {
    "tags": []
   },
   "source": [
    "# 12.3 Creating a Mastodon Account "
   ]
  },
  {
   "cell_type": "markdown",
   "metadata": {
    "tags": []
   },
   "source": [
    "## Developer Accounts\n",
    "* **Mastodon does not have separate developer accounts**\n",
    "    * Anyone with a Mastodon account can be a developer\n",
    "    * Every server has its own rules — some servers allow anyone to join, some require approval"
   ]
  },
  {
   "cell_type": "markdown",
   "metadata": {
    "tags": []
   },
   "source": [
    "## Servers\n",
    "* Sign-up for main server: https://mastodon.social/auth/sign_up\n",
    "* Or, explore servers worldwide at\n",
    "    * https://joinmastodon.org/servers\n",
    "    * Many more servers than listed here"
   ]
  },
  {
   "cell_type": "markdown",
   "metadata": {
    "tags": []
   },
   "source": [
    "## Mastodon.social — Original and Largest Overall Mastodon Server\n",
    "* **Deitel joined `mastodon.social`** \n",
    "* https://joinmastodon.org/servers enables you to filter servers based on\n",
    "    * region\n",
    "    * language\n",
    "    * topical focus of that server"
   ]
  },
  {
   "cell_type": "markdown",
   "metadata": {},
   "source": [
    "------"
   ]
  },
  {
   "cell_type": "markdown",
   "metadata": {
    "tags": []
   },
   "source": [
    "# 12.4 What’s in a Mastodon API Response? \n",
    "* Mastodon API methods return **JSON (JavaScript Object Notation)** objects\n",
    "    * Like Twitter and most popular web services today\n",
    "* Text-based **data-interchange format** \n",
    "* Represents objects as **collections of name–value pairs** (like dictionaries)\n",
    "* Commonly used in web services\n",
    "* Human and computer readable"
   ]
  },
  {
   "cell_type": "markdown",
   "metadata": {},
   "source": [
    "## JSON\n",
    "* **JSON object format**:\n",
    "\n",
    "> ```\n",
    "> {propertyName1: value1, propertyName2: value2}\n",
    "> ```\n",
    "* **JSON array format (like Python list)**:\n",
    "\n",
    "> ```\n",
    "> [value1, value2, value3]\n",
    "> ```\n",
    "* **Mastodon.py handles the JSON for you** behind the scenes"
   ]
  },
  {
   "cell_type": "markdown",
   "metadata": {
    "tags": []
   },
   "source": [
    "## Class `mastodon.AttribAccessDict` \n",
    "* Mastodon returns JSON as **`mastodon.AttribAccessDict` objects**\n",
    "* Python `dict` (dictionary) subclass\n",
    "* Access via\n",
    "    * traditional Python dictionary keys  \n",
    "    * attributes named to match the dictionary keys\n",
    "* **API ENTITIES** section of the Mastodon docs (https://docs.joinmastodon.org/) describes the 52 JSON objects you'll find in various Mastodon API responses"
   ]
  },
  {
   "cell_type": "markdown",
   "metadata": {
    "tags": []
   },
   "source": [
    "## Sample JSON for Trending Hashtags\n",
    "* A portion of the JSON response to a request for recent trending hashtags\n",
    "\n",
    "```json\n",
    "[{'name': 'caturday',\n",
    "  'url': 'https://mastodon.social/tags/caturday',\n",
    "  'history': [{'day': datetime.datetime(2023, 4, 22, 0, 0, tzinfo=datetime.timezone.utc),\n",
    "    'accounts': '719',\n",
    "    'uses': '828'},\n",
    "   {'day': datetime.datetime(2023, 4, 21, 0, 0, tzinfo=datetime.timezone.utc),\n",
    "    'accounts': '58',\n",
    "    'uses': '62'},\n",
    "   {'day': datetime.datetime(2023, 4, 20, 0, 0, tzinfo=datetime.timezone.utc),\n",
    "    'accounts': '25',\n",
    "    'uses': '32'},\n",
    "   {'day': datetime.datetime(2023, 4, 19, 0, 0, tzinfo=datetime.timezone.utc),\n",
    "    'accounts': '28',\n",
    "    'uses': '34'},\n",
    "   {'day': datetime.datetime(2023, 4, 18, 0, 0, tzinfo=datetime.timezone.utc),\n",
    "    'accounts': '19',\n",
    "    'uses': '22'},\n",
    "   {'day': datetime.datetime(2023, 4, 17, 0, 0, tzinfo=datetime.timezone.utc),\n",
    "    'accounts': '25',\n",
    "    'uses': '26'},\n",
    "   {'day': datetime.datetime(2023, 4, 16, 0, 0, tzinfo=datetime.timezone.utc),\n",
    "    'accounts': '225',\n",
    "    'uses': '254'}],\n",
    "  'following': False},\n",
    " {'name': 'ScreenshotSaturday',\n",
    "  'url': 'https://mastodon.social/tags/ScreenshotSaturday',\n",
    "  'history': [{'day': datetime.datetime(2023, 4, 22, 0, 0, tzinfo=datetime.timezone.utc),\n",
    "    'accounts': '56',\n",
    "    'uses': '59'},\n",
    "   {'day': datetime.datetime(2023, 4, 21, 0, 0, tzinfo=datetime.timezone.utc),\n",
    "    'accounts': '0',\n",
    "    'uses': '0'},\n",
    "   {'day': datetime.datetime(2023, 4, 20, 0, 0, tzinfo=datetime.timezone.utc),\n",
    "    'accounts': '0',\n",
    "    'uses': '0'},\n",
    "   {'day': datetime.datetime(2023, 4, 19, 0, 0, tzinfo=datetime.timezone.utc),\n",
    "    'accounts': '0',\n",
    "    'uses': '0'},\n",
    "   {'day': datetime.datetime(2023, 4, 18, 0, 0, tzinfo=datetime.timezone.utc),\n",
    "    'accounts': '3',\n",
    "    'uses': '3'},\n",
    "   {'day': datetime.datetime(2023, 4, 17, 0, 0, tzinfo=datetime.timezone.utc),\n",
    "    'accounts': '3',\n",
    "    'uses': '3'},\n",
    "   {'day': datetime.datetime(2023, 4, 16, 0, 0, tzinfo=datetime.timezone.utc),\n",
    "    'accounts': '24',\n",
    "    'uses': '26'}],\n",
    "  'following': False},\n",
    "  ...\n",
    " ]\n",
    "```"
   ]
  },
  {
   "cell_type": "markdown",
   "metadata": {},
   "source": [
    "------"
   ]
  },
  {
   "cell_type": "markdown",
   "metadata": {
    "tags": []
   },
   "source": [
    "# 12.5 Installing the Libraries Used in This Notebook\n",
    "\n",
    "## Installing Mastodon.py \n",
    "* https://github.com/halcy/Mastodon.py \n",
    "* Easy access to Mastodon APIs\n",
    "* Mastodon.py docs: https://mastodonpy.readthedocs.io/\n",
    "> `pip3 install Mastodon.py`\n",
    "\n"
   ]
  },
  {
   "cell_type": "markdown",
   "metadata": {
    "tags": []
   },
   "source": [
    "## DeepL AI Translator \n",
    "* Mastodon's API supports translation, but not yet supported by Mastodon.py library\n",
    "* https://github.com/DeepLcom/deepl-python\n",
    "> `pip install --upgrade deepl`\n",
    "* DeepL requires an API key\n",
    "* Free one allows 500,000 characters/month\n",
    "* To get a key:\n",
    "> * Go to https://www.deepl.com/pro#developer\n",
    "> * Click **API**\n",
    "> * Click **Sign up for free**\n",
    "> * Under **DeepL API Free** click **Sign up for free**\n",
    "> * Specify an email/password and click **Continue**\n",
    "> * Fill in the form and provide a credit card — required to prevent “fraudulent multiple registrations”, then click **Continue**\n",
    "> * Read the terms and, if you agree, click **Sign up for free**\n",
    "> * Click the **Account Management** link on the thank you page\n",
    "> * Click the **Account** tab and scroll to **Authentication Key for DeepL API**\n",
    "> * Copy your key then open **`keys_mastodon.py`** and replace `'your key here'` with your DeepL key\n",
    ">> `deepL_key = 'your key here'`"
   ]
  },
  {
   "cell_type": "markdown",
   "metadata": {
    "tags": []
   },
   "source": [
    "## Installing geopy \n",
    "* https://github.com/geopy/geopy\n",
    "* Convert locations, such as **Boston, MA**, into latitudes and longitudes, such as **42.3602534** and **-71.0582912**, for plotting on maps\n",
    "* We'll use the free **ArcGIS** service\n",
    ">`conda install -c conda-forge geopy`\n",
    "> * Windows users: **Run the Anaconda Prompt as an Administrator**"
   ]
  },
  {
   "cell_type": "markdown",
   "metadata": {
    "tags": []
   },
   "source": [
    "## Folium Library and Leaflet.js JavaScript Mapping Library\n",
    "* https://github.com/python-visualization/folium\n",
    "* Creates interactive maps\n",
    "> `pip install folium`\n",
    "\n",
    "**Maps from OpenStreetMap.org**\n",
    "* Leaflet.js uses open-source maps from `OpenStreetMap.org`. \n",
    "* Copyrighted by the OpenStreetMap.org contributors\n",
    "* www.openstreetmap.org/copyright \n",
    "* www.opendatacommons.org/licenses/odbl"
   ]
  },
  {
   "cell_type": "markdown",
   "metadata": {},
   "source": [
    "------"
   ]
  },
  {
   "cell_type": "markdown",
   "metadata": {},
   "source": [
    "# 12.6 Preparing to Interact with Mastodon Programmatically"
   ]
  },
  {
   "cell_type": "markdown",
   "metadata": {
    "tags": []
   },
   "source": [
    "## Import Username and Password\n",
    "* Before executing this cell, ensure that your copy of `keys_mastodon.py` contains your Mastodon credentials\n",
    "* **Many Mastodon APIs do not require authentication**\n",
    "    * Some APIs optionally require authentication — determined by each server's administrator\n",
    "    * Some require authentication, such as those that enable administration of a mastodon server\n",
    "* See each method's documentation for **authentication requirements**\n",
    "    * Mastodon.py: https://mastodonpy.readthedocs.io/\n",
    "    * Main Mastodon docs: https://docs.joinmastodon.org/\n",
    "* **We will log in, so we are authenticated for calls that require authentication**, such as searching for accounts"
   ]
  },
  {
   "cell_type": "code",
   "execution_count": 2,
   "metadata": {
    "tags": []
   },
   "outputs": [],
   "source": [
    "import keys_mastodon"
   ]
  },
  {
   "cell_type": "markdown",
   "metadata": {
    "tags": []
   },
   "source": [
    "## Register a Mastodon App\n",
    "* Must be done **once per server** that you'll directly interact with via the API \n",
    "    * As you'll see, through one server, you can get access to the Fediverse data\n",
    "* For apps you are distributing (e.g., a mobile-phone app for interacting with Mastodon)\n",
    "    * must register **once for each device/server pair**\n",
    "    * for example, a mobil app might allow the user to manage accounts on multiple Mastodon servers\n",
    "* Arguments\n",
    "    * app name\n",
    "    * `api_base_url` — your specific Mastodon server\n",
    "    * `to_file` — file in which `create_app` saves app credentials to the specified file"
   ]
  },
  {
   "cell_type": "code",
   "execution_count": 3,
   "metadata": {
    "tags": []
   },
   "outputs": [],
   "source": [
    "from mastodon import Mastodon"
   ]
  },
  {
   "cell_type": "code",
   "execution_count": 4,
   "metadata": {
    "tags": []
   },
   "outputs": [],
   "source": [
    "# create deiteltest app and save its credentials\n",
    "credentials = Mastodon.create_app(\n",
    "    'DeitelPythonDataScienceMastodonApp',\n",
    "    api_base_url='https://mastodon.social',\n",
    "    to_file='deiteltest_client_credentials.secret'\n",
    ")"
   ]
  },
  {
   "cell_type": "markdown",
   "metadata": {},
   "source": [
    "<hr style=\"height:2px; border:none; color:#AAA; background-color:#AAA;\">"
   ]
  },
  {
   "cell_type": "markdown",
   "metadata": {
    "tags": []
   },
   "source": [
    "# 12.7 Creating a `Mastodon` object to Access Mastodon APIs\n",
    "* **`Mastodon` object** is your gateway to using the Mastodon APIs\n",
    "* Uses the info stored via the `to_file` parameter in preceding `create_app` call "
   ]
  },
  {
   "cell_type": "markdown",
   "metadata": {
    "tags": []
   },
   "source": [
    "<!-- mastodon = Mastodon(client_id='deiteltest_client_credentials.secret') -->"
   ]
  },
  {
   "cell_type": "markdown",
   "metadata": {},
   "source": [
    "## Create Mastodon Object for Authentication Purposes"
   ]
  },
  {
   "cell_type": "code",
   "execution_count": 5,
   "metadata": {},
   "outputs": [],
   "source": [
    "mastodon = Mastodon(\n",
    "    client_id='deiteltest_client_credentials.secret',\n",
    "    api_base_url='https://mastodon.social'\n",
    ")"
   ]
  },
  {
   "cell_type": "markdown",
   "metadata": {},
   "source": [
    "## Generate authorization URL\n",
    "* Mastodon recently changed the authenticatin process\n",
    "* This creates a URL the user can use to log into Mastodon"
   ]
  },
  {
   "cell_type": "code",
   "execution_count": 6,
   "metadata": {},
   "outputs": [],
   "source": [
    "auth_url = mastodon.auth_request_url(scopes=['read', 'write'])"
   ]
  },
  {
   "cell_type": "markdown",
   "metadata": {},
   "source": [
    "## Have user log in\n",
    "* Open the URL in a browser and obtain the authorization code "
   ]
  },
  {
   "cell_type": "code",
   "execution_count": 9,
   "metadata": {},
   "outputs": [
    {
     "name": "stdout",
     "output_type": "stream",
     "text": [
      "Please visit this URL and authorize the app: https://mastodon.social/oauth/authorize?client_id=aCVlpR-SpoOItHw3_CACf6In3H_JrPuZRwN1eVYzLNU&response_type=code&redirect_uri=urn%3Aietf%3Awg%3Aoauth%3A2.0%3Aoob&scope=read+write&force_login=False&state=None&lang=None\n"
     ]
    },
    {
     "name": "stdin",
     "output_type": "stream",
     "text": [
      "Enter the authorization code:  S-vuay8GEnNidn_c6aO8W9XgvYMK2i3aEgKE1cATevE\n"
     ]
    }
   ],
   "source": [
    "print(f\"Please visit this URL and authorize the app: {auth_url}\")\n",
    "code = input(\"Enter the authorization code: \")"
   ]
  },
  {
   "cell_type": "markdown",
   "metadata": {},
   "source": [
    "## Log in with the authorization code\n",
    "* Required for some API calls"
   ]
  },
  {
   "cell_type": "code",
   "execution_count": 10,
   "metadata": {},
   "outputs": [],
   "source": [
    "access_token_str = mastodon.log_in(\n",
    "    code=code,\n",
    "    scopes=['read'], # can include read, write, follow, push\n",
    "    to_file='usercred.secret'\n",
    ")"
   ]
  },
  {
   "cell_type": "markdown",
   "metadata": {
    "jp-MarkdownHeadingCollapsed": true
   },
   "source": [
    "<!-- ## Log into Mastodon\n",
    "* Log into the account\n",
    "* May not be required depending on the API methods you'll use\n",
    "\n",
    "access_token = mastodon.log_in(keys_mastodon.usr, keys_mastodon.pwd, \n",
    "    scopes=['read', 'write', 'follow'],\n",
    "    to_file='deiteltest_client_credentials.secret')\n",
    "\n",
    "mastodon = Mastodon(\n",
    "    client_id='deiteltest_client_credentials.secret',\n",
    "    access_token='usercred.secret',\n",
    "    api_base_url='https://mastodon.social'\n",
    ") -->"
   ]
  },
  {
   "cell_type": "markdown",
   "metadata": {
    "tags": []
   },
   "source": [
    "## **Example:** Rate Limits\n",
    "* Typically, **300 calls per user** or **7500 calls per IP address** in **5 minutes**\n",
    "    * Can vary by server\n",
    "* Options **throw**, **wait** and **pace**\n",
    "    * **throw** (default): `MastodonRateLimitError` when a request hits the rate limit — for apps that manage their own rate limiting\n",
    "    * **wait**: When rate limit hit, waits until rate limit resets (at end of five-minute interval), then tries again\n",
    "    * **pace**: Delays each request after the first, attempting to avoid hitting the rate limit; acts like **wait** mode if limit is hit\n",
    "* Following statement sets rate limit method for all calls"
   ]
  },
  {
   "cell_type": "code",
   "execution_count": 11,
   "metadata": {},
   "outputs": [],
   "source": [
    "Mastodon.RATE_LIMIT_METHOD = 'wait' "
   ]
  },
  {
   "cell_type": "markdown",
   "metadata": {},
   "source": [
    "### Number of Calls Per 5 Minutes Allowed on This Server"
   ]
  },
  {
   "cell_type": "code",
   "execution_count": 12,
   "metadata": {
    "tags": []
   },
   "outputs": [
    {
     "data": {
      "text/plain": [
       "300"
      ]
     },
     "execution_count": 12,
     "metadata": {},
     "output_type": "execute_result"
    }
   ],
   "source": [
    "mastodon.ratelimit_limit "
   ]
  },
  {
   "cell_type": "markdown",
   "metadata": {},
   "source": [
    "### Number of Calls Remaining in Current Rate Interval Period"
   ]
  },
  {
   "cell_type": "code",
   "execution_count": 13,
   "metadata": {
    "tags": []
   },
   "outputs": [
    {
     "data": {
      "text/plain": [
       "287"
      ]
     },
     "execution_count": 13,
     "metadata": {},
     "output_type": "execute_result"
    }
   ],
   "source": [
    "mastodon.ratelimit_remaining"
   ]
  },
  {
   "cell_type": "markdown",
   "metadata": {},
   "source": [
    "<hr style=\"height:2px; border:none; color:#AAA; background-color:#AAA;\">"
   ]
  },
  {
   "cell_type": "markdown",
   "metadata": {
    "tags": []
   },
   "source": [
    "# 12.8 **Example:** Getting a Mastodon Instance's (Server's) Info\n",
    "* **Instance** JSON description: https://docs.joinmastodon.org/entities/Instance/"
   ]
  },
  {
   "cell_type": "markdown",
   "metadata": {},
   "source": [
    "### Get the Instance Info\n",
    "* Depending on server, might need to be logged in"
   ]
  },
  {
   "cell_type": "code",
   "execution_count": 14,
   "metadata": {
    "tags": []
   },
   "outputs": [],
   "source": [
    "instance = mastodon.instance() "
   ]
  },
  {
   "cell_type": "markdown",
   "metadata": {},
   "source": [
    "### Print Some Instance Info"
   ]
  },
  {
   "cell_type": "code",
   "execution_count": 15,
   "metadata": {
    "tags": []
   },
   "outputs": [
    {
     "name": "stdout",
     "output_type": "stream",
     "text": [
      "       server title: Mastodon\n",
      "      server domain: mastodon.social\n",
      " server description: The original server operated by the Mastodon gGmbH non-profit\n",
      "active users on this server (4 weeks): 280,329\n"
     ]
    }
   ],
   "source": [
    "#print(f'{\"server title\":>19}: {instance[\"title\"]}')\n",
    "#print(f'{\"uri\":>19}: {instance[\"uri\"]}')\n",
    "#print(f'{\"short_description\":>19}: {instance[\"short_description\"]}')\n",
    "#print(f'{\"stats.user_count\":>19}: {instance[\"stats\"][\"user_count\"]:,}')\n",
    "#print(f'{\"stats.status_count\":>19}: {instance[\"stats\"][\"status_count\"]:,}')\n",
    "#print(f'{\"stats.domain_count\":>19}: {instance[\"stats\"][\"domain_count\"]:,}')\n",
    "\n",
    "print(f'{\"server title\":>19}: {instance.title}')\n",
    "print(f'{\"server domain\":>19}: {instance.domain}')\n",
    "print(f'{\"server description\":>19}: {instance.description}')\n",
    "print(f'{\"active users on this server (4 weeks)\":>19}: {instance.usage.users.active_month:,}')"
   ]
  },
  {
   "cell_type": "markdown",
   "metadata": {},
   "source": [
    "<hr style=\"height:2px; border:none; color:#AAA; background-color:#AAA;\">"
   ]
  },
  {
   "cell_type": "markdown",
   "metadata": {
    "tags": []
   },
   "source": [
    "# 12.9 Searching for Mastodon Accounts By User Name\n",
    "* A mobile app might allows user to locate other accounts to follow\n",
    "* Can programmatically search for accounts containing a specified string"
   ]
  },
  {
   "cell_type": "markdown",
   "metadata": {},
   "source": [
    "## **Example:** Find Account Names Containing `'Mastodon'`\n",
    "* Returns list of **Account**s\n",
    "* **Account** JSON description: https://docs.joinmastodon.org/entities/Account/\n",
    "<!--@mastodon.social-->"
   ]
  },
  {
   "cell_type": "code",
   "execution_count": 16,
   "metadata": {
    "tags": []
   },
   "outputs": [],
   "source": [
    "accounts = mastodon.account_search(q='Mastodon') "
   ]
  },
  {
   "cell_type": "code",
   "execution_count": 17,
   "metadata": {
    "tags": []
   },
   "outputs": [
    {
     "data": {
      "text/plain": [
       "40"
      ]
     },
     "execution_count": 17,
     "metadata": {},
     "output_type": "execute_result"
    }
   ],
   "source": [
    "len(accounts)"
   ]
  },
  {
   "cell_type": "markdown",
   "metadata": {},
   "source": [
    "## **Example:** Basic Account Information for Top 3 Accounts with `mastodon` in the name\n",
    "* You can discover info about an account\n",
    "    * Might want to follow and account based on popularity (number of followers)\n",
    "    * Might want to follow some of the same accounts that a specific account follows\n",
    "* Each has many properties, including:\n",
    "    * `username` — user’s Mastodon handle \n",
    "    * `id` — account’s unique ID number\n",
    "    * `url` — URL used to access the account in a web browser\n",
    "    * `note` — account description (may contain HTML tags)\n",
    "    * `statuses_count` — number of toots posted by the account\n",
    "    * `followers_count` — account's number of followers\n",
    "    * `following_count` — number of other accounts this account follows\n",
    "* Sort by `followers_count` in descending order, then display top 3 accounts by followers"
   ]
  },
  {
   "cell_type": "code",
   "execution_count": 18,
   "metadata": {
    "tags": []
   },
   "outputs": [],
   "source": [
    "sorted_accounts = sorted(accounts, key=lambda acct: acct.followers_count, reverse=True)"
   ]
  },
  {
   "cell_type": "code",
   "execution_count": 19,
   "metadata": {
    "tags": []
   },
   "outputs": [
    {
     "name": "stdout",
     "output_type": "stream",
     "text": [
      "username:  Mastodon\n",
      "id:  13179\n",
      "url:  https://mastodon.social/@Mastodon\n",
      "statuses_count: 344\n",
      "followers_count: 843,800\n",
      "following_count: 34\n",
      "\n"
     ]
    }
   ],
   "source": [
    "print('username: ', sorted_accounts[0].username)\n",
    "print('id: ', sorted_accounts[0].id)\n",
    "print('url: ', sorted_accounts[0].url)\n",
    "print(f'statuses_count: {sorted_accounts[0].statuses_count:,}')\n",
    "print(f'followers_count: {sorted_accounts[0].followers_count:,}')\n",
    "print(f'following_count: {sorted_accounts[0].following_count:,}')\n",
    "print()"
   ]
  },
  {
   "cell_type": "markdown",
   "metadata": {},
   "source": [
    "### Getting Your Own Account’s Information\n",
    "* Get via `Mastodon` object’s `me` method\n",
    "> `my_account = mastodon.me()`\n",
    "* Returns an **Account object** for the account you used to authenticate with Mastodon"
   ]
  },
  {
   "cell_type": "markdown",
   "metadata": {},
   "source": [
    "<hr style=\"height:2px; border:none; color:#AAA; background-color:#AAA;\">"
   ]
  },
  {
   "cell_type": "markdown",
   "metadata": {},
   "source": [
    "# 12.10 Spotting Trending Hashtags: Mastodon Trends API\n",
    "* If a topic **“goes viral,”** thousands or even millions of people could be talking about it\n",
    "* Mastodon allows you to look up **trending hashtags**, **trending toots** and  **trending links** across the fediverse\n",
    "    * NOTE: **trending toots** and **trending links** are supposed to return lists of items, but each returns only one item at the moment \n",
    "    * **I filed an issue in the Mastodon.py GitHub repository** — the developers acknowledged the bug and are looking into it "
   ]
  },
  {
   "cell_type": "markdown",
   "metadata": {},
   "source": [
    "## **Example:** Getting a List of Trending Hashtags \n",
    "* `trending_tags` returns a list of trending hashtags in the fediverse\n",
    "* Returned as JSON **Tag** objects\n",
    "> https://docs.joinmastodon.org/entities/Tag/\n",
    "* Each contains\n",
    "    * `name`\n",
    "    * `url`\n",
    "    * `history` list of last 7 days' stats for the hashtag\n",
    "    * `following` ― whether the logged in account is following the trending tag"
   ]
  },
  {
   "cell_type": "code",
   "execution_count": 20,
   "metadata": {
    "tags": []
   },
   "outputs": [],
   "source": [
    "trends = mastodon.trending_tags(limit=20)  # 20 max, 10 default"
   ]
  },
  {
   "cell_type": "code",
   "execution_count": 21,
   "metadata": {
    "tags": []
   },
   "outputs": [
    {
     "data": {
      "text/plain": [
       "Tag([('name', 'anycookieasongorpoem'),\n",
       "     ('url', 'https://mastodon.social/tags/anycookieasongorpoem'),\n",
       "     ('history',\n",
       "      [TagHistory([('day',\n",
       "                    datetime.datetime(2025, 7, 11, 0, 0, tzinfo=datetime.timezone.utc)),\n",
       "                   ('uses', '0'),\n",
       "                   ('accounts', '0')]),\n",
       "       TagHistory([('day',\n",
       "                    datetime.datetime(2025, 7, 10, 0, 0, tzinfo=datetime.timezone.utc)),\n",
       "                   ('uses', '356'),\n",
       "                   ('accounts', '106')]),\n",
       "       TagHistory([('day',\n",
       "                    datetime.datetime(2025, 7, 9, 0, 0, tzinfo=datetime.timezone.utc)),\n",
       "                   ('uses', '0'),\n",
       "                   ('accounts', '0')]),\n",
       "       TagHistory([('day',\n",
       "                    datetime.datetime(2025, 7, 8, 0, 0, tzinfo=datetime.timezone.utc)),\n",
       "                   ('uses', '0'),\n",
       "                   ('accounts', '0')]),\n",
       "       TagHistory([('day',\n",
       "                    datetime.datetime(2025, 7, 7, 0, 0, tzinfo=datetime.timezone.utc)),\n",
       "                   ('uses', '0'),\n",
       "                   ('accounts', '0')]),\n",
       "       TagHistory([('day',\n",
       "                    datetime.datetime(2025, 7, 6, 0, 0, tzinfo=datetime.timezone.utc)),\n",
       "                   ('uses', '0'),\n",
       "                   ('accounts', '0')]),\n",
       "       TagHistory([('day',\n",
       "                    datetime.datetime(2025, 7, 5, 0, 0, tzinfo=datetime.timezone.utc)),\n",
       "                   ('uses', '0'),\n",
       "                   ('accounts', '0')])]),\n",
       "     ('following', False),\n",
       "     ('id', '14721842'),\n",
       "     ('trendable', None),\n",
       "     ('usable', None),\n",
       "     ('requires_review', None),\n",
       "     ('featuring', False)])"
      ]
     },
     "execution_count": 21,
     "metadata": {},
     "output_type": "execute_result"
    }
   ],
   "source": [
    "trends[0] # sample dictionary for one hashtag"
   ]
  },
  {
   "cell_type": "markdown",
   "metadata": {},
   "source": [
    "## **Example:** Display Trending Hashtags in Descending Order By Toot Volume over the Last Seven Days"
   ]
  },
  {
   "cell_type": "code",
   "execution_count": 22,
   "metadata": {
    "tags": []
   },
   "outputs": [],
   "source": [
    "def tag_count(tag):\n",
    "    \"\"\"Counts number of times a hashtag was used in last 7 days\"\"\"\n",
    "    total_uses = 0\n",
    "    \n",
    "    for day in tag.history:\n",
    "        total_uses += int(day['uses'])  \n",
    "    \n",
    "    # add attribute to tag object specifying 7-day hashtag count\n",
    "    tag['seven_day_count'] = total_uses \n",
    "    return total_uses"
   ]
  },
  {
   "cell_type": "markdown",
   "metadata": {},
   "source": [
    "* Sort the trends in **descending** order by toot volume:"
   ]
  },
  {
   "cell_type": "code",
   "execution_count": 23,
   "metadata": {
    "tags": []
   },
   "outputs": [],
   "source": [
    "trends.sort(key=tag_count, reverse=True)"
   ]
  },
  {
   "cell_type": "markdown",
   "metadata": {},
   "source": [
    "* Display names, counts and URLs of the **top 20 trending topics**"
   ]
  },
  {
   "cell_type": "code",
   "execution_count": 24,
   "metadata": {
    "tags": []
   },
   "outputs": [
    {
     "name": "stdout",
     "output_type": "stream",
     "text": [
      "anycookieasongorpoem: 356\n",
      "   https://mastodon.social/tags/anycookieasongorpoem\n",
      "rebrandwebsitesortech: 292\n",
      "   https://mastodon.social/tags/rebrandwebsitesortech\n",
      "exciteafictionalcharacter: 213\n",
      "   https://mastodon.social/tags/exciteafictionalcharacter\n",
      "MeerMittwoch: 115\n",
      "   https://mastodon.social/tags/meermittwoch\n",
      "ThrowbackThursday: 109\n",
      "   https://mastodon.social/tags/throwbackthursday\n",
      "FINSUI: 94\n",
      "   https://mastodon.social/tags/finsui\n",
      "musiquinta: 91\n",
      "   https://mastodon.social/tags/musiquinta\n",
      "murderbot: 91\n",
      "   https://mastodon.social/tags/murderbot\n",
      "makershour: 88\n",
      "   https://mastodon.social/tags/makershour\n",
      "doorsday: 69\n",
      "   https://mastodon.social/tags/doorsday\n",
      "ThursdayFiveList: 64\n",
      "   https://mastodon.social/tags/thursdayfivelist\n",
      "lula: 62\n",
      "   https://mastodon.social/tags/lula\n",
      "streamsofdreams: 57\n",
      "   https://mastodon.social/tags/streamsofdreams\n",
      "tbt: 52\n",
      "   https://mastodon.social/tags/tbt\n",
      "GoodTroubleLivesOn: 47\n",
      "   https://mastodon.social/tags/goodtroubleliveson\n",
      "public: 40\n",
      "   https://mastodon.social/tags/public\n",
      "subnautica2: 28\n",
      "   https://mastodon.social/tags/subnautica2\n",
      "mvpbuzz: 25\n",
      "   https://mastodon.social/tags/mvpbuzz\n",
      "nationalkittenday: 20\n",
      "   https://mastodon.social/tags/nationalkittenday\n",
      "ferrero: 16\n",
      "   https://mastodon.social/tags/ferrero\n"
     ]
    }
   ],
   "source": [
    "for tag in trends:\n",
    "    print(f'{tag.name}: {tag[\"seven_day_count\"]}')\n",
    "    print(f'   {tag.url}')"
   ]
  },
  {
   "cell_type": "markdown",
   "metadata": {},
   "source": [
    "<hr style=\"height:2px; border:none; color:#AAA; background-color:#AAA;\">"
   ]
  },
  {
   "cell_type": "markdown",
   "metadata": {
    "tags": []
   },
   "source": [
    "# 12.11 Searching for Toots Containing Specific Hashtags; Getting More than One Page of Results "
   ]
  },
  {
   "cell_type": "markdown",
   "metadata": {
    "tags": []
   },
   "source": [
    "* Mastodon API methods often **return collections of objects** \n",
    "    * Docs describe these as \"Arrays\" \n",
    "    * Mastodon.py returns **lists of Python dictionaries**\n",
    "* For example, `timeline_xxx` functions can return:\n",
    "    * `timeline_hashtag` — toots **containing a specific hashtag**\n",
    "    * `timeline_public` — toots from the **fediverse's public timeline** \n",
    "    * `timeline_local` — toots posted on the **local server**\n",
    "    * `timeline_home` — toots in a user’s **home timeline** (includes accounts followed by the user)\n",
    "* Each Mastodon API call returns a maximum number of items per call\n",
    "    * known as a **page of results**\n",
    "    * default is often 10 or 20\n",
    "    * max is typically 40 for toots and 80 for accounts\n",
    "* **Mastodon.py can handle paging details** with utility functions (as you'll see momentarily)\n",
    "> https://mastodonpy.readthedocs.io/en/stable/12_utilities.html"
   ]
  },
  {
   "cell_type": "markdown",
   "metadata": {},
   "source": [
    "## Functions `print_toot` and `print_toots` from `tootutilities.py`"
   ]
  },
  {
   "cell_type": "markdown",
   "metadata": {},
   "source": [
    "## **Example:** Paging Through Results\n",
    "* We purposely grab only 2 toots per page of results to show the mechanics of paging"
   ]
  },
  {
   "cell_type": "code",
   "execution_count": 25,
   "metadata": {
    "tags": []
   },
   "outputs": [],
   "source": [
    "total_toots = 10 # how many toots to get\n",
    "pages = 5 # of pages of toots to process\n",
    "toots_per_page = total_toots // pages # 2 per page for demo purposes; can do 40/page\n",
    "hashtag = 'football'"
   ]
  },
  {
   "cell_type": "markdown",
   "metadata": {},
   "source": [
    "### Get First Page of Toots Containing a Given Hashtag \n",
    "* `timeline_hashtag` searches public timeline of past toots containing hashtag you specify"
   ]
  },
  {
   "cell_type": "code",
   "execution_count": 26,
   "metadata": {
    "tags": []
   },
   "outputs": [],
   "source": [
    "result = mastodon.timeline_hashtag(hashtag, limit=toots_per_page)\n",
    "saved_toots = result # saved_toots will eventually contain all the toots"
   ]
  },
  {
   "cell_type": "markdown",
   "metadata": {},
   "source": [
    "### Get Remaining Pages of Toots Containing a Hashtag \n",
    "* Mastodon.py utility function **`fetch_next`** gets the next page of results\n",
    "* **Argument is the previous page of results**, which includes the info need by Mastodon.py to get the next page of result"
   ]
  },
  {
   "cell_type": "code",
   "execution_count": 27,
   "metadata": {
    "tags": []
   },
   "outputs": [],
   "source": [
    "for toots in range(pages - 1): # for each remaining page\n",
    "    # save previous page of results\n",
    "    previous_result = result \n",
    "    \n",
    "    # use Mastodon.py utility function fetch_next to get next page of results\n",
    "    result = mastodon.fetch_next(previous_result) \n",
    "\n",
    "    # if there are results add them to saved_toots; otherwise, terminate loop\n",
    "    if result:\n",
    "        saved_toots += result\n",
    "    else:\n",
    "        break # no more results"
   ]
  },
  {
   "cell_type": "code",
   "execution_count": 28,
   "metadata": {
    "tags": []
   },
   "outputs": [
    {
     "data": {
      "text/plain": [
       "10"
      ]
     },
     "execution_count": 28,
     "metadata": {},
     "output_type": "execute_result"
    }
   ],
   "source": [
    "len(saved_toots) # total toots acquired"
   ]
  },
  {
   "cell_type": "code",
   "execution_count": 29,
   "metadata": {
    "tags": []
   },
   "outputs": [
    {
     "name": "stdout",
     "output_type": "stream",
     "text": [
      "AstonVilla:\n"
     ]
    },
    {
     "data": {
      "text/html": [
       "<div style=\"padding-left: 0.5in;\"><p>Aston Villa to Make ‘Sensational’ Move for ‘World-Class’ Star Emery Loves</p><p>Aston Villa could complete a romantic return for Douglas Luiz in the coming months of the transfer window, according to reports – with current club Juventus believed to be ‘willing to do as much as possible’ for him to leave after an unsatisfactory campaign in Turin. Luiz joined Juve…<br><a href=\"https://pubeurope.com/tags/AstonVilla\" class=\"mention hashtag\" rel=\"nofollow noopener\" target=\"_blank\">#<span>AstonVilla</span></a> <a href=\"https://pubeurope.com/tags/AstonVillaFC\" class=\"mention hashtag\" rel=\"nofollow noopener\" target=\"_blank\">#<span>AstonVillaFC</span></a> <a href=\"https://pubeurope.com/tags/England\" class=\"mention hashtag\" rel=\"nofollow noopener\" target=\"_blank\">#<span>England</span></a> <a href=\"https://pubeurope.com/tags/PremierLeague\" class=\"mention hashtag\" rel=\"nofollow noopener\" target=\"_blank\">#<span>PremierLeague</span></a> <a href=\"https://pubeurope.com/tags/EnglishPremierLeague\" class=\"mention hashtag\" rel=\"nofollow noopener\" target=\"_blank\">#<span>EnglishPremierLeague</span></a> <a href=\"https://pubeurope.com/tags/Football\" class=\"mention hashtag\" rel=\"nofollow noopener\" target=\"_blank\">#<span>Football</span></a> <a href=\"https://pubeurope.com/tags/astonvilla\" class=\"mention hashtag\" rel=\"nofollow noopener\" target=\"_blank\">#<span>astonvilla</span></a> <a href=\"https://pubeurope.com/tags/AstonVillaF\" class=\"mention hashtag\" rel=\"nofollow noopener\" target=\"_blank\">#<span>AstonVillaF</span></a>.C<br><a href=\"https://www.eucup.com/1141931/\" rel=\"nofollow noopener\" translate=\"no\" target=\"_blank\"><span class=\"invisible\">https://www.</span><span class=\"\">eucup.com/1141931/</span><span class=\"invisible\"></span></a></p></div>"
      ],
      "text/plain": [
       "<IPython.core.display.HTML object>"
      ]
     },
     "metadata": {},
     "output_type": "display_data"
    },
    {
     "name": "stdout",
     "output_type": "stream",
     "text": [
      "Bournemouth:\n"
     ]
    },
    {
     "data": {
      "text/html": [
       "<div style=\"padding-left: 0.5in;\"><p>Gambling addict from Poole stole £1.7m from company</p><p>Harris later pleaded guilty to&nbsp;fraud by abuse of position.&nbsp; Matthew Mortimer, prosecuting, said: “The defendant was considered a trusted member of staff and described as having a close relationship with the company directors. “What he did had a serious detrimental financial effect on the company.”…<br><a href=\"https://pubeurope.com/tags/Bournemouth\" class=\"mention hashtag\" rel=\"nofollow noopener\" target=\"_blank\">#<span>Bournemouth</span></a> <a href=\"https://pubeurope.com/tags/AFCBournemouth\" class=\"mention hashtag\" rel=\"nofollow noopener\" target=\"_blank\">#<span>AFCBournemouth</span></a> <a href=\"https://pubeurope.com/tags/England\" class=\"mention hashtag\" rel=\"nofollow noopener\" target=\"_blank\">#<span>England</span></a> <a href=\"https://pubeurope.com/tags/PremierLeague\" class=\"mention hashtag\" rel=\"nofollow noopener\" target=\"_blank\">#<span>PremierLeague</span></a> <a href=\"https://pubeurope.com/tags/EnglishPremierLeague\" class=\"mention hashtag\" rel=\"nofollow noopener\" target=\"_blank\">#<span>EnglishPremierLeague</span></a> <a href=\"https://pubeurope.com/tags/Football\" class=\"mention hashtag\" rel=\"nofollow noopener\" target=\"_blank\">#<span>Football</span></a> <a href=\"https://pubeurope.com/tags/a\" class=\"mention hashtag\" rel=\"nofollow noopener\" target=\"_blank\">#<span>a</span></a>.f.c.bournemouth <a href=\"https://pubeurope.com/tags/bournemouth\" class=\"mention hashtag\" rel=\"nofollow noopener\" target=\"_blank\">#<span>bournemouth</span></a><br><a href=\"https://www.eucup.com/1141921/\" rel=\"nofollow noopener\" translate=\"no\" target=\"_blank\"><span class=\"invisible\">https://www.</span><span class=\"\">eucup.com/1141921/</span><span class=\"invisible\"></span></a></p></div>"
      ],
      "text/plain": [
       "<IPython.core.display.HTML object>"
      ]
     },
     "metadata": {},
     "output_type": "display_data"
    },
    {
     "name": "stdout",
     "output_type": "stream",
     "text": [
      "BrentfordFC:\n"
     ]
    },
    {
     "data": {
      "text/html": [
       "<div style=\"padding-left: 0.5in;\"><p>Man Utd served critical ultimatum with Tottenham deal to wreck Amorim dream</p><p>Tottenham Hotspur’s pursuit of Yoane Wissa creates a potentially critical problem for Manchester United in their chase for Bryan Mbeumo, and with a race against time now underway, Sky Sports has at least delivered a positive update for Ruben Amorim. The Red Devils are desperate to bring the Bees…<br><a href=\"https://pubeurope.com/tags/Brentford\" class=\"mention hashtag\" rel=\"nofollow noopener\" target=\"_blank\">#<span>Brentford</span></a> <a href=\"https://pubeurope.com/tags/BrentfordFC\" class=\"mention hashtag\" rel=\"nofollow noopener\" target=\"_blank\">#<span>BrentfordFC</span></a> <a href=\"https://pubeurope.com/tags/England\" class=\"mention hashtag\" rel=\"nofollow noopener\" target=\"_blank\">#<span>England</span></a> <a href=\"https://pubeurope.com/tags/PremierLeague\" class=\"mention hashtag\" rel=\"nofollow noopener\" target=\"_blank\">#<span>PremierLeague</span></a> <a href=\"https://pubeurope.com/tags/EnglishPremierLeague\" class=\"mention hashtag\" rel=\"nofollow noopener\" target=\"_blank\">#<span>EnglishPremierLeague</span></a> <a href=\"https://pubeurope.com/tags/Football\" class=\"mention hashtag\" rel=\"nofollow noopener\" target=\"_blank\">#<span>Football</span></a> <a href=\"https://pubeurope.com/tags/BrentfordF\" class=\"mention hashtag\" rel=\"nofollow noopener\" target=\"_blank\">#<span>BrentfordF</span></a>.C.<br><a href=\"https://www.eucup.com/1141929/\" rel=\"nofollow noopener\" translate=\"no\" target=\"_blank\"><span class=\"invisible\">https://www.</span><span class=\"\">eucup.com/1141929/</span><span class=\"invisible\"></span></a></p></div>"
      ],
      "text/plain": [
       "<IPython.core.display.HTML object>"
      ]
     },
     "metadata": {},
     "output_type": "display_data"
    },
    {
     "name": "stdout",
     "output_type": "stream",
     "text": [
      "CrystalPalace:\n"
     ]
    },
    {
     "data": {
      "text/html": [
       "<div style=\"padding-left: 0.5in;\"><p>Lyon: French side win appeal to stay in Ligue 1 as Crystal Palace wait on Europa League fate</p><p>Crystal Palace’s Europa League dreams now rest with Uefa, with those at Selhurst Park fearing the worst. They are waiting on Uefa to decide whether John Textor’s stake in the club breaches the governing body’s multi-club ownership rules by the end of the week. Uefa’s…<br><a href=\"https://pubeurope.com/tags/CrystalPalace\" class=\"mention hashtag\" rel=\"nofollow noopener\" target=\"_blank\">#<span>CrystalPalace</span></a> <a href=\"https://pubeurope.com/tags/CrystalPalaceFC\" class=\"mention hashtag\" rel=\"nofollow noopener\" target=\"_blank\">#<span>CrystalPalaceFC</span></a> <a href=\"https://pubeurope.com/tags/England\" class=\"mention hashtag\" rel=\"nofollow noopener\" target=\"_blank\">#<span>England</span></a> <a href=\"https://pubeurope.com/tags/PremierLeague\" class=\"mention hashtag\" rel=\"nofollow noopener\" target=\"_blank\">#<span>PremierLeague</span></a> <a href=\"https://pubeurope.com/tags/EnglishPremierLeague\" class=\"mention hashtag\" rel=\"nofollow noopener\" target=\"_blank\">#<span>EnglishPremierLeague</span></a> <a href=\"https://pubeurope.com/tags/Football\" class=\"mention hashtag\" rel=\"nofollow noopener\" target=\"_blank\">#<span>Football</span></a> <a href=\"https://pubeurope.com/tags/CrystalPalaceF\" class=\"mention hashtag\" rel=\"nofollow noopener\" target=\"_blank\">#<span>CrystalPalaceF</span></a>.C.<br><a href=\"https://www.eucup.com/1141927/\" rel=\"nofollow noopener\" translate=\"no\" target=\"_blank\"><span class=\"invisible\">https://www.</span><span class=\"\">eucup.com/1141927/</span><span class=\"invisible\"></span></a></p></div>"
      ],
      "text/plain": [
       "<IPython.core.display.HTML object>"
      ]
     },
     "metadata": {},
     "output_type": "display_data"
    },
    {
     "name": "stdout",
     "output_type": "stream",
     "text": [
      "EvertonFC:\n"
     ]
    },
    {
     "data": {
      "text/html": [
       "<div style=\"padding-left: 0.5in;\"><p>Everton sign Thierno Barry in biggest buy under David Moyes</p><p>Your support helps us to tell the story From reproductive rights to climate change to Big Tech, The Independent is on the ground when the story is developing. Whether it’s investigating the financials of Elon Musk’s pro-Trump PAC or producing our latest documentary, ‘The A Word’, which shines a light on the …<br><a href=\"https://pubeurope.com/tags/Everton\" class=\"mention hashtag\" rel=\"nofollow noopener\" target=\"_blank\">#<span>Everton</span></a> <a href=\"https://pubeurope.com/tags/EvertonFC\" class=\"mention hashtag\" rel=\"nofollow noopener\" target=\"_blank\">#<span>EvertonFC</span></a> <a href=\"https://pubeurope.com/tags/England\" class=\"mention hashtag\" rel=\"nofollow noopener\" target=\"_blank\">#<span>England</span></a> <a href=\"https://pubeurope.com/tags/PremierLeague\" class=\"mention hashtag\" rel=\"nofollow noopener\" target=\"_blank\">#<span>PremierLeague</span></a> <a href=\"https://pubeurope.com/tags/EnglishPremierLeague\" class=\"mention hashtag\" rel=\"nofollow noopener\" target=\"_blank\">#<span>EnglishPremierLeague</span></a> <a href=\"https://pubeurope.com/tags/Football\" class=\"mention hashtag\" rel=\"nofollow noopener\" target=\"_blank\">#<span>Football</span></a> <a href=\"https://pubeurope.com/tags/everton\" class=\"mention hashtag\" rel=\"nofollow noopener\" target=\"_blank\">#<span>everton</span></a> <a href=\"https://pubeurope.com/tags/EvertonF\" class=\"mention hashtag\" rel=\"nofollow noopener\" target=\"_blank\">#<span>EvertonF</span></a>.C.<br><a href=\"https://www.eucup.com/1141917/\" rel=\"nofollow noopener\" translate=\"no\" target=\"_blank\"><span class=\"invisible\">https://www.</span><span class=\"\">eucup.com/1141917/</span><span class=\"invisible\"></span></a></p></div>"
      ],
      "text/plain": [
       "<IPython.core.display.HTML object>"
      ]
     },
     "metadata": {},
     "output_type": "display_data"
    },
    {
     "name": "stdout",
     "output_type": "stream",
     "text": [
      "IpswichTown:\n"
     ]
    },
    {
     "data": {
      "text/html": [
       "<div style=\"padding-left: 0.5in;\"><p>Ipswich Town: Jens Cajuste stalls Besiktas move as Blues enquire</p><p>The midfielder spent last season on loan at Portman Road, featuring 30 times in the Premier League as the Blues were relegated. Manager Kieran McKenna subsequently revealed that they would like to bring Cajuste back from Napoli ahead of their Championship campaign, but admitted that it would be a diff…<br><a href=\"https://pubeurope.com/tags/IpswichTown\" class=\"mention hashtag\" rel=\"nofollow noopener\" target=\"_blank\">#<span>IpswichTown</span></a> <a href=\"https://pubeurope.com/tags/IpswichTownFC\" class=\"mention hashtag\" rel=\"nofollow noopener\" target=\"_blank\">#<span>IpswichTownFC</span></a> <a href=\"https://pubeurope.com/tags/England\" class=\"mention hashtag\" rel=\"nofollow noopener\" target=\"_blank\">#<span>England</span></a> <a href=\"https://pubeurope.com/tags/PremierLeague\" class=\"mention hashtag\" rel=\"nofollow noopener\" target=\"_blank\">#<span>PremierLeague</span></a> <a href=\"https://pubeurope.com/tags/EnglishPremierLeague\" class=\"mention hashtag\" rel=\"nofollow noopener\" target=\"_blank\">#<span>EnglishPremierLeague</span></a> <a href=\"https://pubeurope.com/tags/Football\" class=\"mention hashtag\" rel=\"nofollow noopener\" target=\"_blank\">#<span>Football</span></a> <a href=\"https://pubeurope.com/tags/ipswichtownf\" class=\"mention hashtag\" rel=\"nofollow noopener\" target=\"_blank\">#<span>ipswichtownf</span></a>.c<br><a href=\"https://www.eucup.com/1141905/\" rel=\"nofollow noopener\" translate=\"no\" target=\"_blank\"><span class=\"invisible\">https://www.</span><span class=\"\">eucup.com/1141905/</span><span class=\"invisible\"></span></a></p></div>"
      ],
      "text/plain": [
       "<IPython.core.display.HTML object>"
      ]
     },
     "metadata": {},
     "output_type": "display_data"
    },
    {
     "name": "stdout",
     "output_type": "stream",
     "text": [
      "LeedsUnited:\n"
     ]
    },
    {
     "data": {
      "text/html": [
       "<div style=\"padding-left: 0.5in;\"><p>Anton Stach and experienced Premier League star</p><p>(Credit: Imago) Thu 10 July 2025 6:10, UK Leeds United have endured a mixed start to their summer transfer window so far. The Whites have already secured four new signings as they aim to strengthen Daniel Farke’s squad as much as possible ahead of their top-flight return, including Jaka Bijol and Gabriel Gudmundsson. However, Leeds […<br><a href=\"https://pubeurope.com/tags/LeedsUnited\" class=\"mention hashtag\" rel=\"nofollow noopener\" target=\"_blank\">#<span>LeedsUnited</span></a> <a href=\"https://pubeurope.com/tags/LeedsUnitedFC\" class=\"mention hashtag\" rel=\"nofollow noopener\" target=\"_blank\">#<span>LeedsUnitedFC</span></a> <a href=\"https://pubeurope.com/tags/England\" class=\"mention hashtag\" rel=\"nofollow noopener\" target=\"_blank\">#<span>England</span></a> <a href=\"https://pubeurope.com/tags/PremierLeague\" class=\"mention hashtag\" rel=\"nofollow noopener\" target=\"_blank\">#<span>PremierLeague</span></a> <a href=\"https://pubeurope.com/tags/EnglishPremierLeague\" class=\"mention hashtag\" rel=\"nofollow noopener\" target=\"_blank\">#<span>EnglishPremierLeague</span></a> <a href=\"https://pubeurope.com/tags/Football\" class=\"mention hashtag\" rel=\"nofollow noopener\" target=\"_blank\">#<span>Football</span></a><br><a href=\"https://www.eucup.com/1141915/\" rel=\"nofollow noopener\" translate=\"no\" target=\"_blank\"><span class=\"invisible\">https://www.</span><span class=\"\">eucup.com/1141915/</span><span class=\"invisible\"></span></a></p></div>"
      ],
      "text/plain": [
       "<IPython.core.display.HTML object>"
      ]
     },
     "metadata": {},
     "output_type": "display_data"
    },
    {
     "name": "stdout",
     "output_type": "stream",
     "text": [
      "lasvegasraiders:\n"
     ]
    },
    {
     "data": {
      "text/html": [
       "<div style=\"padding-left: 0.5in;\"><p>Raiders legend used a special situation all too familiar with fans to describe the bond between Geno Smith and Pete Carroll</p><p>Raiders legend used a special situation all too familiar with fans to describe the bond between Geno Smith…<br><a href=\"https://channels.im/tags/NFL\" class=\"mention hashtag\" rel=\"nofollow noopener\" target=\"_blank\">#<span>NFL</span></a> <a href=\"https://channels.im/tags/LasVegasRaiders\" class=\"mention hashtag\" rel=\"nofollow noopener\" target=\"_blank\">#<span>LasVegasRaiders</span></a> <a href=\"https://channels.im/tags/LasVegas\" class=\"mention hashtag\" rel=\"nofollow noopener\" target=\"_blank\">#<span>LasVegas</span></a> <a href=\"https://channels.im/tags/Raiders\" class=\"mention hashtag\" rel=\"nofollow noopener\" target=\"_blank\">#<span>Raiders</span></a> <a href=\"https://channels.im/tags/Football\" class=\"mention hashtag\" rel=\"nofollow noopener\" target=\"_blank\">#<span>Football</span></a> <a href=\"https://channels.im/tags/GenoSmith\" class=\"mention hashtag\" rel=\"nofollow noopener\" target=\"_blank\">#<span>GenoSmith</span></a> <a href=\"https://channels.im/tags/JonGruden\" class=\"mention hashtag\" rel=\"nofollow noopener\" target=\"_blank\">#<span>JonGruden</span></a> <a href=\"https://channels.im/tags/KansasCityChiefs\" class=\"mention hashtag\" rel=\"nofollow noopener\" target=\"_blank\">#<span>KansasCityChiefs</span></a> <a href=\"https://channels.im/tags/LamarJackson\" class=\"mention hashtag\" rel=\"nofollow noopener\" target=\"_blank\">#<span>LamarJackson</span></a> <a href=\"https://channels.im/tags/MinnesotaVikings\" class=\"mention hashtag\" rel=\"nofollow noopener\" target=\"_blank\">#<span>MinnesotaVikings</span></a> <a href=\"https://channels.im/tags/PatrickMahomes\" class=\"mention hashtag\" rel=\"nofollow noopener\" target=\"_blank\">#<span>PatrickMahomes</span></a> <a href=\"https://channels.im/tags/petecarroll\" class=\"mention hashtag\" rel=\"nofollow noopener\" target=\"_blank\">#<span>petecarroll</span></a> <a href=\"https://channels.im/tags/playoffgame\" class=\"mention hashtag\" rel=\"nofollow noopener\" target=\"_blank\">#<span>playoffgame</span></a> <a href=\"https://channels.im/tags/RichGannon\" class=\"mention hashtag\" rel=\"nofollow noopener\" target=\"_blank\">#<span>RichGannon</span></a> <a href=\"https://channels.im/tags/SeattleSeahawksQB\" class=\"mention hashtag\" rel=\"nofollow noopener\" target=\"_blank\">#<span>SeattleSeahawksQB</span></a> <a href=\"https://channels.im/tags/WashingtonCommanders\" class=\"mention hashtag\" rel=\"nofollow noopener\" target=\"_blank\">#<span>WashingtonCommanders</span></a><br><a href=\"https://www.rawchili.com/nfl/197701/\" rel=\"nofollow noopener\" translate=\"no\" target=\"_blank\"><span class=\"invisible\">https://www.</span><span class=\"\">rawchili.com/nfl/197701/</span><span class=\"invisible\"></span></a></p></div>"
      ],
      "text/plain": [
       "<IPython.core.display.HTML object>"
      ]
     },
     "metadata": {},
     "output_type": "display_data"
    },
    {
     "name": "stdout",
     "output_type": "stream",
     "text": [
      "kansascitychiefs:\n"
     ]
    },
    {
     "data": {
      "text/html": [
       "<div style=\"padding-left: 0.5in;\"><p>Chiefs Star Reveals Patrick Mahomes Is ‘In a Different Mode’ After Crushing Super Bowl Loss</p><p>It’s been a while since the Kansas City Chiefs have been in this position, but they can comfortably…<br><a href=\"https://channels.im/tags/NFL\" class=\"mention hashtag\" rel=\"nofollow noopener\" target=\"_blank\">#<span>NFL</span></a> <a href=\"https://channels.im/tags/KansasCityChiefs\" class=\"mention hashtag\" rel=\"nofollow noopener\" target=\"_blank\">#<span>KansasCityChiefs</span></a> <a href=\"https://channels.im/tags/KansasCity\" class=\"mention hashtag\" rel=\"nofollow noopener\" target=\"_blank\">#<span>KansasCity</span></a> <a href=\"https://channels.im/tags/Kansas\" class=\"mention hashtag\" rel=\"nofollow noopener\" target=\"_blank\">#<span>Kansas</span></a> <a href=\"https://channels.im/tags/Chiefs\" class=\"mention hashtag\" rel=\"nofollow noopener\" target=\"_blank\">#<span>Chiefs</span></a> <a href=\"https://channels.im/tags/Football\" class=\"mention hashtag\" rel=\"nofollow noopener\" target=\"_blank\">#<span>Football</span></a><br><a href=\"https://www.rawchili.com/nfl/197627/\" rel=\"nofollow noopener\" translate=\"no\" target=\"_blank\"><span class=\"invisible\">https://www.</span><span class=\"\">rawchili.com/nfl/197627/</span><span class=\"invisible\"></span></a></p></div>"
      ],
      "text/plain": [
       "<IPython.core.display.HTML object>"
      ]
     },
     "metadata": {},
     "output_type": "display_data"
    },
    {
     "name": "stdout",
     "output_type": "stream",
     "text": [
      "ManchesterCity:\n"
     ]
    },
    {
     "data": {
      "text/html": [
       "<div style=\"padding-left: 0.5in;\"><p>Ex-Manchester City’s Gareth Taylor leading candidate for Liverpool job</p><p>Former Manchester City boss Gareth Taylor is the leading candidate to take over as Liverpool manager in the Women’s Super League. Without a manager since sacking Matt Beard in February, the Reds have been searching for a replacement. Taylor, 52, took…<br><a href=\"https://pubeurope.com/tags/ManchesterCity\" class=\"mention hashtag\" rel=\"nofollow noopener\" target=\"_blank\">#<span>ManchesterCity</span></a> <a href=\"https://pubeurope.com/tags/ManchesterCityFC\" class=\"mention hashtag\" rel=\"nofollow noopener\" target=\"_blank\">#<span>ManchesterCityFC</span></a> <a href=\"https://pubeurope.com/tags/ManCity\" class=\"mention hashtag\" rel=\"nofollow noopener\" target=\"_blank\">#<span>ManCity</span></a> <a href=\"https://pubeurope.com/tags/ManCityFC\" class=\"mention hashtag\" rel=\"nofollow noopener\" target=\"_blank\">#<span>ManCityFC</span></a> <a href=\"https://pubeurope.com/tags/England\" class=\"mention hashtag\" rel=\"nofollow noopener\" target=\"_blank\">#<span>England</span></a> <a href=\"https://pubeurope.com/tags/PremierLeague\" class=\"mention hashtag\" rel=\"nofollow noopener\" target=\"_blank\">#<span>PremierLeague</span></a> <a href=\"https://pubeurope.com/tags/EnglishPremierLeague\" class=\"mention hashtag\" rel=\"nofollow noopener\" target=\"_blank\">#<span>EnglishPremierLeague</span></a> <a href=\"https://pubeurope.com/tags/Football\" class=\"mention hashtag\" rel=\"nofollow noopener\" target=\"_blank\">#<span>Football</span></a> <a href=\"https://pubeurope.com/tags/Manchestercity\" class=\"mention hashtag\" rel=\"nofollow noopener\" target=\"_blank\">#<span>Manchestercity</span></a> <a href=\"https://pubeurope.com/tags/ManchesterCityF\" class=\"mention hashtag\" rel=\"nofollow noopener\" target=\"_blank\">#<span>ManchesterCityF</span></a>.C.<br><a href=\"https://www.eucup.com/1141945/\" rel=\"nofollow noopener\" translate=\"no\" target=\"_blank\"><span class=\"invisible\">https://www.</span><span class=\"\">eucup.com/1141945/</span><span class=\"invisible\"></span></a></p></div>"
      ],
      "text/plain": [
       "<IPython.core.display.HTML object>"
      ]
     },
     "metadata": {},
     "output_type": "display_data"
    }
   ],
   "source": [
    "import tootutilities \n",
    "tootutilities.print_toots(saved_toots)"
   ]
  },
  {
   "cell_type": "markdown",
   "metadata": {},
   "source": [
    "<hr style=\"height:2px; border:none; color:#AAA; background-color:#AAA;\">"
   ]
  },
  {
   "cell_type": "markdown",
   "metadata": {
    "tags": []
   },
   "source": [
    "# 12.12 Cleaning/Preprocessing Toots for Analysis\n",
    "* **Data cleaning** is one of data scientists' most common and important tasks \n",
    "* Depending on the text analyses you wish to perform, you may need to normalize text so NLP tools can \"understand\" it\n",
    "    * abbreviations, slang, incorrectly spelled words, inconsistent formatting, etc. can limit NLP tools' ability to understand and analyze text \n",
    "* Some NLP tasks (Lesson 11) for normalizing social media posts\n",
    "    * Converting all text to the same case\n",
    "    * Removing `#` from hashtags, `@`-mentions, duplicates, hashtags\n",
    "    * Removing excess whitespace, punctuation, **stop words**, URLs\n",
    "    * **Stemming** and **lemmatization**\n",
    "    * **Tokenization**\n",
    "    * Removing formatting, like HTML, which NLP tools might not understand"
   ]
  },
  {
   "cell_type": "markdown",
   "metadata": {},
   "source": [
    "### **BeautifulSoup4** Library\n",
    "* https://www.crummy.com/software/BeautifulSoup/\n",
    "> `pip install beautifulsoup4`\n",
    "* Most popular library for **parsing HTML and extracting content** from it\n",
    "* Commonly used to **data-mine content in web pages**"
   ]
  },
  {
   "cell_type": "markdown",
   "metadata": {
    "tags": []
   },
   "source": [
    "### **tweet-preprocessor** Library \n",
    "* https://github.com/s/preprocessor\n",
    "* Library designed to clean tweets, but useful for posts in general\n",
    "* `pip install tweet-preprocessor`\n",
    "* Can automatically remove any combination of:\n",
    "\n",
    "| Option | Option constant |\n",
    "| :--- | :--- |\n",
    "| **`OPT.MENTION`** | @-Mentions (e.g., `@nasa`) |\n",
    "| **`OPT.EMOJI`** | Emoji |\n",
    "| **`OPT.HASHTAG`** | Hashtag (e.g., `#mars`) |\n",
    "| **`OPT.NUMBER`** | Number |\n",
    "| **`OPT.RESERVED`** | Twitter reserved Words (`RT` and `FAV`) |\n",
    "| **`OPT.SMILEY`** | Smiley |\n",
    "| **`OPT.URL`** | URL |"
   ]
  },
  {
   "cell_type": "markdown",
   "metadata": {},
   "source": [
    "## **Example:** Cleaning a Toot Containing HTML and a URL"
   ]
  },
  {
   "cell_type": "code",
   "execution_count": 30,
   "metadata": {
    "tags": []
   },
   "outputs": [],
   "source": [
    "toot_text = '<p style=\"padding-left: 3em\">A sample fake toot with a URL https://nasa.gov</p>'"
   ]
  },
  {
   "cell_type": "markdown",
   "metadata": {},
   "source": [
    "* **BeautifulSoup** library can be used to **parse HTML and extract content** from it"
   ]
  },
  {
   "cell_type": "code",
   "execution_count": 31,
   "metadata": {
    "tags": []
   },
   "outputs": [],
   "source": [
    "from bs4 import BeautifulSoup"
   ]
  },
  {
   "cell_type": "code",
   "execution_count": 32,
   "metadata": {
    "tags": []
   },
   "outputs": [],
   "source": [
    "soup = BeautifulSoup(toot_text, 'html.parser') "
   ]
  },
  {
   "cell_type": "code",
   "execution_count": 33,
   "metadata": {
    "tags": []
   },
   "outputs": [],
   "source": [
    "plain_text = soup.get_text() # remove all HTML/CSS tags and commands"
   ]
  },
  {
   "cell_type": "code",
   "execution_count": 34,
   "metadata": {
    "tags": []
   },
   "outputs": [
    {
     "data": {
      "text/plain": [
       "'A sample fake toot with a URL https://nasa.gov'"
      ]
     },
     "execution_count": 34,
     "metadata": {},
     "output_type": "execute_result"
    }
   ],
   "source": [
    "plain_text"
   ]
  },
  {
   "cell_type": "markdown",
   "metadata": {},
   "source": [
    "* The **tweet-preprocessor** library’s module name is **`preprocessor`**"
   ]
  },
  {
   "cell_type": "code",
   "execution_count": 35,
   "metadata": {
    "tags": []
   },
   "outputs": [],
   "source": [
    "import preprocessor as p"
   ]
  },
  {
   "cell_type": "code",
   "execution_count": 36,
   "metadata": {
    "tags": []
   },
   "outputs": [],
   "source": [
    "p.set_options(p.OPT.URL)"
   ]
  },
  {
   "cell_type": "code",
   "execution_count": 37,
   "metadata": {
    "tags": []
   },
   "outputs": [
    {
     "data": {
      "text/plain": [
       "'A sample fake toot with a URL'"
      ]
     },
     "execution_count": 37,
     "metadata": {},
     "output_type": "execute_result"
    }
   ],
   "source": [
    "p.clean(plain_text)"
   ]
  },
  {
   "cell_type": "markdown",
   "metadata": {},
   "source": [
    "------"
   ]
  },
  {
   "cell_type": "markdown",
   "metadata": {
    "tags": []
   },
   "source": [
    "# 12.13 Mastodon Streaming API\n",
    "* Your app can receive various Mastodon streams as they occur in real-time\n",
    "    * `stream_hashtag` — toots containing specified hashtag (home timeline and notifications)\n",
    "    * `stream_user` — events related to the logged in user account\n",
    "    * `stream_public` — public fediverse event stream\n",
    "    * `stream_local` — local server event stream\n",
    "    * `stream_list` — events for the specified user, but resticted to accounts from a list "
   ]
  },
  {
   "cell_type": "markdown",
   "metadata": {
    "tags": []
   },
   "source": [
    "## Creating a Subclass of `StreamListener` \n",
    "* Mastodon **pushes** data to your listener\n",
    "* Streaming rate varies \n",
    "* Create a **subclass of Mastodon.py’s `StreamListener` class** to process the stream\n",
    "* Mastodon.py calls `StreamListener` methods as it receives events\n",
    "    * `on_update(self, status)` is called when when a toot arrives from the stream\n",
    "    * `StreamListener` defines other **`on_`** methods for other \"events\"\n",
    "    > https://mastodonpy.readthedocs.io/en/stable/10_streaming.html#streamlistener\n",
    "    * Override only the methods your app needs"
   ]
  },
  {
   "cell_type": "markdown",
   "metadata": {
    "tags": []
   },
   "source": [
    "## Class `TootListener` (Located in tootlistener.py)"
   ]
  },
  {
   "cell_type": "markdown",
   "metadata": {
    "tags": []
   },
   "source": [
    "## **Example:** Streaming the Mastodon Federated Timeline"
   ]
  },
  {
   "cell_type": "markdown",
   "metadata": {
    "tags": []
   },
   "source": [
    "### Creating a `TootListener` \n",
    "* `StreamListener` subclass `TootListener` manages the connection to the Mastodon stream and receives and processes the toots"
   ]
  },
  {
   "cell_type": "code",
   "execution_count": 38,
   "metadata": {
    "tags": []
   },
   "outputs": [],
   "source": [
    "import tootlistener "
   ]
  },
  {
   "cell_type": "code",
   "execution_count": 39,
   "metadata": {
    "tags": []
   },
   "outputs": [],
   "source": [
    "toot_listener = tootlistener.TootListener(limit=5)"
   ]
  },
  {
   "cell_type": "markdown",
   "metadata": {
    "tags": []
   },
   "source": [
    "### Streaming All Public Events\n",
    "* Events that are not toots are ignored by our `StreamListener` subclass\n",
    "    * notifications (e.g., someone followed you or reblogged your post)\n",
    "    * a toot deleted\n",
    "    * someone direct messaged you\n",
    "    * a toot was edited\n",
    "    * the streaming connection terminated\n",
    "* `stream_public` starts the live stream\n",
    "    * `toot_listener` receives each event—for toots, displays toot text\n",
    "    * `run_async=True` ensures that `stream_public` **returns a stream handle** we can use to **close the stream**\n",
    "* **Asynchronous vs. Synchronous Streams**\n",
    "    * `run_async=True` (asynchronous) runs the stream in a separate thread and returns a stream handle for managing the stream\n",
    "    * `run_async=False` (synchronous) runs the stream forever unless an unanticipated failure occurs, such as an unhandled exception"
   ]
  },
  {
   "cell_type": "code",
   "execution_count": 40,
   "metadata": {
    "tags": []
   },
   "outputs": [
    {
     "name": "stdout",
     "output_type": "stream",
     "text": [
      "prtimes:\n",
      "ORIGINAL: \n"
     ]
    },
    {
     "data": {
      "text/html": [
       "<div style=\"padding-left: 0.5in;\"><p>【新刊】11匹の保護猫と暮らすYouTuberの日常が漫画に。「にゃんかつ 11匹と2人の暮らし」2025年7月22日(火)より配信開始！<br><a href=\"https://prtimes.jp/main/html/rd/p/000017290.000007006.html\" rel=\"nofollow noopener\" translate=\"no\" target=\"_blank\"><span class=\"invisible\">https://</span><span class=\"ellipsis\">prtimes.jp/main/html/rd/p/0000</span><span class=\"invisible\">17290.000007006.html</span></a></p><p><a href=\"https://rss-mstdn.studiofreesia.com/tags/prtimes\" class=\"mention hashtag\" rel=\"nofollow noopener\" target=\"_blank\">#<span>prtimes</span></a> <a href=\"https://rss-mstdn.studiofreesia.com/tags/%E3%83%97%E3%83%AC%E3%82%B9%E3%83%AA%E3%83%AA%E3%83%BC%E3%82%B9\" class=\"mention hashtag\" rel=\"nofollow noopener\" target=\"_blank\">#<span>プレスリリース</span></a> <a href=\"https://rss-mstdn.studiofreesia.com/tags/%E3%83%8B%E3%83%A5%E3%83%BC%E3%82%B9%E3%83%AA%E3%83%AA%E3%83%BC%E3%82%B9\" class=\"mention hashtag\" rel=\"nofollow noopener\" target=\"_blank\">#<span>ニュースリリース</span></a> <a href=\"https://rss-mstdn.studiofreesia.com/tags/%E9%85%8D%E4%BF%A1\" class=\"mention hashtag\" rel=\"nofollow noopener\" target=\"_blank\">#<span>配信</span></a> <a href=\"https://rss-mstdn.studiofreesia.com/tags/%E3%82%B5%E3%82%A4%E3%83%88\" class=\"mention hashtag\" rel=\"nofollow noopener\" target=\"_blank\">#<span>サイト</span></a> <a href=\"https://rss-mstdn.studiofreesia.com/tags/%E3%82%B5%E3%83%BC%E3%83%93%E3%82%B9\" class=\"mention hashtag\" rel=\"nofollow noopener\" target=\"_blank\">#<span>サービス</span></a> <a href=\"https://rss-mstdn.studiofreesia.com/tags/%E6%96%B9%E6%B3%95\" class=\"mention hashtag\" rel=\"nofollow noopener\" target=\"_blank\">#<span>方法</span></a> <a href=\"https://rss-mstdn.studiofreesia.com/tags/%E4%BB%A3%E8%A1%8C\" class=\"mention hashtag\" rel=\"nofollow noopener\" target=\"_blank\">#<span>代行</span></a> <a href=\"https://rss-mstdn.studiofreesia.com/tags/PR_TIMES\" class=\"mention hashtag\" rel=\"nofollow noopener\" target=\"_blank\">#<span>PR_TIMES</span></a></p></div>"
      ],
      "text/plain": [
       "<IPython.core.display.HTML object>"
      ]
     },
     "metadata": {},
     "output_type": "display_data"
    },
    {
     "name": "stdout",
     "output_type": "stream",
     "text": [
      "TRANSLATED: \n"
     ]
    },
    {
     "data": {
      "text/html": [
       "<div style=\"padding-left: 0.5in;\">New Book] A YouTuber's Daily Life with 11 Protective Cats Becomes a Manga. NyanKatsu: 11 Cats and Two People's Lives\" will be available from Tuesday, July 22, 2025. https://prtimes.jp/main/html/rd/p/000017290.000007006.html#prtimes #PressRelease #NewsRelease #Distribution #Site #Site #Service #Service #How #Service #How #Service #How #Service #How #Service Services #How #Agency #PR_TIMES</div>"
      ],
      "text/plain": [
       "<IPython.core.display.HTML object>"
      ]
     },
     "metadata": {},
     "output_type": "display_data"
    },
    {
     "name": "stdout",
     "output_type": "stream",
     "text": [
      "\n",
      "Farbs:\n"
     ]
    },
    {
     "data": {
      "text/html": [
       "<div style=\"padding-left: 0.5in;\"><p><span class=\"h-card\" translate=\"no\"><a href=\"https://retro.social/@ifixcoinops\" class=\"u-url mention\">@<span>ifixcoinops</span></a></span> Hi hi! I was playing this Mediaeval Madness take last night and the outlanes were like twin black holes gobbling up every ball in seconds. Is it normal for them to be set as wide as possible or was the operator being a ****?</p></div>"
      ],
      "text/plain": [
       "<IPython.core.display.HTML object>"
      ]
     },
     "metadata": {},
     "output_type": "display_data"
    },
    {
     "name": "stdout",
     "output_type": "stream",
     "text": [
      "\n",
      "nijisanji_topics:\n",
      "ORIGINAL: \n"
     ]
    },
    {
     "data": {
      "text/html": [
       "<div style=\"padding-left: 0.5in;\"><p>[たこ] パパと父さん / <a href=\"https://affiliate.suruga-ya.jp/modules/af/af_jump.php?user_id=4277&amp;goods_url=https://www.suruga-ya.jp/product/detail/ZHOTI407952\" rel=\"nofollow noopener\" target=\"_blank\">https://affiliate.suruga-ya.jp/modules/af/af_jump.php?user_id=4277&amp;goods_url=https://www.suruga-ya.jp/product/detail/ZHOTI407952</a></p></div>"
      ],
      "text/plain": [
       "<IPython.core.display.HTML object>"
      ]
     },
     "metadata": {},
     "output_type": "display_data"
    },
    {
     "name": "stdout",
     "output_type": "stream",
     "text": [
      "TRANSLATED: \n"
     ]
    },
    {
     "data": {
      "text/html": [
       "<div style=\"padding-left: 0.5in;\">[Octopus] Dad and Dad / https://affiliate.suruga-ya.jp/modules/af/af_jump.php?user_id=4277&goods_url=https://www.suruga-ya.jp/product/detail/ ZHOTI407952</div>"
      ],
      "text/plain": [
       "<IPython.core.display.HTML object>"
      ]
     },
     "metadata": {},
     "output_type": "display_data"
    },
    {
     "name": "stdout",
     "output_type": "stream",
     "text": [
      "\n",
      "PemudapancasilaFM:\n"
     ]
    },
    {
     "data": {
      "text/html": [
       "<div style=\"padding-left: 0.5in;\"><p>Now playing on PP Semarang: apakah kita hanya bercanda by tissa biani! Tune in now: <a href=\"https://radio.pemudapancasila.or.id/public/pp_semarang\" target=\"_blank\" rel=\"nofollow noopener\" translate=\"no\"><span class=\"invisible\">https://</span><span class=\"ellipsis\">radio.pemudapancasila.or.id/pu</span><span class=\"invisible\">blic/pp_semarang</span></a> <a href=\"https://mastodon.social/tags/PemudapancasilaFM\" class=\"mention hashtag\" rel=\"tag\">#<span>PemudapancasilaFM</span></a></p></div>"
      ],
      "text/plain": [
       "<IPython.core.display.HTML object>"
      ]
     },
     "metadata": {},
     "output_type": "display_data"
    },
    {
     "name": "stdout",
     "output_type": "stream",
     "text": [
      "\n",
      "nijisanji_topics:\n",
      "ORIGINAL: \n"
     ]
    },
    {
     "data": {
      "text/html": [
       "<div style=\"padding-left: 0.5in;\"><p>[pota焼] K視庁公安部風見裕也(仮) / <a href=\"https://affiliate.suruga-ya.jp/modules/af/af_jump.php?user_id=4277&amp;goods_url=https://www.suruga-ya.jp/product/detail/ZHOTI390143\" rel=\"nofollow noopener\" target=\"_blank\">https://affiliate.suruga-ya.jp/modules/af/af_jump.php?user_id=4277&amp;goods_url=https://www.suruga-ya.jp/product/detail/ZHOTI390143</a></p></div>"
      ],
      "text/plain": [
       "<IPython.core.display.HTML object>"
      ]
     },
     "metadata": {},
     "output_type": "display_data"
    },
    {
     "name": "stdout",
     "output_type": "stream",
     "text": [
      "TRANSLATED: \n"
     ]
    },
    {
     "data": {
      "text/html": [
       "<div style=\"padding-left: 0.5in;\">[pota焼] K視庁公安部風見裕也(仮) / https://affiliate.suruga-ya.jp/modules/af/af_jump.php?user_id=4277&goods_url=https://www.suruga-ya.jp/product/detail/ZHOTI390143</div>"
      ],
      "text/plain": [
       "<IPython.core.display.HTML object>"
      ]
     },
     "metadata": {},
     "output_type": "display_data"
    },
    {
     "name": "stdout",
     "output_type": "stream",
     "text": [
      "\n"
     ]
    }
   ],
   "source": [
    "stream = mastodon.stream_public(toot_listener, run_async=True)\n",
    "toot_listener.stream = stream  # so toot_listener to terminate stream later"
   ]
  },
  {
   "cell_type": "markdown",
   "metadata": {},
   "source": [
    "------"
   ]
  },
  {
   "cell_type": "markdown",
   "metadata": {
    "tags": []
   },
   "source": [
    "# 12.14 **Example:** Sentiment Analysis \n",
    "* Political researchers might use during elections to understand how people feel about specific politicians and issues, and **how they're likely to vote**\n",
    "* Companies might use to see **what people are saying about their products and competitors’ products**\n",
    "* Class `SentimentListener` (in `sentimentlistener.py`) checks sentiment on toots "
   ]
  },
  {
   "cell_type": "markdown",
   "metadata": {
    "jp-MarkdownHeadingCollapsed": true,
    "tags": []
   },
   "source": [
    "## Class `SentimentListener` (in sentimentlistener.py)"
   ]
  },
  {
   "cell_type": "markdown",
   "metadata": {
    "tags": []
   },
   "source": [
    "## Main Application"
   ]
  },
  {
   "cell_type": "markdown",
   "metadata": {
    "tags": []
   },
   "source": [
    "### Specify number of toots to tally"
   ]
  },
  {
   "cell_type": "code",
   "execution_count": 41,
   "metadata": {
    "tags": []
   },
   "outputs": [],
   "source": [
    "limit = 10"
   ]
  },
  {
   "cell_type": "markdown",
   "metadata": {
    "tags": []
   },
   "source": [
    "### Set up Dictionary to Track Toot Sentiment"
   ]
  },
  {
   "cell_type": "code",
   "execution_count": 50,
   "metadata": {
    "tags": []
   },
   "outputs": [],
   "source": [
    "sentiment_dict = {'positive': 0, 'neutral': 0, 'negative': 0}"
   ]
  },
  {
   "cell_type": "markdown",
   "metadata": {
    "tags": []
   },
   "source": [
    "### Create `StreamListener` Subclass Object"
   ]
  },
  {
   "cell_type": "code",
   "execution_count": 51,
   "metadata": {
    "tags": []
   },
   "outputs": [],
   "source": [
    "import sentimentlistener \n",
    "sentiment_listener = sentimentlistener.SentimentListener(sentiment_dict, limit)"
   ]
  },
  {
   "cell_type": "markdown",
   "metadata": {
    "tags": []
   },
   "source": [
    "### Start Stream and Store Its Handle"
   ]
  },
  {
   "cell_type": "code",
   "execution_count": 52,
   "metadata": {
    "tags": []
   },
   "outputs": [
    {
     "name": "stdout",
     "output_type": "stream",
     "text": [
      "- emtk: Something is wrong: ......\n",
      "\n",
      "- DavidBlue: I went back to the scary place.\n",
      "\n",
      "  Tagesspiegel: Worried about backpacker: Lost in the outback? - German woman still missing in Australiahttps://www.tagesspiegel.de/gesellschaft/panorama/sorge-um-backpackerin-im-outback-verirrt-deutsche-weiter-in-australien-vermisst-14006189.html?utm_source=flipboard&utm_medium=activitypub Posted in Tagesspiegel Welt @tagesspiegel-welt-Tagesspiegel\n",
      "\n",
      "  stacescases2.bsky.social: It's guilt. Not the kind you and I feel, he KNOWS he fucked.\n",
      "\n",
      "+ lucas_a_meyer: Daughter yells from the other side of the house: DAAAAD, quick question? Whats 16,510 divided by two? Quick!Me: 8,255. Why?D: Im paying a debt!Me: WHAT???D: In Animal Crossing, daaad\n",
      "\n",
      "  penguin: \n",
      "\n",
      "  adhd_memetherapy: Once again, the bots, racists, Zionists, & MAGA crowd are crawling all over the comments. It never ceases to amaze how loud your lack of empathy and basic humanity is.Why are u even here? The majority of ADHD & Autistic people r justice sensitive, anti fascist, & tuned into suffering that others choose to ignore. Were pro humanity. You really think people like us whove been mistreated for how our brains work wouldnt recognize or care about the plight of oppressed people around the world?\n",
      "\n",
      "  prtimes: Renewal opening on July 7, 2025】A \"Japanese\" condominium with a kitchen and washer/dryer in every room. Tatami Inn Naha Isshuya by Cordio Premium\" located on Yachimun Street in Isshuya, Naha City, Okinawa, Japan. https://prtimes.jp/main/html/rd/p/000000007.000136477.html#prtimes #Press Release #News Release #Distribution #Report website #service #how to #representation #PR_TIMES\n",
      "\n",
      "  kcmetro.alerts: Route 106 trip to Renton scheduled at 7:21 PM from S Jackson St & 5th Ave S (EB) is restored and operating today.Last updated: Jul 10, 2025 7:44 PM\n",
      "\n",
      "  iclnoticias.com.br: Lira apresenta parecer de proposta para isentar quem ganha at R$ 5 mil do Cleber Loureno O deputado Arthur Lira apresentou seu parecer sobre o Projeto de Lei 1.087/2025, que prev iseno do imposto de renda para quem ganha at R$ 5 mil por ms e reduo parcial para quem recebe at R$ 7.350. O texto foi entregue para\n",
      "\n"
     ]
    }
   ],
   "source": [
    "stream = mastodon.stream_public(sentiment_listener, run_async=True)\n",
    "sentiment_listener.stream = stream  # so sentiment_listener to terminate stream later"
   ]
  },
  {
   "cell_type": "markdown",
   "metadata": {
    "tags": []
   },
   "source": [
    "#### Display summary of results"
   ]
  },
  {
   "cell_type": "code",
   "execution_count": 53,
   "metadata": {
    "tags": []
   },
   "outputs": [
    {
     "name": "stdout",
     "output_type": "stream",
     "text": [
      "Toot sentiment:\n",
      "Positive: 1\n",
      " Neutral: 7\n",
      "Negative: 2\n"
     ]
    }
   ],
   "source": [
    "print(f'Toot sentiment:')\n",
    "print('Positive:', sentiment_dict['positive'])\n",
    "print(' Neutral:', sentiment_dict['neutral'])\n",
    "print('Negative:', sentiment_dict['negative'])"
   ]
  },
  {
   "cell_type": "markdown",
   "metadata": {},
   "source": [
    "------"
   ]
  },
  {
   "cell_type": "markdown",
   "metadata": {
    "tags": []
   },
   "source": [
    "# 12.15 **(IF TIME) Example:** Geocoding and Mapping\n",
    "* Collect streaming toots\n",
    "* Look up sever locations and plot toots at those loctions on an interactive map\n",
    "* **Mastodon is privacy focused**\n",
    "    * Only server admins have access to any location data\n",
    "* Even in Twitter, geo location is off by default, though many accounts specify home location \n",
    "    * Sometimes invalid or fictitious \n",
    "* Map markers will show the sender's `location` and toot text"
   ]
  },
  {
   "cell_type": "markdown",
   "metadata": {
    "tags": []
   },
   "source": [
    "### **geopy** library\n",
    "* https://github.com/geopy/geopy\n",
    "* Installed in Section 5\n",
    "* **Geocoding** — translate locations into **latitude** and **longitude**\n",
    "* **geopy** supports dozens of **geocoding web services**, many with **free or lite tiers**\n"
   ]
  },
  {
   "cell_type": "markdown",
   "metadata": {},
   "source": [
    "### **folium library** and Leaflet.js JavaScript Mapping Library\n",
    "* https://github.com/python-visualization/folium\n",
    "* Setup in Section 5\n",
    "* For maps — uses **Leaflet.js JavaScript mapping library** to display maps in a web page \n",
    "* Folium can save HTML files that you can view in your web browser or add to a website"
   ]
  },
  {
   "cell_type": "markdown",
   "metadata": {
    "tags": []
   },
   "source": [
    "## Getting and Mapping the Toots\n",
    "* We’ll use utility functions from our **`tootutilities.py`** file and class **`LocationListener`** in **`locationlistener.py`**\n",
    "* Each is included after the example"
   ]
  },
  {
   "cell_type": "markdown",
   "metadata": {},
   "source": [
    "### Collections Required By LocationListener\n",
    "* a list (`toots`) to store the data from the toots we collect \n",
    "* a dictionary (`counts`) to track the total number of toots we collect and the number that have location data"
   ]
  },
  {
   "cell_type": "code",
   "execution_count": 54,
   "metadata": {
    "tags": []
   },
   "outputs": [],
   "source": [
    "toots = [] \n",
    "counts = {'total_toots': 0, 'locations': 0}"
   ]
  },
  {
   "cell_type": "markdown",
   "metadata": {
    "tags": []
   },
   "source": [
    "### Creating the LocationListener \n",
    "* Collect 50 toots \n",
    "* `LocationListener` will use utility function `get_toot_content` (located in `tootutilities.py`; discussed after this example) to place in a dictionary the `username`, toot `text` and Mastodon server `location` from each toot"
   ]
  },
  {
   "cell_type": "code",
   "execution_count": 55,
   "metadata": {
    "tags": []
   },
   "outputs": [],
   "source": [
    "import locationlistener \n",
    "\n",
    "location_listener = locationlistener.LocationListener(\n",
    "    counts_dict=counts, toots_list=toots, limit=50)"
   ]
  },
  {
   "cell_type": "markdown",
   "metadata": {},
   "source": [
    "### Start Stream and Store Its Handle\n",
    "* We display the toot count so far and usernames to show progress"
   ]
  },
  {
   "cell_type": "code",
   "execution_count": 56,
   "metadata": {
    "tags": []
   },
   "outputs": [
    {
     "name": "stdout",
     "output_type": "stream",
     "text": [
      " 1: buffalobills\n",
      " 2: marvin_h2g2\n",
      " 3: tkhunt\n",
      " 4: gulfchannels\n",
      " 5: SudOuest\n",
      " 6: Tokyo\n",
      " 7: EInvestidor\n",
      " 8: tychotithonus\n",
      " 9: africa_social\n",
      "10: jrd_vs\n",
      "11: roadfmsong\n",
      "12: prtimes\n",
      "13: AztecaDeportes\n",
      "14: buffalobills\n",
      "15: jaseowo\n",
      "16: trainaccident\n",
      "17: ten_nami_ten\n",
      "18: monumental_movement_records\n",
      "19: easy_fx\n",
      "20: emtk\n",
      "21: inanna\n",
      "22: speedweek\n",
      "23: tv\n",
      "24: rsssunstar\n",
      "25: onlineusers\n",
      "26: akahata\n",
      "27: thatwriterguy.com\n",
      "28: schaumburgernachrichten\n",
      "29: life\n",
      "30: AgentofSocialMediaChaos\n",
      "31: mmr3cords.bsky.social\n",
      "32: flyover\n",
      "33: ben\n",
      "34: teteatete\n",
      "35: kyodo_news\n",
      "36: DAZNFootball\n",
      "37: inaba_benibana\n",
      "38: 709508\n",
      "39: news_s\n",
      "40: iembot_dvn\n",
      "41: LaCeys_ES\n",
      "42: youtube_ANNnewsCH\n",
      "43: news.medical\n",
      "44: HindustanTimes\n",
      "45: guppy0228\n",
      "46: autonerdery\n",
      "47: todayupdate\n",
      "48: mlevel\n",
      "49: FOXSportsMX\n",
      "50: jctrip.bsky.social\n"
     ]
    }
   ],
   "source": [
    "stream = mastodon.stream_public(location_listener, run_async=True)\n",
    "location_listener.stream = stream  # so location_listener to terminate stream later"
   ]
  },
  {
   "cell_type": "markdown",
   "metadata": {
    "tags": []
   },
   "source": [
    "<!--\n",
    "\n",
    "### Displaying the Location Statistics\n",
    "* of the toots we processed, check the percentage of servers for which we were able to find locations (should be 100%)\n",
    "\n",
    "counts['total_toots']\n",
    "\n",
    "counts['locations']\n",
    "\n",
    "print(f'{counts[\"locations\"] / counts[\"total_toots\"]:.1%}')\n",
    "-->"
   ]
  },
  {
   "cell_type": "markdown",
   "metadata": {},
   "source": [
    "### Geocoding the Locations\n",
    "* Use `get_geocodes` utility function (from `tootutilities.py`; discussed after this example) to geocode the location of each toot stored in the list of toots"
   ]
  },
  {
   "cell_type": "code",
   "execution_count": 57,
   "metadata": {
    "tags": []
   },
   "outputs": [
    {
     "name": "stdout",
     "output_type": "stream",
     "text": [
      "Getting coordinates for mastodon server locations...\n",
      "geo_location=Location(Ashburn, Virginia, (39.0427652, -77.4858142, 0.0))\n",
      "geo_location=Location(San Francisco, California, (37.7800771, -122.4201615, 0.0))\n",
      "geo_location=Location(Tokyo, (35.68945633, 139.69171609, 0.0))\n",
      "geo_location=Location(Fremont, California, (37.5502017, -121.98083, 0.0))\n",
      "geo_location=Location(Seattle, Washington, (47.603229, -122.33028, 0.0))\n",
      "geo_location=Location(Ashburn, Virginia, (39.0427652, -77.4858142, 0.0))\n",
      "geo_location=Location(Seattle, Washington, (47.603229, -122.33028, 0.0))\n",
      "geo_location=Location(San Francisco, California, (37.7800771, -122.4201615, 0.0))\n",
      "geo_location=Location(San Francisco, California, (37.7800771, -122.4201615, 0.0))\n",
      "geo_location=Location(San Francisco, California, (37.7800771, -122.4201615, 0.0))\n",
      "geo_location=Location(San Francisco, California, (37.7800771, -122.4201615, 0.0))\n",
      "geo_location=Location(Tokyo, (35.68945633, 139.69171609, 0.0))\n",
      "geo_location=Location(San Francisco, California, (37.7800771, -122.4201615, 0.0))\n",
      "geo_location=Location(Ashburn, Virginia, (39.0427652, -77.4858142, 0.0))\n",
      "geo_location=Location(San Francisco, California, (37.7800771, -122.4201615, 0.0))\n",
      "geo_location=Location(Central Singapore Community Development Council, (1.33249, 103.84851, 0.0))\n",
      "geo_location=Location(San Francisco, California, (37.7800771, -122.4201615, 0.0))\n",
      "geo_location=Location(San Francisco, California, (37.7800771, -122.4201615, 0.0))\n",
      "geo_location=Location(San Francisco, California, (37.7800771, -122.4201615, 0.0))\n",
      "geo_location=Location(San Francisco, California, (37.7800771, -122.4201615, 0.0))\n",
      "geo_location=Location(San Francisco, California, (37.7800771, -122.4201615, 0.0))\n",
      "geo_location=Location(San Francisco, California, (37.7800771, -122.4201615, 0.0))\n",
      "geo_location=Location(San Francisco, California, (37.7800771, -122.4201615, 0.0))\n",
      "geo_location=Location(San Francisco, California, (37.7800771, -122.4201615, 0.0))\n",
      "geo_location=Location(Shinagawa City Office, (35.60916041, 139.730156891, 0.0))\n",
      "geo_location=Location(Roubaix, Nord, Hauts-de-France, (50.69095765, 3.174049418, 0.0))\n",
      "geo_location=Location(Mountain View, California, (37.39008, -122.0813919, 0.0))\n",
      "geo_location=Location(Nürnberg, Bayern, (49.450937999, 11.075269, 0.0))\n",
      "geo_location=Location(Fremont, California, (37.5502017, -121.98083, 0.0))\n",
      "geo_location=Location(San Francisco, California, (37.7800771, -122.4201615, 0.0))\n",
      "geo_location=Location(Mountain View, California, (37.39008, -122.0813919, 0.0))\n",
      "geo_location=Location(Munich, Bayern, (48.143438999, 11.573599, 0.0))\n",
      "geo_location=Location(Wellington, (-41.284893524, 174.776100466, 0.0))\n",
      "geo_location=Location(San Francisco, California, (37.7800771, -122.4201615, 0.0))\n",
      "geo_location=Location(San Francisco, California, (37.7800771, -122.4201615, 0.0))\n",
      "geo_location=Location(San Francisco, California, (37.7800771, -122.4201615, 0.0))\n",
      "geo_location=Location(Boardman, Oregon, (45.8411696, -119.7020464, 0.0))\n",
      "geo_location=Location(San Francisco, California, (37.7800771, -122.4201615, 0.0))\n",
      "geo_location=Location(San Francisco, California, (37.7800771, -122.4201615, 0.0))\n",
      "geo_location=Location(San Francisco, California, (37.7800771, -122.4201615, 0.0))\n",
      "geo_location=Location(San Francisco, California, (37.7800771, -122.4201615, 0.0))\n",
      "geo_location=Location(Tokyo, (35.68945633, 139.69171609, 0.0))\n",
      "geo_location=Location(Menlo Park, California, (37.4532207, -122.1832229, 0.0))\n",
      "geo_location=Location(Seattle, Washington, (47.603229, -122.33028, 0.0))\n",
      "geo_location=Location(Tokyo, (35.68945633, 139.69171609, 0.0))\n",
      "geo_location=Location(Roubaix, Nord, Hauts-de-France, (50.69095765, 3.174049418, 0.0))\n",
      "geo_location=Location(San Francisco, California, (37.7800771, -122.4201615, 0.0))\n",
      "geo_location=Location(San Francisco, California, (37.7800771, -122.4201615, 0.0))\n",
      "geo_location=Location(San Francisco, California, (37.7800771, -122.4201615, 0.0))\n",
      "geo_location=Location(Mountain View, California, (37.39008, -122.0813919, 0.0))\n",
      "Done geocoding\n"
     ]
    }
   ],
   "source": [
    "from tootutilities import get_geocodes\n",
    "bad_locations = get_geocodes(toots)"
   ]
  },
  {
   "cell_type": "code",
   "execution_count": 58,
   "metadata": {},
   "outputs": [
    {
     "data": {
      "text/plain": [
       "0"
      ]
     },
     "execution_count": 58,
     "metadata": {},
     "output_type": "execute_result"
    }
   ],
   "source": [
    "bad_locations"
   ]
  },
  {
   "cell_type": "markdown",
   "metadata": {
    "tags": []
   },
   "source": [
    "<!--\n",
    "\n",
    "* For each toot with a valid location, the `get_geocodes` function adds the new keys `'latitude'` and `'longitude'` to that toot’s dictionary in the `toots` list — these will be used to plot map markers on our interactive map\n",
    "\n",
    "### Displaying the Bad Location Statistics\n",
    "* If geopy is unable to geo-encode a specific location `bad_locations` will be greater than 0\n",
    "\n",
    "bad_locations \n",
    "\n",
    "print(f'{bad_locations / counts[\"locations\"]:.1%}')\n",
    "-->"
   ]
  },
  {
   "cell_type": "markdown",
   "metadata": {},
   "source": [
    "### Cleaning the Data\n",
    "* Before we plot the toot locations on a map, let’s use a pandas `DataFrame` to clean the data\n",
    "* When you create a `DataFrame` from the `toots` list, it may contain `NaN` for `'latitude'` and `'longitude'` if geopy was unable to geoencode a specific location \n",
    "* `NaN` cannot be plotted on a map, so remove any rows containing `NaN` by calling the `DataFrame`’s `dropna` method"
   ]
  },
  {
   "cell_type": "code",
   "execution_count": 59,
   "metadata": {},
   "outputs": [
    {
     "data": {
      "text/plain": [
       "{'username': 'buffalobills',\n",
       " 'text': '<p>Bills’ Damar Hamlin predicted to lose job in key position battle in Buffalo</p><p>Damar Hamlin pretty much earned a Buffalo Bills starting safety job by default in 2024. When second-round pick…<br><a href=\"https://channels.im/tags/NFL\" class=\"mention hashtag\" rel=\"nofollow noopener\" target=\"_blank\">#<span>NFL</span></a> <a href=\"https://channels.im/tags/BuffaloBills\" class=\"mention hashtag\" rel=\"nofollow noopener\" target=\"_blank\">#<span>BuffaloBills</span></a> <a href=\"https://channels.im/tags/Buffalo\" class=\"mention hashtag\" rel=\"nofollow noopener\" target=\"_blank\">#<span>Buffalo</span></a> <a href=\"https://channels.im/tags/Bills\" class=\"mention hashtag\" rel=\"nofollow noopener\" target=\"_blank\">#<span>Bills</span></a> <a href=\"https://channels.im/tags/brandonbeane\" class=\"mention hashtag\" rel=\"nofollow noopener\" target=\"_blank\">#<span>brandonbeane</span></a> <a href=\"https://channels.im/tags/ColeBishop\" class=\"mention hashtag\" rel=\"nofollow noopener\" target=\"_blank\">#<span>ColeBishop</span></a> <a href=\"https://channels.im/tags/DamarHamlin\" class=\"mention hashtag\" rel=\"nofollow noopener\" target=\"_blank\">#<span>DamarHamlin</span></a> <a href=\"https://channels.im/tags/DarrickForrest\" class=\"mention hashtag\" rel=\"nofollow noopener\" target=\"_blank\">#<span>DarrickForrest</span></a> <a href=\"https://channels.im/tags/DenverBroncos\" class=\"mention hashtag\" rel=\"nofollow noopener\" target=\"_blank\">#<span>DenverBroncos</span></a> <a href=\"https://channels.im/tags/Football\" class=\"mention hashtag\" rel=\"nofollow noopener\" target=\"_blank\">#<span>Football</span></a> <a href=\"https://channels.im/tags/TaylorRapp\" class=\"mention hashtag\" rel=\"nofollow noopener\" target=\"_blank\">#<span>TaylorRapp</span></a><br><a href=\"https://www.rawchili.com/nfl/197653/\" rel=\"nofollow noopener\" translate=\"no\" target=\"_blank\"><span class=\"invisible\">https://www.</span><span class=\"\">rawchili.com/nfl/197653/</span><span class=\"invisible\"></span></a></p>',\n",
       " 'location': 'Ashburn, Virginia, US',\n",
       " 'latitude': 39.0427652,\n",
       " 'longitude': -77.4858142}"
      ]
     },
     "execution_count": 59,
     "metadata": {},
     "output_type": "execute_result"
    }
   ],
   "source": [
    "toots[0]"
   ]
  },
  {
   "cell_type": "code",
   "execution_count": 60,
   "metadata": {
    "tags": []
   },
   "outputs": [],
   "source": [
    "import pandas as pd"
   ]
  },
  {
   "cell_type": "code",
   "execution_count": 61,
   "metadata": {
    "tags": []
   },
   "outputs": [],
   "source": [
    "df = pd.DataFrame(toots)"
   ]
  },
  {
   "cell_type": "code",
   "execution_count": 62,
   "metadata": {
    "tags": []
   },
   "outputs": [
    {
     "data": {
      "text/html": [
       "<div>\n",
       "<style scoped>\n",
       "    .dataframe tbody tr th:only-of-type {\n",
       "        vertical-align: middle;\n",
       "    }\n",
       "\n",
       "    .dataframe tbody tr th {\n",
       "        vertical-align: top;\n",
       "    }\n",
       "\n",
       "    .dataframe thead th {\n",
       "        text-align: right;\n",
       "    }\n",
       "</style>\n",
       "<table border=\"1\" class=\"dataframe\">\n",
       "  <thead>\n",
       "    <tr style=\"text-align: right;\">\n",
       "      <th></th>\n",
       "      <th>username</th>\n",
       "      <th>text</th>\n",
       "      <th>location</th>\n",
       "      <th>latitude</th>\n",
       "      <th>longitude</th>\n",
       "    </tr>\n",
       "  </thead>\n",
       "  <tbody>\n",
       "    <tr>\n",
       "      <th>0</th>\n",
       "      <td>buffalobills</td>\n",
       "      <td>&lt;p&gt;Bills’ Damar Hamlin predicted to lose job i...</td>\n",
       "      <td>Ashburn, Virginia, US</td>\n",
       "      <td>39.042765</td>\n",
       "      <td>-77.485814</td>\n",
       "    </tr>\n",
       "    <tr>\n",
       "      <th>1</th>\n",
       "      <td>marvin_h2g2</td>\n",
       "      <td>The Kinki region will continue to be subject t...</td>\n",
       "      <td>San Francisco, California, US</td>\n",
       "      <td>37.780077</td>\n",
       "      <td>-122.420162</td>\n",
       "    </tr>\n",
       "    <tr>\n",
       "      <th>2</th>\n",
       "      <td>tkhunt</td>\n",
       "      <td>&lt;p&gt;&lt;a href=\"https://www.tkhunt.com/1981499/\" r...</td>\n",
       "      <td>Tokyo, Tokyo, JP</td>\n",
       "      <td>35.689456</td>\n",
       "      <td>139.691716</td>\n",
       "    </tr>\n",
       "    <tr>\n",
       "      <th>3</th>\n",
       "      <td>gulfchannels</td>\n",
       "      <td>https://www.gulfchannels.com/221139/ [BLACKPIN...</td>\n",
       "      <td>Fremont, California, US</td>\n",
       "      <td>37.550202</td>\n",
       "      <td>-121.980830</td>\n",
       "    </tr>\n",
       "    <tr>\n",
       "      <th>4</th>\n",
       "      <td>SudOuest</td>\n",
       "      <td>Road safety: driving in flip-flops, barefoot o...</td>\n",
       "      <td>Seattle, Washington, US</td>\n",
       "      <td>47.603229</td>\n",
       "      <td>-122.330280</td>\n",
       "    </tr>\n",
       "    <tr>\n",
       "      <th>5</th>\n",
       "      <td>Tokyo</td>\n",
       "      <td>&lt;p&gt;AIM B2B Launches in Tokyo to Transform B2B ...</td>\n",
       "      <td>Ashburn, Virginia, US</td>\n",
       "      <td>39.042765</td>\n",
       "      <td>-77.485814</td>\n",
       "    </tr>\n",
       "    <tr>\n",
       "      <th>6</th>\n",
       "      <td>EInvestidor</td>\n",
       "      <td>Economic Calendar: Friday, July 11https://einv...</td>\n",
       "      <td>Seattle, Washington, US</td>\n",
       "      <td>47.603229</td>\n",
       "      <td>-122.330280</td>\n",
       "    </tr>\n",
       "    <tr>\n",
       "      <th>7</th>\n",
       "      <td>tychotithonus</td>\n",
       "      <td>&lt;p&gt;\"Engineering should eat security.\"&lt;br&gt;-- Ca...</td>\n",
       "      <td>San Francisco, California, US</td>\n",
       "      <td>37.780077</td>\n",
       "      <td>-122.420162</td>\n",
       "    </tr>\n",
       "    <tr>\n",
       "      <th>8</th>\n",
       "      <td>africa_social</td>\n",
       "      <td>📢 Volleyball: All clubs have asked for youth a...</td>\n",
       "      <td>San Francisco, California, US</td>\n",
       "      <td>37.780077</td>\n",
       "      <td>-122.420162</td>\n",
       "    </tr>\n",
       "    <tr>\n",
       "      <th>9</th>\n",
       "      <td>jrd_vs</td>\n",
       "      <td>&lt;p&gt;​:ohiru1:​だ​:blobwani_omusubi:​&lt;/p&gt;</td>\n",
       "      <td>San Francisco, California, US</td>\n",
       "      <td>37.780077</td>\n",
       "      <td>-122.420162</td>\n",
       "    </tr>\n",
       "    <tr>\n",
       "      <th>10</th>\n",
       "      <td>roadfmsong</td>\n",
       "      <td>En cours de lecture sur Road FM : Friend Of Mi...</td>\n",
       "      <td>San Francisco, California, US</td>\n",
       "      <td>37.780077</td>\n",
       "      <td>-122.420162</td>\n",
       "    </tr>\n",
       "    <tr>\n",
       "      <th>11</th>\n",
       "      <td>prtimes</td>\n",
       "      <td>Introducing the new \"Pokejet APT-100,\" a porta...</td>\n",
       "      <td>Tokyo, Tokyo, JP</td>\n",
       "      <td>35.689456</td>\n",
       "      <td>139.691716</td>\n",
       "    </tr>\n",
       "    <tr>\n",
       "      <th>12</th>\n",
       "      <td>AztecaDeportes</td>\n",
       "      <td>Fate called! 🚂⚽Jeremy Márquez speaks exclusive...</td>\n",
       "      <td>San Francisco, California, US</td>\n",
       "      <td>37.780077</td>\n",
       "      <td>-122.420162</td>\n",
       "    </tr>\n",
       "    <tr>\n",
       "      <th>13</th>\n",
       "      <td>buffalobills</td>\n",
       "      <td>&lt;p&gt;Bills’ Damar Hamlin predicted to lose job i...</td>\n",
       "      <td>Ashburn, Virginia, US</td>\n",
       "      <td>39.042765</td>\n",
       "      <td>-77.485814</td>\n",
       "    </tr>\n",
       "    <tr>\n",
       "      <th>14</th>\n",
       "      <td>jaseowo</td>\n",
       "      <td>&lt;p&gt;&lt;span&gt;what if instead of zoophilia, you get...</td>\n",
       "      <td>San Francisco, California, US</td>\n",
       "      <td>37.780077</td>\n",
       "      <td>-122.420162</td>\n",
       "    </tr>\n",
       "    <tr>\n",
       "      <th>15</th>\n",
       "      <td>trainaccident</td>\n",
       "      <td>One house burned down, 2 men dead, firefighter...</td>\n",
       "      <td>Singapore, Central Singapore Community Develop...</td>\n",
       "      <td>1.332490</td>\n",
       "      <td>103.848510</td>\n",
       "    </tr>\n",
       "    <tr>\n",
       "      <th>16</th>\n",
       "      <td>ten_nami_ten</td>\n",
       "      <td>Returning Tachi: ......</td>\n",
       "      <td>San Francisco, California, US</td>\n",
       "      <td>37.780077</td>\n",
       "      <td>-122.420162</td>\n",
       "    </tr>\n",
       "    <tr>\n",
       "      <th>17</th>\n",
       "      <td>monumental_movement_records</td>\n",
       "      <td>&lt;p&gt;&lt;a href=\"https://mastodon.social/tags/%E3%8...</td>\n",
       "      <td>San Francisco, California, US</td>\n",
       "      <td>37.780077</td>\n",
       "      <td>-122.420162</td>\n",
       "    </tr>\n",
       "    <tr>\n",
       "      <th>18</th>\n",
       "      <td>easy_fx</td>\n",
       "      <td>&lt;p&gt;&lt;a href=\"https://mastodon.social/tags/XM%E5...</td>\n",
       "      <td>San Francisco, California, US</td>\n",
       "      <td>37.780077</td>\n",
       "      <td>-122.420162</td>\n",
       "    </tr>\n",
       "    <tr>\n",
       "      <th>19</th>\n",
       "      <td>emtk</td>\n",
       "      <td>But Royal is too powerful for that.</td>\n",
       "      <td>San Francisco, California, US</td>\n",
       "      <td>37.780077</td>\n",
       "      <td>-122.420162</td>\n",
       "    </tr>\n",
       "    <tr>\n",
       "      <th>20</th>\n",
       "      <td>inanna</td>\n",
       "      <td>Daylilies at the Botanical Gardens. #Botanical...</td>\n",
       "      <td>San Francisco, California, US</td>\n",
       "      <td>37.780077</td>\n",
       "      <td>-122.420162</td>\n",
       "    </tr>\n",
       "    <tr>\n",
       "      <th>21</th>\n",
       "      <td>speedweek</td>\n",
       "      <td>&lt;p&gt;Oliver Solberg absolviert ersten Toyota-Ral...</td>\n",
       "      <td>San Francisco, California, US</td>\n",
       "      <td>37.780077</td>\n",
       "      <td>-122.420162</td>\n",
       "    </tr>\n",
       "    <tr>\n",
       "      <th>22</th>\n",
       "      <td>tv</td>\n",
       "      <td>&lt;p&gt;SUMMARY: A U.S. judge has blocked Trump's b...</td>\n",
       "      <td>San Francisco, California, US</td>\n",
       "      <td>37.780077</td>\n",
       "      <td>-122.420162</td>\n",
       "    </tr>\n",
       "    <tr>\n",
       "      <th>23</th>\n",
       "      <td>rsssunstar</td>\n",
       "      <td>&lt;p&gt;Iloilo City police showcase 5-minute respon...</td>\n",
       "      <td>San Francisco, California, US</td>\n",
       "      <td>37.780077</td>\n",
       "      <td>-122.420162</td>\n",
       "    </tr>\n",
       "    <tr>\n",
       "      <th>24</th>\n",
       "      <td>onlineusers</td>\n",
       "      <td>&lt;p&gt;4403 &lt;a href=\"https://misskey.io/\" rel=\"nof...</td>\n",
       "      <td>Shinagawa City, Tokyo, JP</td>\n",
       "      <td>35.609160</td>\n",
       "      <td>139.730157</td>\n",
       "    </tr>\n",
       "    <tr>\n",
       "      <th>25</th>\n",
       "      <td>akahata</td>\n",
       "      <td>Sunday Edition 13th Issue / Politics will chan...</td>\n",
       "      <td>Roubaix, Hauts-de-France, FR</td>\n",
       "      <td>50.690958</td>\n",
       "      <td>3.174049</td>\n",
       "    </tr>\n",
       "    <tr>\n",
       "      <th>26</th>\n",
       "      <td>thatwriterguy.com</td>\n",
       "      <td>&lt;p&gt;Thinking about getting a \"Lord of the Rings...</td>\n",
       "      <td>Mountain View, California, US</td>\n",
       "      <td>37.390080</td>\n",
       "      <td>-122.081392</td>\n",
       "    </tr>\n",
       "    <tr>\n",
       "      <th>27</th>\n",
       "      <td>schaumburgernachrichten</td>\n",
       "      <td>Germany's XXL trial + a new chance for social ...</td>\n",
       "      <td>Nürnberg, Bayern, DE</td>\n",
       "      <td>49.450938</td>\n",
       "      <td>11.075269</td>\n",
       "    </tr>\n",
       "    <tr>\n",
       "      <th>28</th>\n",
       "      <td>life</td>\n",
       "      <td>&lt;p&gt;&lt;a href=\"https://www.wacoca.com/life/275475...</td>\n",
       "      <td>Fremont, California, US</td>\n",
       "      <td>37.550202</td>\n",
       "      <td>-121.980830</td>\n",
       "    </tr>\n",
       "    <tr>\n",
       "      <th>29</th>\n",
       "      <td>AgentofSocialMediaChaos</td>\n",
       "      <td>&lt;p&gt;AgentofSocialMediaChaos's Waifu of the Day ...</td>\n",
       "      <td>San Francisco, California, US</td>\n",
       "      <td>37.780077</td>\n",
       "      <td>-122.420162</td>\n",
       "    </tr>\n",
       "    <tr>\n",
       "      <th>30</th>\n",
       "      <td>mmr3cords.bsky.social</td>\n",
       "      <td>&lt;p&gt;&lt;a class=\"hashtag\" rel=\"nofollow noopener\" ...</td>\n",
       "      <td>Mountain View, California, US</td>\n",
       "      <td>37.390080</td>\n",
       "      <td>-122.081392</td>\n",
       "    </tr>\n",
       "    <tr>\n",
       "      <th>31</th>\n",
       "      <td>flyover</td>\n",
       "      <td>Originally: you didn't know how good this one ...</td>\n",
       "      <td>Munich, Bavaria, DE</td>\n",
       "      <td>48.143439</td>\n",
       "      <td>11.573599</td>\n",
       "    </tr>\n",
       "    <tr>\n",
       "      <th>32</th>\n",
       "      <td>ben</td>\n",
       "      <td>&lt;p&gt;It's been a while, and I've come back with ...</td>\n",
       "      <td>Wellington, Wellington, NZ</td>\n",
       "      <td>-41.284894</td>\n",
       "      <td>174.776100</td>\n",
       "    </tr>\n",
       "    <tr>\n",
       "      <th>33</th>\n",
       "      <td>teteatete</td>\n",
       "      <td>&lt;p&gt;O QUE KAFKA DIRIA SOBRE A BUROCRACIA DO SÉC...</td>\n",
       "      <td>San Francisco, California, US</td>\n",
       "      <td>37.780077</td>\n",
       "      <td>-122.420162</td>\n",
       "    </tr>\n",
       "    <tr>\n",
       "      <th>34</th>\n",
       "      <td>kyodo_news</td>\n",
       "      <td>Detailed information: Chinese military aircraf...</td>\n",
       "      <td>San Francisco, California, US</td>\n",
       "      <td>37.780077</td>\n",
       "      <td>-122.420162</td>\n",
       "    </tr>\n",
       "    <tr>\n",
       "      <th>35</th>\n",
       "      <td>DAZNFootball</td>\n",
       "      <td>&lt;p&gt;All of the Blues' shots on target leading t...</td>\n",
       "      <td>San Francisco, California, US</td>\n",
       "      <td>37.780077</td>\n",
       "      <td>-122.420162</td>\n",
       "    </tr>\n",
       "    <tr>\n",
       "      <th>36</th>\n",
       "      <td>inaba_benibana</td>\n",
       "      <td>None</td>\n",
       "      <td>Boardman, Oregon, US</td>\n",
       "      <td>45.841170</td>\n",
       "      <td>-119.702046</td>\n",
       "    </tr>\n",
       "    <tr>\n",
       "      <th>37</th>\n",
       "      <td>709508</td>\n",
       "      <td>&lt;p&gt;New Episode: &lt;a href=\"https://podcastindex....</td>\n",
       "      <td>San Francisco, California, US</td>\n",
       "      <td>37.780077</td>\n",
       "      <td>-122.420162</td>\n",
       "    </tr>\n",
       "    <tr>\n",
       "      <th>38</th>\n",
       "      <td>news_s</td>\n",
       "      <td>&lt;p&gt;‫ الأيرلندي بن هيلي يفوز بالمرحلة السادسة ل...</td>\n",
       "      <td>San Francisco, California, US</td>\n",
       "      <td>37.780077</td>\n",
       "      <td>-122.420162</td>\n",
       "    </tr>\n",
       "    <tr>\n",
       "      <th>39</th>\n",
       "      <td>iembot_dvn</td>\n",
       "      <td>&lt;p&gt;DVN continues Tornado Warning [tornado: RAD...</td>\n",
       "      <td>San Francisco, California, US</td>\n",
       "      <td>37.780077</td>\n",
       "      <td>-122.420162</td>\n",
       "    </tr>\n",
       "    <tr>\n",
       "      <th>40</th>\n",
       "      <td>LaCeys_ES</td>\n",
       "      <td>&lt;p&gt;ぬフォローしてなかった&lt;/p&gt;</td>\n",
       "      <td>San Francisco, California, US</td>\n",
       "      <td>37.780077</td>\n",
       "      <td>-122.420162</td>\n",
       "    </tr>\n",
       "    <tr>\n",
       "      <th>41</th>\n",
       "      <td>youtube_ANNnewsCH</td>\n",
       "      <td>Toshogu Shrine\" in Ueno no Mori, dedicated to ...</td>\n",
       "      <td>Tokyo, Tokyo, JP</td>\n",
       "      <td>35.689456</td>\n",
       "      <td>139.691716</td>\n",
       "    </tr>\n",
       "    <tr>\n",
       "      <th>42</th>\n",
       "      <td>news.medical</td>\n",
       "      <td>&lt;p&gt;Younger Swedes, especially women and ethnic...</td>\n",
       "      <td>Menlo Park, California, US</td>\n",
       "      <td>37.453221</td>\n",
       "      <td>-122.183223</td>\n",
       "    </tr>\n",
       "    <tr>\n",
       "      <th>43</th>\n",
       "      <td>HindustanTimes</td>\n",
       "      <td>&lt;p&gt;Woman returns to waterlogged home in upscal...</td>\n",
       "      <td>Seattle, Washington, US</td>\n",
       "      <td>47.603229</td>\n",
       "      <td>-122.330280</td>\n",
       "    </tr>\n",
       "    <tr>\n",
       "      <th>44</th>\n",
       "      <td>guppy0228</td>\n",
       "      <td>&lt;p&gt;&lt;span&gt;インターステラ、89億円を調達–三井住友銀行やジャパネットが出資 - Uc...</td>\n",
       "      <td>Tokyo, Tokyo, JP</td>\n",
       "      <td>35.689456</td>\n",
       "      <td>139.691716</td>\n",
       "    </tr>\n",
       "    <tr>\n",
       "      <th>45</th>\n",
       "      <td>autonerdery</td>\n",
       "      <td>&lt;p&gt;Okay, this one's mobile again. It was clogg...</td>\n",
       "      <td>Roubaix, Upper France, FR</td>\n",
       "      <td>50.690958</td>\n",
       "      <td>3.174049</td>\n",
       "    </tr>\n",
       "    <tr>\n",
       "      <th>46</th>\n",
       "      <td>todayupdate</td>\n",
       "      <td>&lt;p&gt;Smoke billows from luxury yacht fire in St ...</td>\n",
       "      <td>San Francisco, California, US</td>\n",
       "      <td>37.780077</td>\n",
       "      <td>-122.420162</td>\n",
       "    </tr>\n",
       "    <tr>\n",
       "      <th>47</th>\n",
       "      <td>mlevel</td>\n",
       "      <td>&lt;p&gt;&amp;quot;A work in which there are theories is...</td>\n",
       "      <td>San Francisco, California, US</td>\n",
       "      <td>37.780077</td>\n",
       "      <td>-122.420162</td>\n",
       "    </tr>\n",
       "    <tr>\n",
       "      <th>48</th>\n",
       "      <td>FOXSportsMX</td>\n",
       "      <td>EL MEJOR ANÁLISIS ⚽Inicia #FOXGolMéxico @TonyV...</td>\n",
       "      <td>San Francisco, California, US</td>\n",
       "      <td>37.780077</td>\n",
       "      <td>-122.420162</td>\n",
       "    </tr>\n",
       "    <tr>\n",
       "      <th>49</th>\n",
       "      <td>jctrip.bsky.social</td>\n",
       "      <td>&lt;p&gt;Be Love.&lt;/p&gt;</td>\n",
       "      <td>Mountain View, California, US</td>\n",
       "      <td>37.390080</td>\n",
       "      <td>-122.081392</td>\n",
       "    </tr>\n",
       "  </tbody>\n",
       "</table>\n",
       "</div>"
      ],
      "text/plain": [
       "                       username  \\\n",
       "0                  buffalobills   \n",
       "1                   marvin_h2g2   \n",
       "2                        tkhunt   \n",
       "3                  gulfchannels   \n",
       "4                      SudOuest   \n",
       "5                         Tokyo   \n",
       "6                   EInvestidor   \n",
       "7                 tychotithonus   \n",
       "8                 africa_social   \n",
       "9                        jrd_vs   \n",
       "10                   roadfmsong   \n",
       "11                      prtimes   \n",
       "12               AztecaDeportes   \n",
       "13                 buffalobills   \n",
       "14                      jaseowo   \n",
       "15                trainaccident   \n",
       "16                 ten_nami_ten   \n",
       "17  monumental_movement_records   \n",
       "18                      easy_fx   \n",
       "19                         emtk   \n",
       "20                       inanna   \n",
       "21                    speedweek   \n",
       "22                           tv   \n",
       "23                   rsssunstar   \n",
       "24                  onlineusers   \n",
       "25                      akahata   \n",
       "26            thatwriterguy.com   \n",
       "27      schaumburgernachrichten   \n",
       "28                         life   \n",
       "29      AgentofSocialMediaChaos   \n",
       "30        mmr3cords.bsky.social   \n",
       "31                      flyover   \n",
       "32                          ben   \n",
       "33                    teteatete   \n",
       "34                   kyodo_news   \n",
       "35                 DAZNFootball   \n",
       "36               inaba_benibana   \n",
       "37                       709508   \n",
       "38                       news_s   \n",
       "39                   iembot_dvn   \n",
       "40                    LaCeys_ES   \n",
       "41            youtube_ANNnewsCH   \n",
       "42                 news.medical   \n",
       "43               HindustanTimes   \n",
       "44                    guppy0228   \n",
       "45                  autonerdery   \n",
       "46                  todayupdate   \n",
       "47                       mlevel   \n",
       "48                  FOXSportsMX   \n",
       "49           jctrip.bsky.social   \n",
       "\n",
       "                                                 text  \\\n",
       "0   <p>Bills’ Damar Hamlin predicted to lose job i...   \n",
       "1   The Kinki region will continue to be subject t...   \n",
       "2   <p><a href=\"https://www.tkhunt.com/1981499/\" r...   \n",
       "3   https://www.gulfchannels.com/221139/ [BLACKPIN...   \n",
       "4   Road safety: driving in flip-flops, barefoot o...   \n",
       "5   <p>AIM B2B Launches in Tokyo to Transform B2B ...   \n",
       "6   Economic Calendar: Friday, July 11https://einv...   \n",
       "7   <p>\"Engineering should eat security.\"<br>-- Ca...   \n",
       "8   📢 Volleyball: All clubs have asked for youth a...   \n",
       "9              <p>​:ohiru1:​だ​:blobwani_omusubi:​</p>   \n",
       "10  En cours de lecture sur Road FM : Friend Of Mi...   \n",
       "11  Introducing the new \"Pokejet APT-100,\" a porta...   \n",
       "12  Fate called! 🚂⚽Jeremy Márquez speaks exclusive...   \n",
       "13  <p>Bills’ Damar Hamlin predicted to lose job i...   \n",
       "14  <p><span>what if instead of zoophilia, you get...   \n",
       "15  One house burned down, 2 men dead, firefighter...   \n",
       "16                            Returning Tachi: ......   \n",
       "17  <p><a href=\"https://mastodon.social/tags/%E3%8...   \n",
       "18  <p><a href=\"https://mastodon.social/tags/XM%E5...   \n",
       "19                But Royal is too powerful for that.   \n",
       "20  Daylilies at the Botanical Gardens. #Botanical...   \n",
       "21  <p>Oliver Solberg absolviert ersten Toyota-Ral...   \n",
       "22  <p>SUMMARY: A U.S. judge has blocked Trump's b...   \n",
       "23  <p>Iloilo City police showcase 5-minute respon...   \n",
       "24  <p>4403 <a href=\"https://misskey.io/\" rel=\"nof...   \n",
       "25  Sunday Edition 13th Issue / Politics will chan...   \n",
       "26  <p>Thinking about getting a \"Lord of the Rings...   \n",
       "27  Germany's XXL trial + a new chance for social ...   \n",
       "28  <p><a href=\"https://www.wacoca.com/life/275475...   \n",
       "29  <p>AgentofSocialMediaChaos's Waifu of the Day ...   \n",
       "30  <p><a class=\"hashtag\" rel=\"nofollow noopener\" ...   \n",
       "31  Originally: you didn't know how good this one ...   \n",
       "32  <p>It's been a while, and I've come back with ...   \n",
       "33  <p>O QUE KAFKA DIRIA SOBRE A BUROCRACIA DO SÉC...   \n",
       "34  Detailed information: Chinese military aircraf...   \n",
       "35  <p>All of the Blues' shots on target leading t...   \n",
       "36                                               None   \n",
       "37  <p>New Episode: <a href=\"https://podcastindex....   \n",
       "38  <p>‫ الأيرلندي بن هيلي يفوز بالمرحلة السادسة ل...   \n",
       "39  <p>DVN continues Tornado Warning [tornado: RAD...   \n",
       "40                                 <p>ぬフォローしてなかった</p>   \n",
       "41  Toshogu Shrine\" in Ueno no Mori, dedicated to ...   \n",
       "42  <p>Younger Swedes, especially women and ethnic...   \n",
       "43  <p>Woman returns to waterlogged home in upscal...   \n",
       "44  <p><span>インターステラ、89億円を調達–三井住友銀行やジャパネットが出資 - Uc...   \n",
       "45  <p>Okay, this one's mobile again. It was clogg...   \n",
       "46  <p>Smoke billows from luxury yacht fire in St ...   \n",
       "47  <p>&quot;A work in which there are theories is...   \n",
       "48  EL MEJOR ANÁLISIS ⚽Inicia #FOXGolMéxico @TonyV...   \n",
       "49                                    <p>Be Love.</p>   \n",
       "\n",
       "                                             location   latitude   longitude  \n",
       "0                               Ashburn, Virginia, US  39.042765  -77.485814  \n",
       "1                       San Francisco, California, US  37.780077 -122.420162  \n",
       "2                                    Tokyo, Tokyo, JP  35.689456  139.691716  \n",
       "3                             Fremont, California, US  37.550202 -121.980830  \n",
       "4                             Seattle, Washington, US  47.603229 -122.330280  \n",
       "5                               Ashburn, Virginia, US  39.042765  -77.485814  \n",
       "6                             Seattle, Washington, US  47.603229 -122.330280  \n",
       "7                       San Francisco, California, US  37.780077 -122.420162  \n",
       "8                       San Francisco, California, US  37.780077 -122.420162  \n",
       "9                       San Francisco, California, US  37.780077 -122.420162  \n",
       "10                      San Francisco, California, US  37.780077 -122.420162  \n",
       "11                                   Tokyo, Tokyo, JP  35.689456  139.691716  \n",
       "12                      San Francisco, California, US  37.780077 -122.420162  \n",
       "13                              Ashburn, Virginia, US  39.042765  -77.485814  \n",
       "14                      San Francisco, California, US  37.780077 -122.420162  \n",
       "15  Singapore, Central Singapore Community Develop...   1.332490  103.848510  \n",
       "16                      San Francisco, California, US  37.780077 -122.420162  \n",
       "17                      San Francisco, California, US  37.780077 -122.420162  \n",
       "18                      San Francisco, California, US  37.780077 -122.420162  \n",
       "19                      San Francisco, California, US  37.780077 -122.420162  \n",
       "20                      San Francisco, California, US  37.780077 -122.420162  \n",
       "21                      San Francisco, California, US  37.780077 -122.420162  \n",
       "22                      San Francisco, California, US  37.780077 -122.420162  \n",
       "23                      San Francisco, California, US  37.780077 -122.420162  \n",
       "24                          Shinagawa City, Tokyo, JP  35.609160  139.730157  \n",
       "25                       Roubaix, Hauts-de-France, FR  50.690958    3.174049  \n",
       "26                      Mountain View, California, US  37.390080 -122.081392  \n",
       "27                               Nürnberg, Bayern, DE  49.450938   11.075269  \n",
       "28                            Fremont, California, US  37.550202 -121.980830  \n",
       "29                      San Francisco, California, US  37.780077 -122.420162  \n",
       "30                      Mountain View, California, US  37.390080 -122.081392  \n",
       "31                                Munich, Bavaria, DE  48.143439   11.573599  \n",
       "32                         Wellington, Wellington, NZ -41.284894  174.776100  \n",
       "33                      San Francisco, California, US  37.780077 -122.420162  \n",
       "34                      San Francisco, California, US  37.780077 -122.420162  \n",
       "35                      San Francisco, California, US  37.780077 -122.420162  \n",
       "36                               Boardman, Oregon, US  45.841170 -119.702046  \n",
       "37                      San Francisco, California, US  37.780077 -122.420162  \n",
       "38                      San Francisco, California, US  37.780077 -122.420162  \n",
       "39                      San Francisco, California, US  37.780077 -122.420162  \n",
       "40                      San Francisco, California, US  37.780077 -122.420162  \n",
       "41                                   Tokyo, Tokyo, JP  35.689456  139.691716  \n",
       "42                         Menlo Park, California, US  37.453221 -122.183223  \n",
       "43                            Seattle, Washington, US  47.603229 -122.330280  \n",
       "44                                   Tokyo, Tokyo, JP  35.689456  139.691716  \n",
       "45                          Roubaix, Upper France, FR  50.690958    3.174049  \n",
       "46                      San Francisco, California, US  37.780077 -122.420162  \n",
       "47                      San Francisco, California, US  37.780077 -122.420162  \n",
       "48                      San Francisco, California, US  37.780077 -122.420162  \n",
       "49                      Mountain View, California, US  37.390080 -122.081392  "
      ]
     },
     "execution_count": 62,
     "metadata": {},
     "output_type": "execute_result"
    }
   ],
   "source": [
    "df"
   ]
  },
  {
   "cell_type": "code",
   "execution_count": 63,
   "metadata": {
    "tags": []
   },
   "outputs": [],
   "source": [
    "df = df.dropna() # if there are rows with missing data drop them"
   ]
  },
  {
   "cell_type": "code",
   "execution_count": 64,
   "metadata": {
    "tags": []
   },
   "outputs": [
    {
     "data": {
      "text/html": [
       "<div>\n",
       "<style scoped>\n",
       "    .dataframe tbody tr th:only-of-type {\n",
       "        vertical-align: middle;\n",
       "    }\n",
       "\n",
       "    .dataframe tbody tr th {\n",
       "        vertical-align: top;\n",
       "    }\n",
       "\n",
       "    .dataframe thead th {\n",
       "        text-align: right;\n",
       "    }\n",
       "</style>\n",
       "<table border=\"1\" class=\"dataframe\">\n",
       "  <thead>\n",
       "    <tr style=\"text-align: right;\">\n",
       "      <th></th>\n",
       "      <th>username</th>\n",
       "      <th>text</th>\n",
       "      <th>location</th>\n",
       "      <th>latitude</th>\n",
       "      <th>longitude</th>\n",
       "    </tr>\n",
       "  </thead>\n",
       "  <tbody>\n",
       "    <tr>\n",
       "      <th>0</th>\n",
       "      <td>buffalobills</td>\n",
       "      <td>&lt;p&gt;Bills’ Damar Hamlin predicted to lose job i...</td>\n",
       "      <td>Ashburn, Virginia, US</td>\n",
       "      <td>39.042765</td>\n",
       "      <td>-77.485814</td>\n",
       "    </tr>\n",
       "    <tr>\n",
       "      <th>1</th>\n",
       "      <td>marvin_h2g2</td>\n",
       "      <td>The Kinki region will continue to be subject t...</td>\n",
       "      <td>San Francisco, California, US</td>\n",
       "      <td>37.780077</td>\n",
       "      <td>-122.420162</td>\n",
       "    </tr>\n",
       "    <tr>\n",
       "      <th>2</th>\n",
       "      <td>tkhunt</td>\n",
       "      <td>&lt;p&gt;&lt;a href=\"https://www.tkhunt.com/1981499/\" r...</td>\n",
       "      <td>Tokyo, Tokyo, JP</td>\n",
       "      <td>35.689456</td>\n",
       "      <td>139.691716</td>\n",
       "    </tr>\n",
       "    <tr>\n",
       "      <th>3</th>\n",
       "      <td>gulfchannels</td>\n",
       "      <td>https://www.gulfchannels.com/221139/ [BLACKPIN...</td>\n",
       "      <td>Fremont, California, US</td>\n",
       "      <td>37.550202</td>\n",
       "      <td>-121.980830</td>\n",
       "    </tr>\n",
       "    <tr>\n",
       "      <th>4</th>\n",
       "      <td>SudOuest</td>\n",
       "      <td>Road safety: driving in flip-flops, barefoot o...</td>\n",
       "      <td>Seattle, Washington, US</td>\n",
       "      <td>47.603229</td>\n",
       "      <td>-122.330280</td>\n",
       "    </tr>\n",
       "    <tr>\n",
       "      <th>5</th>\n",
       "      <td>Tokyo</td>\n",
       "      <td>&lt;p&gt;AIM B2B Launches in Tokyo to Transform B2B ...</td>\n",
       "      <td>Ashburn, Virginia, US</td>\n",
       "      <td>39.042765</td>\n",
       "      <td>-77.485814</td>\n",
       "    </tr>\n",
       "    <tr>\n",
       "      <th>6</th>\n",
       "      <td>EInvestidor</td>\n",
       "      <td>Economic Calendar: Friday, July 11https://einv...</td>\n",
       "      <td>Seattle, Washington, US</td>\n",
       "      <td>47.603229</td>\n",
       "      <td>-122.330280</td>\n",
       "    </tr>\n",
       "    <tr>\n",
       "      <th>7</th>\n",
       "      <td>tychotithonus</td>\n",
       "      <td>&lt;p&gt;\"Engineering should eat security.\"&lt;br&gt;-- Ca...</td>\n",
       "      <td>San Francisco, California, US</td>\n",
       "      <td>37.780077</td>\n",
       "      <td>-122.420162</td>\n",
       "    </tr>\n",
       "    <tr>\n",
       "      <th>8</th>\n",
       "      <td>africa_social</td>\n",
       "      <td>📢 Volleyball: All clubs have asked for youth a...</td>\n",
       "      <td>San Francisco, California, US</td>\n",
       "      <td>37.780077</td>\n",
       "      <td>-122.420162</td>\n",
       "    </tr>\n",
       "    <tr>\n",
       "      <th>9</th>\n",
       "      <td>jrd_vs</td>\n",
       "      <td>&lt;p&gt;​:ohiru1:​だ​:blobwani_omusubi:​&lt;/p&gt;</td>\n",
       "      <td>San Francisco, California, US</td>\n",
       "      <td>37.780077</td>\n",
       "      <td>-122.420162</td>\n",
       "    </tr>\n",
       "    <tr>\n",
       "      <th>10</th>\n",
       "      <td>roadfmsong</td>\n",
       "      <td>En cours de lecture sur Road FM : Friend Of Mi...</td>\n",
       "      <td>San Francisco, California, US</td>\n",
       "      <td>37.780077</td>\n",
       "      <td>-122.420162</td>\n",
       "    </tr>\n",
       "    <tr>\n",
       "      <th>11</th>\n",
       "      <td>prtimes</td>\n",
       "      <td>Introducing the new \"Pokejet APT-100,\" a porta...</td>\n",
       "      <td>Tokyo, Tokyo, JP</td>\n",
       "      <td>35.689456</td>\n",
       "      <td>139.691716</td>\n",
       "    </tr>\n",
       "    <tr>\n",
       "      <th>12</th>\n",
       "      <td>AztecaDeportes</td>\n",
       "      <td>Fate called! 🚂⚽Jeremy Márquez speaks exclusive...</td>\n",
       "      <td>San Francisco, California, US</td>\n",
       "      <td>37.780077</td>\n",
       "      <td>-122.420162</td>\n",
       "    </tr>\n",
       "    <tr>\n",
       "      <th>13</th>\n",
       "      <td>buffalobills</td>\n",
       "      <td>&lt;p&gt;Bills’ Damar Hamlin predicted to lose job i...</td>\n",
       "      <td>Ashburn, Virginia, US</td>\n",
       "      <td>39.042765</td>\n",
       "      <td>-77.485814</td>\n",
       "    </tr>\n",
       "    <tr>\n",
       "      <th>14</th>\n",
       "      <td>jaseowo</td>\n",
       "      <td>&lt;p&gt;&lt;span&gt;what if instead of zoophilia, you get...</td>\n",
       "      <td>San Francisco, California, US</td>\n",
       "      <td>37.780077</td>\n",
       "      <td>-122.420162</td>\n",
       "    </tr>\n",
       "    <tr>\n",
       "      <th>15</th>\n",
       "      <td>trainaccident</td>\n",
       "      <td>One house burned down, 2 men dead, firefighter...</td>\n",
       "      <td>Singapore, Central Singapore Community Develop...</td>\n",
       "      <td>1.332490</td>\n",
       "      <td>103.848510</td>\n",
       "    </tr>\n",
       "    <tr>\n",
       "      <th>16</th>\n",
       "      <td>ten_nami_ten</td>\n",
       "      <td>Returning Tachi: ......</td>\n",
       "      <td>San Francisco, California, US</td>\n",
       "      <td>37.780077</td>\n",
       "      <td>-122.420162</td>\n",
       "    </tr>\n",
       "    <tr>\n",
       "      <th>17</th>\n",
       "      <td>monumental_movement_records</td>\n",
       "      <td>&lt;p&gt;&lt;a href=\"https://mastodon.social/tags/%E3%8...</td>\n",
       "      <td>San Francisco, California, US</td>\n",
       "      <td>37.780077</td>\n",
       "      <td>-122.420162</td>\n",
       "    </tr>\n",
       "    <tr>\n",
       "      <th>18</th>\n",
       "      <td>easy_fx</td>\n",
       "      <td>&lt;p&gt;&lt;a href=\"https://mastodon.social/tags/XM%E5...</td>\n",
       "      <td>San Francisco, California, US</td>\n",
       "      <td>37.780077</td>\n",
       "      <td>-122.420162</td>\n",
       "    </tr>\n",
       "    <tr>\n",
       "      <th>19</th>\n",
       "      <td>emtk</td>\n",
       "      <td>But Royal is too powerful for that.</td>\n",
       "      <td>San Francisco, California, US</td>\n",
       "      <td>37.780077</td>\n",
       "      <td>-122.420162</td>\n",
       "    </tr>\n",
       "    <tr>\n",
       "      <th>20</th>\n",
       "      <td>inanna</td>\n",
       "      <td>Daylilies at the Botanical Gardens. #Botanical...</td>\n",
       "      <td>San Francisco, California, US</td>\n",
       "      <td>37.780077</td>\n",
       "      <td>-122.420162</td>\n",
       "    </tr>\n",
       "    <tr>\n",
       "      <th>21</th>\n",
       "      <td>speedweek</td>\n",
       "      <td>&lt;p&gt;Oliver Solberg absolviert ersten Toyota-Ral...</td>\n",
       "      <td>San Francisco, California, US</td>\n",
       "      <td>37.780077</td>\n",
       "      <td>-122.420162</td>\n",
       "    </tr>\n",
       "    <tr>\n",
       "      <th>22</th>\n",
       "      <td>tv</td>\n",
       "      <td>&lt;p&gt;SUMMARY: A U.S. judge has blocked Trump's b...</td>\n",
       "      <td>San Francisco, California, US</td>\n",
       "      <td>37.780077</td>\n",
       "      <td>-122.420162</td>\n",
       "    </tr>\n",
       "    <tr>\n",
       "      <th>23</th>\n",
       "      <td>rsssunstar</td>\n",
       "      <td>&lt;p&gt;Iloilo City police showcase 5-minute respon...</td>\n",
       "      <td>San Francisco, California, US</td>\n",
       "      <td>37.780077</td>\n",
       "      <td>-122.420162</td>\n",
       "    </tr>\n",
       "    <tr>\n",
       "      <th>24</th>\n",
       "      <td>onlineusers</td>\n",
       "      <td>&lt;p&gt;4403 &lt;a href=\"https://misskey.io/\" rel=\"nof...</td>\n",
       "      <td>Shinagawa City, Tokyo, JP</td>\n",
       "      <td>35.609160</td>\n",
       "      <td>139.730157</td>\n",
       "    </tr>\n",
       "    <tr>\n",
       "      <th>25</th>\n",
       "      <td>akahata</td>\n",
       "      <td>Sunday Edition 13th Issue / Politics will chan...</td>\n",
       "      <td>Roubaix, Hauts-de-France, FR</td>\n",
       "      <td>50.690958</td>\n",
       "      <td>3.174049</td>\n",
       "    </tr>\n",
       "    <tr>\n",
       "      <th>26</th>\n",
       "      <td>thatwriterguy.com</td>\n",
       "      <td>&lt;p&gt;Thinking about getting a \"Lord of the Rings...</td>\n",
       "      <td>Mountain View, California, US</td>\n",
       "      <td>37.390080</td>\n",
       "      <td>-122.081392</td>\n",
       "    </tr>\n",
       "    <tr>\n",
       "      <th>27</th>\n",
       "      <td>schaumburgernachrichten</td>\n",
       "      <td>Germany's XXL trial + a new chance for social ...</td>\n",
       "      <td>Nürnberg, Bayern, DE</td>\n",
       "      <td>49.450938</td>\n",
       "      <td>11.075269</td>\n",
       "    </tr>\n",
       "    <tr>\n",
       "      <th>28</th>\n",
       "      <td>life</td>\n",
       "      <td>&lt;p&gt;&lt;a href=\"https://www.wacoca.com/life/275475...</td>\n",
       "      <td>Fremont, California, US</td>\n",
       "      <td>37.550202</td>\n",
       "      <td>-121.980830</td>\n",
       "    </tr>\n",
       "    <tr>\n",
       "      <th>29</th>\n",
       "      <td>AgentofSocialMediaChaos</td>\n",
       "      <td>&lt;p&gt;AgentofSocialMediaChaos's Waifu of the Day ...</td>\n",
       "      <td>San Francisco, California, US</td>\n",
       "      <td>37.780077</td>\n",
       "      <td>-122.420162</td>\n",
       "    </tr>\n",
       "    <tr>\n",
       "      <th>30</th>\n",
       "      <td>mmr3cords.bsky.social</td>\n",
       "      <td>&lt;p&gt;&lt;a class=\"hashtag\" rel=\"nofollow noopener\" ...</td>\n",
       "      <td>Mountain View, California, US</td>\n",
       "      <td>37.390080</td>\n",
       "      <td>-122.081392</td>\n",
       "    </tr>\n",
       "    <tr>\n",
       "      <th>31</th>\n",
       "      <td>flyover</td>\n",
       "      <td>Originally: you didn't know how good this one ...</td>\n",
       "      <td>Munich, Bavaria, DE</td>\n",
       "      <td>48.143439</td>\n",
       "      <td>11.573599</td>\n",
       "    </tr>\n",
       "    <tr>\n",
       "      <th>32</th>\n",
       "      <td>ben</td>\n",
       "      <td>&lt;p&gt;It's been a while, and I've come back with ...</td>\n",
       "      <td>Wellington, Wellington, NZ</td>\n",
       "      <td>-41.284894</td>\n",
       "      <td>174.776100</td>\n",
       "    </tr>\n",
       "    <tr>\n",
       "      <th>33</th>\n",
       "      <td>teteatete</td>\n",
       "      <td>&lt;p&gt;O QUE KAFKA DIRIA SOBRE A BUROCRACIA DO SÉC...</td>\n",
       "      <td>San Francisco, California, US</td>\n",
       "      <td>37.780077</td>\n",
       "      <td>-122.420162</td>\n",
       "    </tr>\n",
       "    <tr>\n",
       "      <th>34</th>\n",
       "      <td>kyodo_news</td>\n",
       "      <td>Detailed information: Chinese military aircraf...</td>\n",
       "      <td>San Francisco, California, US</td>\n",
       "      <td>37.780077</td>\n",
       "      <td>-122.420162</td>\n",
       "    </tr>\n",
       "    <tr>\n",
       "      <th>35</th>\n",
       "      <td>DAZNFootball</td>\n",
       "      <td>&lt;p&gt;All of the Blues' shots on target leading t...</td>\n",
       "      <td>San Francisco, California, US</td>\n",
       "      <td>37.780077</td>\n",
       "      <td>-122.420162</td>\n",
       "    </tr>\n",
       "    <tr>\n",
       "      <th>37</th>\n",
       "      <td>709508</td>\n",
       "      <td>&lt;p&gt;New Episode: &lt;a href=\"https://podcastindex....</td>\n",
       "      <td>San Francisco, California, US</td>\n",
       "      <td>37.780077</td>\n",
       "      <td>-122.420162</td>\n",
       "    </tr>\n",
       "    <tr>\n",
       "      <th>38</th>\n",
       "      <td>news_s</td>\n",
       "      <td>&lt;p&gt;‫ الأيرلندي بن هيلي يفوز بالمرحلة السادسة ل...</td>\n",
       "      <td>San Francisco, California, US</td>\n",
       "      <td>37.780077</td>\n",
       "      <td>-122.420162</td>\n",
       "    </tr>\n",
       "    <tr>\n",
       "      <th>39</th>\n",
       "      <td>iembot_dvn</td>\n",
       "      <td>&lt;p&gt;DVN continues Tornado Warning [tornado: RAD...</td>\n",
       "      <td>San Francisco, California, US</td>\n",
       "      <td>37.780077</td>\n",
       "      <td>-122.420162</td>\n",
       "    </tr>\n",
       "    <tr>\n",
       "      <th>40</th>\n",
       "      <td>LaCeys_ES</td>\n",
       "      <td>&lt;p&gt;ぬフォローしてなかった&lt;/p&gt;</td>\n",
       "      <td>San Francisco, California, US</td>\n",
       "      <td>37.780077</td>\n",
       "      <td>-122.420162</td>\n",
       "    </tr>\n",
       "    <tr>\n",
       "      <th>41</th>\n",
       "      <td>youtube_ANNnewsCH</td>\n",
       "      <td>Toshogu Shrine\" in Ueno no Mori, dedicated to ...</td>\n",
       "      <td>Tokyo, Tokyo, JP</td>\n",
       "      <td>35.689456</td>\n",
       "      <td>139.691716</td>\n",
       "    </tr>\n",
       "    <tr>\n",
       "      <th>42</th>\n",
       "      <td>news.medical</td>\n",
       "      <td>&lt;p&gt;Younger Swedes, especially women and ethnic...</td>\n",
       "      <td>Menlo Park, California, US</td>\n",
       "      <td>37.453221</td>\n",
       "      <td>-122.183223</td>\n",
       "    </tr>\n",
       "    <tr>\n",
       "      <th>43</th>\n",
       "      <td>HindustanTimes</td>\n",
       "      <td>&lt;p&gt;Woman returns to waterlogged home in upscal...</td>\n",
       "      <td>Seattle, Washington, US</td>\n",
       "      <td>47.603229</td>\n",
       "      <td>-122.330280</td>\n",
       "    </tr>\n",
       "    <tr>\n",
       "      <th>44</th>\n",
       "      <td>guppy0228</td>\n",
       "      <td>&lt;p&gt;&lt;span&gt;インターステラ、89億円を調達–三井住友銀行やジャパネットが出資 - Uc...</td>\n",
       "      <td>Tokyo, Tokyo, JP</td>\n",
       "      <td>35.689456</td>\n",
       "      <td>139.691716</td>\n",
       "    </tr>\n",
       "    <tr>\n",
       "      <th>45</th>\n",
       "      <td>autonerdery</td>\n",
       "      <td>&lt;p&gt;Okay, this one's mobile again. It was clogg...</td>\n",
       "      <td>Roubaix, Upper France, FR</td>\n",
       "      <td>50.690958</td>\n",
       "      <td>3.174049</td>\n",
       "    </tr>\n",
       "    <tr>\n",
       "      <th>46</th>\n",
       "      <td>todayupdate</td>\n",
       "      <td>&lt;p&gt;Smoke billows from luxury yacht fire in St ...</td>\n",
       "      <td>San Francisco, California, US</td>\n",
       "      <td>37.780077</td>\n",
       "      <td>-122.420162</td>\n",
       "    </tr>\n",
       "    <tr>\n",
       "      <th>47</th>\n",
       "      <td>mlevel</td>\n",
       "      <td>&lt;p&gt;&amp;quot;A work in which there are theories is...</td>\n",
       "      <td>San Francisco, California, US</td>\n",
       "      <td>37.780077</td>\n",
       "      <td>-122.420162</td>\n",
       "    </tr>\n",
       "    <tr>\n",
       "      <th>48</th>\n",
       "      <td>FOXSportsMX</td>\n",
       "      <td>EL MEJOR ANÁLISIS ⚽Inicia #FOXGolMéxico @TonyV...</td>\n",
       "      <td>San Francisco, California, US</td>\n",
       "      <td>37.780077</td>\n",
       "      <td>-122.420162</td>\n",
       "    </tr>\n",
       "    <tr>\n",
       "      <th>49</th>\n",
       "      <td>jctrip.bsky.social</td>\n",
       "      <td>&lt;p&gt;Be Love.&lt;/p&gt;</td>\n",
       "      <td>Mountain View, California, US</td>\n",
       "      <td>37.390080</td>\n",
       "      <td>-122.081392</td>\n",
       "    </tr>\n",
       "  </tbody>\n",
       "</table>\n",
       "</div>"
      ],
      "text/plain": [
       "                       username  \\\n",
       "0                  buffalobills   \n",
       "1                   marvin_h2g2   \n",
       "2                        tkhunt   \n",
       "3                  gulfchannels   \n",
       "4                      SudOuest   \n",
       "5                         Tokyo   \n",
       "6                   EInvestidor   \n",
       "7                 tychotithonus   \n",
       "8                 africa_social   \n",
       "9                        jrd_vs   \n",
       "10                   roadfmsong   \n",
       "11                      prtimes   \n",
       "12               AztecaDeportes   \n",
       "13                 buffalobills   \n",
       "14                      jaseowo   \n",
       "15                trainaccident   \n",
       "16                 ten_nami_ten   \n",
       "17  monumental_movement_records   \n",
       "18                      easy_fx   \n",
       "19                         emtk   \n",
       "20                       inanna   \n",
       "21                    speedweek   \n",
       "22                           tv   \n",
       "23                   rsssunstar   \n",
       "24                  onlineusers   \n",
       "25                      akahata   \n",
       "26            thatwriterguy.com   \n",
       "27      schaumburgernachrichten   \n",
       "28                         life   \n",
       "29      AgentofSocialMediaChaos   \n",
       "30        mmr3cords.bsky.social   \n",
       "31                      flyover   \n",
       "32                          ben   \n",
       "33                    teteatete   \n",
       "34                   kyodo_news   \n",
       "35                 DAZNFootball   \n",
       "37                       709508   \n",
       "38                       news_s   \n",
       "39                   iembot_dvn   \n",
       "40                    LaCeys_ES   \n",
       "41            youtube_ANNnewsCH   \n",
       "42                 news.medical   \n",
       "43               HindustanTimes   \n",
       "44                    guppy0228   \n",
       "45                  autonerdery   \n",
       "46                  todayupdate   \n",
       "47                       mlevel   \n",
       "48                  FOXSportsMX   \n",
       "49           jctrip.bsky.social   \n",
       "\n",
       "                                                 text  \\\n",
       "0   <p>Bills’ Damar Hamlin predicted to lose job i...   \n",
       "1   The Kinki region will continue to be subject t...   \n",
       "2   <p><a href=\"https://www.tkhunt.com/1981499/\" r...   \n",
       "3   https://www.gulfchannels.com/221139/ [BLACKPIN...   \n",
       "4   Road safety: driving in flip-flops, barefoot o...   \n",
       "5   <p>AIM B2B Launches in Tokyo to Transform B2B ...   \n",
       "6   Economic Calendar: Friday, July 11https://einv...   \n",
       "7   <p>\"Engineering should eat security.\"<br>-- Ca...   \n",
       "8   📢 Volleyball: All clubs have asked for youth a...   \n",
       "9              <p>​:ohiru1:​だ​:blobwani_omusubi:​</p>   \n",
       "10  En cours de lecture sur Road FM : Friend Of Mi...   \n",
       "11  Introducing the new \"Pokejet APT-100,\" a porta...   \n",
       "12  Fate called! 🚂⚽Jeremy Márquez speaks exclusive...   \n",
       "13  <p>Bills’ Damar Hamlin predicted to lose job i...   \n",
       "14  <p><span>what if instead of zoophilia, you get...   \n",
       "15  One house burned down, 2 men dead, firefighter...   \n",
       "16                            Returning Tachi: ......   \n",
       "17  <p><a href=\"https://mastodon.social/tags/%E3%8...   \n",
       "18  <p><a href=\"https://mastodon.social/tags/XM%E5...   \n",
       "19                But Royal is too powerful for that.   \n",
       "20  Daylilies at the Botanical Gardens. #Botanical...   \n",
       "21  <p>Oliver Solberg absolviert ersten Toyota-Ral...   \n",
       "22  <p>SUMMARY: A U.S. judge has blocked Trump's b...   \n",
       "23  <p>Iloilo City police showcase 5-minute respon...   \n",
       "24  <p>4403 <a href=\"https://misskey.io/\" rel=\"nof...   \n",
       "25  Sunday Edition 13th Issue / Politics will chan...   \n",
       "26  <p>Thinking about getting a \"Lord of the Rings...   \n",
       "27  Germany's XXL trial + a new chance for social ...   \n",
       "28  <p><a href=\"https://www.wacoca.com/life/275475...   \n",
       "29  <p>AgentofSocialMediaChaos's Waifu of the Day ...   \n",
       "30  <p><a class=\"hashtag\" rel=\"nofollow noopener\" ...   \n",
       "31  Originally: you didn't know how good this one ...   \n",
       "32  <p>It's been a while, and I've come back with ...   \n",
       "33  <p>O QUE KAFKA DIRIA SOBRE A BUROCRACIA DO SÉC...   \n",
       "34  Detailed information: Chinese military aircraf...   \n",
       "35  <p>All of the Blues' shots on target leading t...   \n",
       "37  <p>New Episode: <a href=\"https://podcastindex....   \n",
       "38  <p>‫ الأيرلندي بن هيلي يفوز بالمرحلة السادسة ل...   \n",
       "39  <p>DVN continues Tornado Warning [tornado: RAD...   \n",
       "40                                 <p>ぬフォローしてなかった</p>   \n",
       "41  Toshogu Shrine\" in Ueno no Mori, dedicated to ...   \n",
       "42  <p>Younger Swedes, especially women and ethnic...   \n",
       "43  <p>Woman returns to waterlogged home in upscal...   \n",
       "44  <p><span>インターステラ、89億円を調達–三井住友銀行やジャパネットが出資 - Uc...   \n",
       "45  <p>Okay, this one's mobile again. It was clogg...   \n",
       "46  <p>Smoke billows from luxury yacht fire in St ...   \n",
       "47  <p>&quot;A work in which there are theories is...   \n",
       "48  EL MEJOR ANÁLISIS ⚽Inicia #FOXGolMéxico @TonyV...   \n",
       "49                                    <p>Be Love.</p>   \n",
       "\n",
       "                                             location   latitude   longitude  \n",
       "0                               Ashburn, Virginia, US  39.042765  -77.485814  \n",
       "1                       San Francisco, California, US  37.780077 -122.420162  \n",
       "2                                    Tokyo, Tokyo, JP  35.689456  139.691716  \n",
       "3                             Fremont, California, US  37.550202 -121.980830  \n",
       "4                             Seattle, Washington, US  47.603229 -122.330280  \n",
       "5                               Ashburn, Virginia, US  39.042765  -77.485814  \n",
       "6                             Seattle, Washington, US  47.603229 -122.330280  \n",
       "7                       San Francisco, California, US  37.780077 -122.420162  \n",
       "8                       San Francisco, California, US  37.780077 -122.420162  \n",
       "9                       San Francisco, California, US  37.780077 -122.420162  \n",
       "10                      San Francisco, California, US  37.780077 -122.420162  \n",
       "11                                   Tokyo, Tokyo, JP  35.689456  139.691716  \n",
       "12                      San Francisco, California, US  37.780077 -122.420162  \n",
       "13                              Ashburn, Virginia, US  39.042765  -77.485814  \n",
       "14                      San Francisco, California, US  37.780077 -122.420162  \n",
       "15  Singapore, Central Singapore Community Develop...   1.332490  103.848510  \n",
       "16                      San Francisco, California, US  37.780077 -122.420162  \n",
       "17                      San Francisco, California, US  37.780077 -122.420162  \n",
       "18                      San Francisco, California, US  37.780077 -122.420162  \n",
       "19                      San Francisco, California, US  37.780077 -122.420162  \n",
       "20                      San Francisco, California, US  37.780077 -122.420162  \n",
       "21                      San Francisco, California, US  37.780077 -122.420162  \n",
       "22                      San Francisco, California, US  37.780077 -122.420162  \n",
       "23                      San Francisco, California, US  37.780077 -122.420162  \n",
       "24                          Shinagawa City, Tokyo, JP  35.609160  139.730157  \n",
       "25                       Roubaix, Hauts-de-France, FR  50.690958    3.174049  \n",
       "26                      Mountain View, California, US  37.390080 -122.081392  \n",
       "27                               Nürnberg, Bayern, DE  49.450938   11.075269  \n",
       "28                            Fremont, California, US  37.550202 -121.980830  \n",
       "29                      San Francisco, California, US  37.780077 -122.420162  \n",
       "30                      Mountain View, California, US  37.390080 -122.081392  \n",
       "31                                Munich, Bavaria, DE  48.143439   11.573599  \n",
       "32                         Wellington, Wellington, NZ -41.284894  174.776100  \n",
       "33                      San Francisco, California, US  37.780077 -122.420162  \n",
       "34                      San Francisco, California, US  37.780077 -122.420162  \n",
       "35                      San Francisco, California, US  37.780077 -122.420162  \n",
       "37                      San Francisco, California, US  37.780077 -122.420162  \n",
       "38                      San Francisco, California, US  37.780077 -122.420162  \n",
       "39                      San Francisco, California, US  37.780077 -122.420162  \n",
       "40                      San Francisco, California, US  37.780077 -122.420162  \n",
       "41                                   Tokyo, Tokyo, JP  35.689456  139.691716  \n",
       "42                         Menlo Park, California, US  37.453221 -122.183223  \n",
       "43                            Seattle, Washington, US  47.603229 -122.330280  \n",
       "44                                   Tokyo, Tokyo, JP  35.689456  139.691716  \n",
       "45                          Roubaix, Upper France, FR  50.690958    3.174049  \n",
       "46                      San Francisco, California, US  37.780077 -122.420162  \n",
       "47                      San Francisco, California, US  37.780077 -122.420162  \n",
       "48                      San Francisco, California, US  37.780077 -122.420162  \n",
       "49                      Mountain View, California, US  37.390080 -122.081392  "
      ]
     },
     "execution_count": 64,
     "metadata": {},
     "output_type": "execute_result"
    }
   ],
   "source": [
    "df"
   ]
  },
  {
   "cell_type": "markdown",
   "metadata": {},
   "source": [
    "### Creating a Map with Folium\n",
    "Create a folium Map on which we’ll plot the toot locations\n",
    "\n",
    "Note: We used **Stamen map tiles** in our book: \n",
    "* Stamen recently lost their funding, which they used to maintain their own servers. \n",
    "* The `folium` maintainers have decided not to support Stamen map tiles directly moving forward, but you can specify a custom map tile link with `folium`.\n",
    "* Stamen has begun a new partnership with stadiamaps.com, which requires an API key. \n",
    "* See https://stadiamaps.com/stamen/ for details on setting up a free account and getting an API key. \n",
    "* In `keys_mastodon.py`, provide your API key in the `stadia_key` variable. "
   ]
  },
  {
   "cell_type": "code",
   "execution_count": 65,
   "metadata": {
    "tags": []
   },
   "outputs": [],
   "source": [
    "import keys_mastodon\n",
    "import folium"
   ]
  },
  {
   "cell_type": "code",
   "execution_count": null,
   "metadata": {
    "jupyter": {
     "source_hidden": true
    },
    "tags": []
   },
   "outputs": [],
   "source": [
    "#usmap = folium.Map(location=[39.8283, -98.5795], \n",
    "#    tiles='Stamen Terrain', zoom_start=4, detect_retina=True) "
   ]
  },
  {
   "cell_type": "code",
   "execution_count": null,
   "metadata": {
    "jupyter": {
     "source_hidden": true
    },
    "tags": []
   },
   "outputs": [],
   "source": [
    "#base_tile_url = 'https://tiles.stadiamaps.com/tiles/stamen_terrain/{z}/{x}/{y}@2x.png'\n",
    "#tile_url = f'{base_tile_url}?api_key=\"{keys_mastodon.stadia_key}\")'"
   ]
  },
  {
   "cell_type": "code",
   "execution_count": 66,
   "metadata": {
    "tags": []
   },
   "outputs": [],
   "source": [
    "usmap = folium.Map(location=[39.8283, -98.5795], \n",
    "    zoom_start=4, detect_retina=True)  "
   ]
  },
  {
   "cell_type": "code",
   "execution_count": null,
   "metadata": {
    "jupyter": {
     "source_hidden": true
    },
    "tags": []
   },
   "outputs": [],
   "source": [
    "usmap = folium.Map(location=[39.8283, -98.5795], \n",
    "    #tiles=tile_url,\n",
    "    #attr='Map tiles by Stamen Design, under CC BY 4.0. Data by OpenStreetMap, under ODbL.',\n",
    "    zoom_start=4, detect_retina=True)  "
   ]
  },
  {
   "cell_type": "markdown",
   "metadata": {},
   "source": [
    "* `location` keyword argument specifies a sequence containing latitude and longitude coordinates for the **map’s center point** \n",
    "    * The values in this snippet are the **geographic center of the continental United States**\n",
    "    * In many places worldwide, the term `'football'` describes the sport we call soccer in the U.S., so some of the toots we plot may be outside the U.S\n",
    "    * You can zoom using the **+** and **–** buttons at the map’s top-left, or you can dragging the map with the mouse (that is, pan) to see anywhere in the world\n",
    "*  `zoom_start` keyword argument specifies the map’s initial zoom level, lower values show more of the world\n",
    "* `detect_retina` keyword argument enables folium to detect high-resolution screens to use higher-resolution maps from `OpenStreetMap.org`"
   ]
  },
  {
   "cell_type": "markdown",
   "metadata": {},
   "source": [
    "### Creating Popup Markers for the Toot Locations\n",
    "* Create `folium` `Popup` objects containing each toot’s text and add them to the `Map`\n",
    "* `DataFrame` method `itertuples` creates a named tuple from each row containing properties corresponding to each `DataFrame` column"
   ]
  },
  {
   "cell_type": "code",
   "execution_count": 67,
   "metadata": {
    "tags": []
   },
   "outputs": [],
   "source": [
    "for t in df.itertuples():\n",
    "    text = ''.join(['<p>' + t.username + '</p>', t.text if t.text else ''])\n",
    "    popup = folium.Popup(text)\n",
    "    marker = folium.Marker((t.latitude, t.longitude), popup=popup)\n",
    "    marker.add_to(usmap)"
   ]
  },
  {
   "cell_type": "markdown",
   "metadata": {},
   "source": [
    "* Creates a string (`text`) containing the user’s `username` and toot `text` \n",
    "* Creates a `folium` `Popup` to display the `text`\n",
    "* Creates a `folium` `Marker`\n",
    "    * tuple to specify the `Marker`’s latitude and longitude\n",
    "    * `popup` keyword argument associates the toot’s `Popup` object with the new `Marker`\n",
    "* Calls the `Marker`’s `add_to` method to specify the `Map` that will display the `Marker`"
   ]
  },
  {
   "cell_type": "markdown",
   "metadata": {},
   "source": [
    "### Saving the Map\n",
    "* Call the `Map`’s `save` method to store the map in an HTML file, which you can then double-click to open in your web browser"
   ]
  },
  {
   "cell_type": "code",
   "execution_count": null,
   "metadata": {},
   "outputs": [],
   "source": [
    "usmap.save('toot_map.html')"
   ]
  },
  {
   "cell_type": "code",
   "execution_count": 68,
   "metadata": {
    "tags": []
   },
   "outputs": [
    {
     "data": {
      "text/html": [
       "<div style=\"width:100%;\"><div style=\"position:relative;width:100%;height:0;padding-bottom:60%;\"><span style=\"color:#565656\">Make this Notebook Trusted to load map: File -> Trust Notebook</span><iframe srcdoc=\"&lt;!DOCTYPE html&gt;\n",
       "&lt;html&gt;\n",
       "&lt;head&gt;\n",
       "    \n",
       "    &lt;meta http-equiv=&quot;content-type&quot; content=&quot;text/html; charset=UTF-8&quot; /&gt;\n",
       "    &lt;script src=&quot;https://cdn.jsdelivr.net/npm/leaflet@1.9.3/dist/leaflet.js&quot;&gt;&lt;/script&gt;\n",
       "    &lt;script src=&quot;https://code.jquery.com/jquery-3.7.1.min.js&quot;&gt;&lt;/script&gt;\n",
       "    &lt;script src=&quot;https://cdn.jsdelivr.net/npm/bootstrap@5.2.2/dist/js/bootstrap.bundle.min.js&quot;&gt;&lt;/script&gt;\n",
       "    &lt;script src=&quot;https://cdnjs.cloudflare.com/ajax/libs/Leaflet.awesome-markers/2.0.2/leaflet.awesome-markers.js&quot;&gt;&lt;/script&gt;\n",
       "    &lt;link rel=&quot;stylesheet&quot; href=&quot;https://cdn.jsdelivr.net/npm/leaflet@1.9.3/dist/leaflet.css&quot;/&gt;\n",
       "    &lt;link rel=&quot;stylesheet&quot; href=&quot;https://cdn.jsdelivr.net/npm/bootstrap@5.2.2/dist/css/bootstrap.min.css&quot;/&gt;\n",
       "    &lt;link rel=&quot;stylesheet&quot; href=&quot;https://netdna.bootstrapcdn.com/bootstrap/3.0.0/css/bootstrap-glyphicons.css&quot;/&gt;\n",
       "    &lt;link rel=&quot;stylesheet&quot; href=&quot;https://cdn.jsdelivr.net/npm/@fortawesome/fontawesome-free@6.2.0/css/all.min.css&quot;/&gt;\n",
       "    &lt;link rel=&quot;stylesheet&quot; href=&quot;https://cdnjs.cloudflare.com/ajax/libs/Leaflet.awesome-markers/2.0.2/leaflet.awesome-markers.css&quot;/&gt;\n",
       "    &lt;link rel=&quot;stylesheet&quot; href=&quot;https://cdn.jsdelivr.net/gh/python-visualization/folium/folium/templates/leaflet.awesome.rotate.min.css&quot;/&gt;\n",
       "    \n",
       "            &lt;meta name=&quot;viewport&quot; content=&quot;width=device-width,\n",
       "                initial-scale=1.0, maximum-scale=1.0, user-scalable=no&quot; /&gt;\n",
       "            &lt;style&gt;\n",
       "                #map_0d0b330cae222ae2570ebf21453b6135 {\n",
       "                    position: relative;\n",
       "                    width: 100.0%;\n",
       "                    height: 100.0%;\n",
       "                    left: 0.0%;\n",
       "                    top: 0.0%;\n",
       "                }\n",
       "                .leaflet-container { font-size: 1rem; }\n",
       "            &lt;/style&gt;\n",
       "\n",
       "            &lt;style&gt;html, body {\n",
       "                width: 100%;\n",
       "                height: 100%;\n",
       "                margin: 0;\n",
       "                padding: 0;\n",
       "            }\n",
       "            &lt;/style&gt;\n",
       "\n",
       "            &lt;style&gt;#map {\n",
       "                position:absolute;\n",
       "                top:0;\n",
       "                bottom:0;\n",
       "                right:0;\n",
       "                left:0;\n",
       "                }\n",
       "            &lt;/style&gt;\n",
       "\n",
       "            &lt;script&gt;\n",
       "                L_NO_TOUCH = false;\n",
       "                L_DISABLE_3D = false;\n",
       "            &lt;/script&gt;\n",
       "\n",
       "        \n",
       "&lt;/head&gt;\n",
       "&lt;body&gt;\n",
       "    \n",
       "    \n",
       "            &lt;div class=&quot;folium-map&quot; id=&quot;map_0d0b330cae222ae2570ebf21453b6135&quot; &gt;&lt;/div&gt;\n",
       "        \n",
       "&lt;/body&gt;\n",
       "&lt;script&gt;\n",
       "    \n",
       "    \n",
       "            var map_0d0b330cae222ae2570ebf21453b6135 = L.map(\n",
       "                &quot;map_0d0b330cae222ae2570ebf21453b6135&quot;,\n",
       "                {\n",
       "                    center: [39.8283, -98.5795],\n",
       "                    crs: L.CRS.EPSG3857,\n",
       "                    ...{\n",
       "  &quot;zoom&quot;: 4,\n",
       "  &quot;zoomControl&quot;: true,\n",
       "  &quot;preferCanvas&quot;: false,\n",
       "  &quot;detectRetina&quot;: true,\n",
       "}\n",
       "\n",
       "                }\n",
       "            );\n",
       "\n",
       "            \n",
       "\n",
       "        \n",
       "    \n",
       "            var tile_layer_fe740cc7c21d75e4fd87d97f69417598 = L.tileLayer(\n",
       "                &quot;https://tile.openstreetmap.org/{z}/{x}/{y}.png&quot;,\n",
       "                {\n",
       "  &quot;minZoom&quot;: 0,\n",
       "  &quot;maxZoom&quot;: 19,\n",
       "  &quot;maxNativeZoom&quot;: 19,\n",
       "  &quot;noWrap&quot;: false,\n",
       "  &quot;attribution&quot;: &quot;\\u0026copy; \\u003ca href=\\&quot;https://www.openstreetmap.org/copyright\\&quot;\\u003eOpenStreetMap\\u003c/a\\u003e contributors&quot;,\n",
       "  &quot;subdomains&quot;: &quot;abc&quot;,\n",
       "  &quot;detectRetina&quot;: false,\n",
       "  &quot;tms&quot;: false,\n",
       "  &quot;opacity&quot;: 1,\n",
       "}\n",
       "\n",
       "            );\n",
       "        \n",
       "    \n",
       "            tile_layer_fe740cc7c21d75e4fd87d97f69417598.addTo(map_0d0b330cae222ae2570ebf21453b6135);\n",
       "        \n",
       "    \n",
       "            var marker_712cbbd60ea8a2b1f91709a8a999fdc0 = L.marker(\n",
       "                [39.0427652, -77.4858142],\n",
       "                {\n",
       "}\n",
       "            ).addTo(map_0d0b330cae222ae2570ebf21453b6135);\n",
       "        \n",
       "    \n",
       "        var popup_0f82b297f425e2a4008b3acf0f59a65b = L.popup({\n",
       "  &quot;maxWidth&quot;: &quot;100%&quot;,\n",
       "});\n",
       "\n",
       "        \n",
       "            \n",
       "                var html_c19200b09ced0cf847371c0be51539ca = $(`&lt;div id=&quot;html_c19200b09ced0cf847371c0be51539ca&quot; style=&quot;width: 100.0%; height: 100.0%;&quot;&gt;&lt;p&gt;buffalobills&lt;/p&gt;&lt;p&gt;Bills’ Damar Hamlin predicted to lose job in key position battle in Buffalo&lt;/p&gt;&lt;p&gt;Damar Hamlin pretty much earned a Buffalo Bills starting safety job by default in 2024. When second-round pick…&lt;br&gt;&lt;a href=&quot;https://channels.im/tags/NFL&quot; class=&quot;mention hashtag&quot; rel=&quot;nofollow noopener&quot; target=&quot;_blank&quot;&gt;#&lt;span&gt;NFL&lt;/span&gt;&lt;/a&gt; &lt;a href=&quot;https://channels.im/tags/BuffaloBills&quot; class=&quot;mention hashtag&quot; rel=&quot;nofollow noopener&quot; target=&quot;_blank&quot;&gt;#&lt;span&gt;BuffaloBills&lt;/span&gt;&lt;/a&gt; &lt;a href=&quot;https://channels.im/tags/Buffalo&quot; class=&quot;mention hashtag&quot; rel=&quot;nofollow noopener&quot; target=&quot;_blank&quot;&gt;#&lt;span&gt;Buffalo&lt;/span&gt;&lt;/a&gt; &lt;a href=&quot;https://channels.im/tags/Bills&quot; class=&quot;mention hashtag&quot; rel=&quot;nofollow noopener&quot; target=&quot;_blank&quot;&gt;#&lt;span&gt;Bills&lt;/span&gt;&lt;/a&gt; &lt;a href=&quot;https://channels.im/tags/brandonbeane&quot; class=&quot;mention hashtag&quot; rel=&quot;nofollow noopener&quot; target=&quot;_blank&quot;&gt;#&lt;span&gt;brandonbeane&lt;/span&gt;&lt;/a&gt; &lt;a href=&quot;https://channels.im/tags/ColeBishop&quot; class=&quot;mention hashtag&quot; rel=&quot;nofollow noopener&quot; target=&quot;_blank&quot;&gt;#&lt;span&gt;ColeBishop&lt;/span&gt;&lt;/a&gt; &lt;a href=&quot;https://channels.im/tags/DamarHamlin&quot; class=&quot;mention hashtag&quot; rel=&quot;nofollow noopener&quot; target=&quot;_blank&quot;&gt;#&lt;span&gt;DamarHamlin&lt;/span&gt;&lt;/a&gt; &lt;a href=&quot;https://channels.im/tags/DarrickForrest&quot; class=&quot;mention hashtag&quot; rel=&quot;nofollow noopener&quot; target=&quot;_blank&quot;&gt;#&lt;span&gt;DarrickForrest&lt;/span&gt;&lt;/a&gt; &lt;a href=&quot;https://channels.im/tags/DenverBroncos&quot; class=&quot;mention hashtag&quot; rel=&quot;nofollow noopener&quot; target=&quot;_blank&quot;&gt;#&lt;span&gt;DenverBroncos&lt;/span&gt;&lt;/a&gt; &lt;a href=&quot;https://channels.im/tags/Football&quot; class=&quot;mention hashtag&quot; rel=&quot;nofollow noopener&quot; target=&quot;_blank&quot;&gt;#&lt;span&gt;Football&lt;/span&gt;&lt;/a&gt; &lt;a href=&quot;https://channels.im/tags/TaylorRapp&quot; class=&quot;mention hashtag&quot; rel=&quot;nofollow noopener&quot; target=&quot;_blank&quot;&gt;#&lt;span&gt;TaylorRapp&lt;/span&gt;&lt;/a&gt;&lt;br&gt;&lt;a href=&quot;https://www.rawchili.com/nfl/197653/&quot; rel=&quot;nofollow noopener&quot; translate=&quot;no&quot; target=&quot;_blank&quot;&gt;&lt;span class=&quot;invisible&quot;&gt;https://www.&lt;/span&gt;&lt;span class=&quot;&quot;&gt;rawchili.com/nfl/197653/&lt;/span&gt;&lt;span class=&quot;invisible&quot;&gt;&lt;/span&gt;&lt;/a&gt;&lt;/p&gt;&lt;/div&gt;`)[0];\n",
       "                popup_0f82b297f425e2a4008b3acf0f59a65b.setContent(html_c19200b09ced0cf847371c0be51539ca);\n",
       "            \n",
       "        \n",
       "\n",
       "        marker_712cbbd60ea8a2b1f91709a8a999fdc0.bindPopup(popup_0f82b297f425e2a4008b3acf0f59a65b)\n",
       "        ;\n",
       "\n",
       "        \n",
       "    \n",
       "    \n",
       "            var marker_0b918ddf724a6c01f2f3ef8c183ff076 = L.marker(\n",
       "                [37.7800771, -122.4201615],\n",
       "                {\n",
       "}\n",
       "            ).addTo(map_0d0b330cae222ae2570ebf21453b6135);\n",
       "        \n",
       "    \n",
       "        var popup_1491312c6ec9d9ab6200105e3c17602e = L.popup({\n",
       "  &quot;maxWidth&quot;: &quot;100%&quot;,\n",
       "});\n",
       "\n",
       "        \n",
       "            \n",
       "                var html_c99f592a2b0189a877fdb4702313c619 = $(`&lt;div id=&quot;html_c99f592a2b0189a877fdb4702313c619&quot; style=&quot;width: 100.0%; height: 100.0%;&quot;&gt;&lt;p&gt;marvin_h2g2&lt;/p&gt;The Kinki region will continue to be subject to sudden thunderstorms and power outages due to lightning strikes today and on the 11th. There is a risk of sudden thunderstorms and heavy rain. https://twitter.com/tenkijp/status/1943505158748672207posted by @tenkijp@x.com on July 11, 2025 at 11:58AM #tenkijp&lt;/div&gt;`)[0];\n",
       "                popup_1491312c6ec9d9ab6200105e3c17602e.setContent(html_c99f592a2b0189a877fdb4702313c619);\n",
       "            \n",
       "        \n",
       "\n",
       "        marker_0b918ddf724a6c01f2f3ef8c183ff076.bindPopup(popup_1491312c6ec9d9ab6200105e3c17602e)\n",
       "        ;\n",
       "\n",
       "        \n",
       "    \n",
       "    \n",
       "            var marker_33a770f20704c865d6f8ef65a854fc2f = L.marker(\n",
       "                [35.68945633, 139.69171609],\n",
       "                {\n",
       "}\n",
       "            ).addTo(map_0d0b330cae222ae2570ebf21453b6135);\n",
       "        \n",
       "    \n",
       "        var popup_575a1736ad7fe1b852a85bfcea29180c = L.popup({\n",
       "  &quot;maxWidth&quot;: &quot;100%&quot;,\n",
       "});\n",
       "\n",
       "        \n",
       "            \n",
       "                var html_8e414228d6e36467b3ba1500b4eb9566 = $(`&lt;div id=&quot;html_8e414228d6e36467b3ba1500b4eb9566&quot; style=&quot;width: 100.0%; height: 100.0%;&quot;&gt;&lt;p&gt;tkhunt&lt;/p&gt;&lt;p&gt;&lt;a href=&quot;https://www.tkhunt.com/1981499/&quot; rel=&quot;nofollow noopener&quot; translate=&quot;no&quot; target=&quot;_blank&quot;&gt;&lt;span class=&quot;invisible&quot;&gt;https://www.&lt;/span&gt;&lt;span class=&quot;&quot;&gt;tkhunt.com/1981499/&lt;/span&gt;&lt;span class=&quot;invisible&quot;&gt;&lt;/span&gt;&lt;/a&gt; ハウス 反町隆史 紺野まひる 15秒01 &lt;a href=&quot;https://jpmstdn.com/tags/celebrity&quot; class=&quot;mention hashtag&quot; rel=&quot;nofollow noopener&quot; target=&quot;_blank&quot;&gt;#&lt;span&gt;celebrity&lt;/span&gt;&lt;/a&gt; &lt;a href=&quot;https://jpmstdn.com/tags/%E7%B4%BA%E9%87%8E%E3%81%BE%E3%81%B2%E3%82%8B&quot; class=&quot;mention hashtag&quot; rel=&quot;nofollow noopener&quot; target=&quot;_blank&quot;&gt;#&lt;span&gt;紺野まひる&lt;/span&gt;&lt;/a&gt;&lt;/p&gt;&lt;/div&gt;`)[0];\n",
       "                popup_575a1736ad7fe1b852a85bfcea29180c.setContent(html_8e414228d6e36467b3ba1500b4eb9566);\n",
       "            \n",
       "        \n",
       "\n",
       "        marker_33a770f20704c865d6f8ef65a854fc2f.bindPopup(popup_575a1736ad7fe1b852a85bfcea29180c)\n",
       "        ;\n",
       "\n",
       "        \n",
       "    \n",
       "    \n",
       "            var marker_814ea90114e7d480b19bbfce1cf9b13b = L.marker(\n",
       "                [37.5502017, -121.98083],\n",
       "                {\n",
       "}\n",
       "            ).addTo(map_0d0b330cae222ae2570ebf21453b6135);\n",
       "        \n",
       "    \n",
       "        var popup_383caa791f4dd7b65807fdf6517c7694 = L.popup({\n",
       "  &quot;maxWidth&quot;: &quot;100%&quot;,\n",
       "});\n",
       "\n",
       "        \n",
       "            \n",
       "                var html_2e772815d78685074d7f8d122af6941e = $(`&lt;div id=&quot;html_2e772815d78685074d7f8d122af6941e&quot; style=&quot;width: 100.0%; height: 100.0%;&quot;&gt;&lt;p&gt;gulfchannels&lt;/p&gt;https://www.gulfchannels.com/221139/ [BLACKPINK] 250711 Blackpink World Tour [DEADLINE] at official pop-up stores in North America #blackpink #BLΛƆKPIИK #블랙핑크&lt;/div&gt;`)[0];\n",
       "                popup_383caa791f4dd7b65807fdf6517c7694.setContent(html_2e772815d78685074d7f8d122af6941e);\n",
       "            \n",
       "        \n",
       "\n",
       "        marker_814ea90114e7d480b19bbfce1cf9b13b.bindPopup(popup_383caa791f4dd7b65807fdf6517c7694)\n",
       "        ;\n",
       "\n",
       "        \n",
       "    \n",
       "    \n",
       "            var marker_c7ae3789b983f37a6a763bc086563ab5 = L.marker(\n",
       "                [47.603229, -122.33028],\n",
       "                {\n",
       "}\n",
       "            ).addTo(map_0d0b330cae222ae2570ebf21453b6135);\n",
       "        \n",
       "    \n",
       "        var popup_eb7c804410ed02ee2a9c4fdc1b747eea = L.popup({\n",
       "  &quot;maxWidth&quot;: &quot;100%&quot;,\n",
       "});\n",
       "\n",
       "        \n",
       "            \n",
       "                var html_ffd423c2f5e341ba6fdea6e3aac18260 = $(`&lt;div id=&quot;html_ffd423c2f5e341ba6fdea6e3aac18260&quot; style=&quot;width: 100.0%; height: 100.0%;&quot;&gt;&lt;p&gt;SudOuest&lt;/p&gt;Road safety: driving in flip-flops, barefoot or topless, what you riskhttps://www.sudouest.fr/justice/securite-routiere-conduire-en-tongs-pieds-ou-torse-nus-ce-que-l-on-risque-25202928.php?utm_source=flipboard&amp;utm_medium=activitypub Publié dans L&#x27;essentiel @l-essentiel-SudOuest&lt;/div&gt;`)[0];\n",
       "                popup_eb7c804410ed02ee2a9c4fdc1b747eea.setContent(html_ffd423c2f5e341ba6fdea6e3aac18260);\n",
       "            \n",
       "        \n",
       "\n",
       "        marker_c7ae3789b983f37a6a763bc086563ab5.bindPopup(popup_eb7c804410ed02ee2a9c4fdc1b747eea)\n",
       "        ;\n",
       "\n",
       "        \n",
       "    \n",
       "    \n",
       "            var marker_b0d86429359174e80491256bd0f8ad89 = L.marker(\n",
       "                [39.0427652, -77.4858142],\n",
       "                {\n",
       "}\n",
       "            ).addTo(map_0d0b330cae222ae2570ebf21453b6135);\n",
       "        \n",
       "    \n",
       "        var popup_34f3bd5776ea5ba41900968dbdde95a8 = L.popup({\n",
       "  &quot;maxWidth&quot;: &quot;100%&quot;,\n",
       "});\n",
       "\n",
       "        \n",
       "            \n",
       "                var html_48ccaad064b21f6616bc809748c890ed = $(`&lt;div id=&quot;html_48ccaad064b21f6616bc809748c890ed&quot; style=&quot;width: 100.0%; height: 100.0%;&quot;&gt;&lt;p&gt;Tokyo&lt;/p&gt;&lt;p&gt;AIM B2B Launches in Tokyo to Transform B2B Marketing in Asia&lt;/p&gt;&lt;p&gt;TOKYO, July 10, 2025 /PRNewswire/ — Today marks the launch of AIM B2B, a dedicated marketing and communications agency in the Custom Media group with a relentless focus to successfully guide B2B brands in…&lt;br&gt;&lt;a href=&quot;https://channels.im/tags/Japan&quot; class=&quot;mention hashtag&quot; rel=&quot;nofollow noopener&quot; target=&quot;_blank&quot;&gt;#&lt;span&gt;Japan&lt;/span&gt;&lt;/a&gt; &lt;a href=&quot;https://channels.im/tags/JP&quot; class=&quot;mention hashtag&quot; rel=&quot;nofollow noopener&quot; target=&quot;_blank&quot;&gt;#&lt;span&gt;JP&lt;/span&gt;&lt;/a&gt; &lt;a href=&quot;https://channels.im/tags/Tokyo&quot; class=&quot;mention hashtag&quot; rel=&quot;nofollow noopener&quot; target=&quot;_blank&quot;&gt;#&lt;span&gt;Tokyo&lt;/span&gt;&lt;/a&gt; &lt;a href=&quot;https://channels.im/tags/asia&quot; class=&quot;mention hashtag&quot; rel=&quot;nofollow noopener&quot; target=&quot;_blank&quot;&gt;#&lt;span&gt;asia&lt;/span&gt;&lt;/a&gt; &lt;a href=&quot;https://channels.im/tags/competitivemarket&quot; class=&quot;mention hashtag&quot; rel=&quot;nofollow noopener&quot; target=&quot;_blank&quot;&gt;#&lt;span&gt;competitivemarket&lt;/span&gt;&lt;/a&gt; &lt;a href=&quot;https://channels.im/tags/competitivemarkets&quot; class=&quot;mention hashtag&quot; rel=&quot;nofollow noopener&quot; target=&quot;_blank&quot;&gt;#&lt;span&gt;competitivemarkets&lt;/span&gt;&lt;/a&gt; &lt;a href=&quot;https://channels.im/tags/CustomMedia&quot; class=&quot;mention hashtag&quot; rel=&quot;nofollow noopener&quot; target=&quot;_blank&quot;&gt;#&lt;span&gt;CustomMedia&lt;/span&gt;&lt;/a&gt; &lt;a href=&quot;https://channels.im/tags/news&quot; class=&quot;mention hashtag&quot; rel=&quot;nofollow noopener&quot; target=&quot;_blank&quot;&gt;#&lt;span&gt;news&lt;/span&gt;&lt;/a&gt; &lt;a href=&quot;https://channels.im/tags/relentlessfocus&quot; class=&quot;mention hashtag&quot; rel=&quot;nofollow noopener&quot; target=&quot;_blank&quot;&gt;#&lt;span&gt;relentlessfocus&lt;/span&gt;&lt;/a&gt; &lt;a href=&quot;https://channels.im/tags/strategicplanning&quot; class=&quot;mention hashtag&quot; rel=&quot;nofollow noopener&quot; target=&quot;_blank&quot;&gt;#&lt;span&gt;strategicplanning&lt;/span&gt;&lt;/a&gt; &lt;a href=&quot;https://channels.im/tags/tokyonews&quot; class=&quot;mention hashtag&quot; rel=&quot;nofollow noopener&quot; target=&quot;_blank&quot;&gt;#&lt;span&gt;tokyonews&lt;/span&gt;&lt;/a&gt; &lt;a href=&quot;https://channels.im/tags/%E6%9D%B1%E4%BA%AC&quot; class=&quot;mention hashtag&quot; rel=&quot;nofollow noopener&quot; target=&quot;_blank&quot;&gt;#&lt;span&gt;東京&lt;/span&gt;&lt;/a&gt; &lt;a href=&quot;https://channels.im/tags/%E6%9D%B1%E4%BA%AC%E9%83%BD&quot; class=&quot;mention hashtag&quot; rel=&quot;nofollow noopener&quot; target=&quot;_blank&quot;&gt;#&lt;span&gt;東京都&lt;/span&gt;&lt;/a&gt;&lt;br&gt;&lt;a href=&quot;https://www.alojapan.com/1318948/aim-b2b-launches-in-tokyo-to-transform-b2b-marketing-in-asia/&quot; rel=&quot;nofollow noopener&quot; translate=&quot;no&quot; target=&quot;_blank&quot;&gt;&lt;span class=&quot;invisible&quot;&gt;https://www.&lt;/span&gt;&lt;span class=&quot;ellipsis&quot;&gt;alojapan.com/1318948/aim-b2b-l&lt;/span&gt;&lt;span class=&quot;invisible&quot;&gt;aunches-in-tokyo-to-transform-b2b-marketing-in-asia/&lt;/span&gt;&lt;/a&gt;&lt;/p&gt;&lt;/div&gt;`)[0];\n",
       "                popup_34f3bd5776ea5ba41900968dbdde95a8.setContent(html_48ccaad064b21f6616bc809748c890ed);\n",
       "            \n",
       "        \n",
       "\n",
       "        marker_b0d86429359174e80491256bd0f8ad89.bindPopup(popup_34f3bd5776ea5ba41900968dbdde95a8)\n",
       "        ;\n",
       "\n",
       "        \n",
       "    \n",
       "    \n",
       "            var marker_b64bc71d6727a4df376e11c5c1eb5d80 = L.marker(\n",
       "                [47.603229, -122.33028],\n",
       "                {\n",
       "}\n",
       "            ).addTo(map_0d0b330cae222ae2570ebf21453b6135);\n",
       "        \n",
       "    \n",
       "        var popup_c765372357350d61d2ecc09dd321aecc = L.popup({\n",
       "  &quot;maxWidth&quot;: &quot;100%&quot;,\n",
       "});\n",
       "\n",
       "        \n",
       "            \n",
       "                var html_12d5e252f459ce4f02defbab7797fa0c = $(`&lt;div id=&quot;html_12d5e252f459ce4f02defbab7797fa0c&quot; style=&quot;width: 100.0%; height: 100.0%;&quot;&gt;&lt;p&gt;EInvestidor&lt;/p&gt;Economic Calendar: Friday, July 11https://einvestidor.estadao.com.br/ultimas/calendario-economico-sexta-feira-11-de-julho-2025/?utm_source=flipboard&amp;utm_medium=activitypub Posted in E-Investidor @e-investidor-EInvestidor&lt;/div&gt;`)[0];\n",
       "                popup_c765372357350d61d2ecc09dd321aecc.setContent(html_12d5e252f459ce4f02defbab7797fa0c);\n",
       "            \n",
       "        \n",
       "\n",
       "        marker_b64bc71d6727a4df376e11c5c1eb5d80.bindPopup(popup_c765372357350d61d2ecc09dd321aecc)\n",
       "        ;\n",
       "\n",
       "        \n",
       "    \n",
       "    \n",
       "            var marker_c80457a341b47bae1c85f59602ab964a = L.marker(\n",
       "                [37.7800771, -122.4201615],\n",
       "                {\n",
       "}\n",
       "            ).addTo(map_0d0b330cae222ae2570ebf21453b6135);\n",
       "        \n",
       "    \n",
       "        var popup_f4263e3b96e04f46427739cb21851ea3 = L.popup({\n",
       "  &quot;maxWidth&quot;: &quot;100%&quot;,\n",
       "});\n",
       "\n",
       "        \n",
       "            \n",
       "                var html_69c968f1c6f3e112f46204494467f14e = $(`&lt;div id=&quot;html_69c968f1c6f3e112f46204494467f14e&quot; style=&quot;width: 100.0%; height: 100.0%;&quot;&gt;&lt;p&gt;tychotithonus&lt;/p&gt;&lt;p&gt;&quot;Engineering should eat security.&quot;&lt;br&gt;-- Caleb Sima&lt;/p&gt;&lt;p&gt;Source:&lt;br&gt;&lt;a href=&quot;https://danielmiessler.com/blog/ai-creative-destruction-wave&quot; rel=&quot;nofollow noopener&quot; translate=&quot;no&quot; target=&quot;_blank&quot;&gt;&lt;span class=&quot;invisible&quot;&gt;https://&lt;/span&gt;&lt;span class=&quot;ellipsis&quot;&gt;danielmiessler.com/blog/ai-cre&lt;/span&gt;&lt;span class=&quot;invisible&quot;&gt;ative-destruction-wave&lt;/span&gt;&lt;/a&gt;&lt;br&gt;(via &lt;span class=&quot;h-card&quot; translate=&quot;no&quot;&gt;&lt;a href=&quot;https://infosec.exchange/@danielmiessler&quot; class=&quot;u-url mention&quot; rel=&quot;nofollow noopener&quot; target=&quot;_blank&quot;&gt;@&lt;span&gt;danielmiessler&lt;/span&gt;&lt;/a&gt;&lt;/span&gt;)&lt;/p&gt;&lt;/div&gt;`)[0];\n",
       "                popup_f4263e3b96e04f46427739cb21851ea3.setContent(html_69c968f1c6f3e112f46204494467f14e);\n",
       "            \n",
       "        \n",
       "\n",
       "        marker_c80457a341b47bae1c85f59602ab964a.bindPopup(popup_f4263e3b96e04f46427739cb21851ea3)\n",
       "        ;\n",
       "\n",
       "        \n",
       "    \n",
       "    \n",
       "            var marker_5188644673f32f508501dbfdcbfa0289 = L.marker(\n",
       "                [37.7800771, -122.4201615],\n",
       "                {\n",
       "}\n",
       "            ).addTo(map_0d0b330cae222ae2570ebf21453b6135);\n",
       "        \n",
       "    \n",
       "        var popup_059f540b93126d18c123bb79733af536 = L.popup({\n",
       "  &quot;maxWidth&quot;: &quot;100%&quot;,\n",
       "});\n",
       "\n",
       "        \n",
       "            \n",
       "                var html_353f4f19fb2882712d7eaa3a4b68daac = $(`&lt;div id=&quot;html_353f4f19fb2882712d7eaa3a4b68daac&quot; style=&quot;width: 100.0%; height: 100.0%;&quot;&gt;&lt;p&gt;africa_social&lt;/p&gt;📢 Volleyball: All clubs have asked for youth academies [The New Times]🔗 https://tinyurl.com/yrwhfxab&lt;/div&gt;`)[0];\n",
       "                popup_059f540b93126d18c123bb79733af536.setContent(html_353f4f19fb2882712d7eaa3a4b68daac);\n",
       "            \n",
       "        \n",
       "\n",
       "        marker_5188644673f32f508501dbfdcbfa0289.bindPopup(popup_059f540b93126d18c123bb79733af536)\n",
       "        ;\n",
       "\n",
       "        \n",
       "    \n",
       "    \n",
       "            var marker_df1a250daac12f758c7e7a28cc56bad5 = L.marker(\n",
       "                [37.7800771, -122.4201615],\n",
       "                {\n",
       "}\n",
       "            ).addTo(map_0d0b330cae222ae2570ebf21453b6135);\n",
       "        \n",
       "    \n",
       "        var popup_e8233068848d38bd7afabb37f95fb7a8 = L.popup({\n",
       "  &quot;maxWidth&quot;: &quot;100%&quot;,\n",
       "});\n",
       "\n",
       "        \n",
       "            \n",
       "                var html_f13a1a6487853312c25cc073770cc5b3 = $(`&lt;div id=&quot;html_f13a1a6487853312c25cc073770cc5b3&quot; style=&quot;width: 100.0%; height: 100.0%;&quot;&gt;&lt;p&gt;jrd_vs&lt;/p&gt;&lt;p&gt;​:ohiru1:​だ​:blobwani_omusubi:​&lt;/p&gt;&lt;/div&gt;`)[0];\n",
       "                popup_e8233068848d38bd7afabb37f95fb7a8.setContent(html_f13a1a6487853312c25cc073770cc5b3);\n",
       "            \n",
       "        \n",
       "\n",
       "        marker_df1a250daac12f758c7e7a28cc56bad5.bindPopup(popup_e8233068848d38bd7afabb37f95fb7a8)\n",
       "        ;\n",
       "\n",
       "        \n",
       "    \n",
       "    \n",
       "            var marker_ba448a34b4b0c9b9b2a71a9aa2c61d2d = L.marker(\n",
       "                [37.7800771, -122.4201615],\n",
       "                {\n",
       "}\n",
       "            ).addTo(map_0d0b330cae222ae2570ebf21453b6135);\n",
       "        \n",
       "    \n",
       "        var popup_720e18f5281ce01aefbd26baa0af2343 = L.popup({\n",
       "  &quot;maxWidth&quot;: &quot;100%&quot;,\n",
       "});\n",
       "\n",
       "        \n",
       "            \n",
       "                var html_f4774de50b7f6cce2d8cfcf4c005253c = $(`&lt;div id=&quot;html_f4774de50b7f6cce2d8cfcf4c005253c&quot; style=&quot;width: 100.0%; height: 100.0%;&quot;&gt;&lt;p&gt;roadfmsong&lt;/p&gt;En cours de lecture sur Road FM : Friend Of Mine (from the Smurfs Movie Soundtrack) par Rihanna ! Branchez-vous maintenant : https://audio.playradio.pro/public/road_fm&lt;/div&gt;`)[0];\n",
       "                popup_720e18f5281ce01aefbd26baa0af2343.setContent(html_f4774de50b7f6cce2d8cfcf4c005253c);\n",
       "            \n",
       "        \n",
       "\n",
       "        marker_ba448a34b4b0c9b9b2a71a9aa2c61d2d.bindPopup(popup_720e18f5281ce01aefbd26baa0af2343)\n",
       "        ;\n",
       "\n",
       "        \n",
       "    \n",
       "    \n",
       "            var marker_633327bbfd36fd469a642e0cb93aa93f = L.marker(\n",
       "                [35.68945633, 139.69171609],\n",
       "                {\n",
       "}\n",
       "            ).addTo(map_0d0b330cae222ae2570ebf21453b6135);\n",
       "        \n",
       "    \n",
       "        var popup_4ab394f3bc3d5721b733875dc0bad5b3 = L.popup({\n",
       "  &quot;maxWidth&quot;: &quot;100%&quot;,\n",
       "});\n",
       "\n",
       "        \n",
       "            \n",
       "                var html_4371d28166d9903b436109a343ef5ac6 = $(`&lt;div id=&quot;html_4371d28166d9903b436109a343ef5ac6&quot; style=&quot;width: 100.0%; height: 100.0%;&quot;&gt;&lt;p&gt;prtimes&lt;/p&gt;Introducing the new &quot;Pokejet APT-100,&quot; a portable shower toilet that can be carried around for &quot;cleanliness&quot; and peace of mind. https://prtimes.jp/main/html/rd/p/000000022.000111045. html#prtimes #press release #news release #distribution #website #service #how to #agency #PR_TIMES&lt;/div&gt;`)[0];\n",
       "                popup_4ab394f3bc3d5721b733875dc0bad5b3.setContent(html_4371d28166d9903b436109a343ef5ac6);\n",
       "            \n",
       "        \n",
       "\n",
       "        marker_633327bbfd36fd469a642e0cb93aa93f.bindPopup(popup_4ab394f3bc3d5721b733875dc0bad5b3)\n",
       "        ;\n",
       "\n",
       "        \n",
       "    \n",
       "    \n",
       "            var marker_e4d146fc817f663411ce1e9cb0382f8d = L.marker(\n",
       "                [37.7800771, -122.4201615],\n",
       "                {\n",
       "}\n",
       "            ).addTo(map_0d0b330cae222ae2570ebf21453b6135);\n",
       "        \n",
       "    \n",
       "        var popup_df42b82c39aea6599e9822f087684151 = L.popup({\n",
       "  &quot;maxWidth&quot;: &quot;100%&quot;,\n",
       "});\n",
       "\n",
       "        \n",
       "            \n",
       "                var html_d207bac6c0131bc46647643acb845269 = $(`&lt;div id=&quot;html_d207bac6c0131bc46647643acb845269&quot; style=&quot;width: 100.0%; height: 100.0%;&quot;&gt;&lt;p&gt;AztecaDeportes&lt;/p&gt;Fate called! 🚂⚽Jeremy Márquez speaks exclusively to the microphones of Azteca Deportes and says that he always wanted to join a big club like Cruz Azul.&lt;/div&gt;`)[0];\n",
       "                popup_df42b82c39aea6599e9822f087684151.setContent(html_d207bac6c0131bc46647643acb845269);\n",
       "            \n",
       "        \n",
       "\n",
       "        marker_e4d146fc817f663411ce1e9cb0382f8d.bindPopup(popup_df42b82c39aea6599e9822f087684151)\n",
       "        ;\n",
       "\n",
       "        \n",
       "    \n",
       "    \n",
       "            var marker_e6546601b01aa5828e905cd6a7d39998 = L.marker(\n",
       "                [39.0427652, -77.4858142],\n",
       "                {\n",
       "}\n",
       "            ).addTo(map_0d0b330cae222ae2570ebf21453b6135);\n",
       "        \n",
       "    \n",
       "        var popup_cb52531b6fe1525158e306b96e1d3214 = L.popup({\n",
       "  &quot;maxWidth&quot;: &quot;100%&quot;,\n",
       "});\n",
       "\n",
       "        \n",
       "            \n",
       "                var html_2f3f1fb66508dbd1b9e6eee9846a0ff0 = $(`&lt;div id=&quot;html_2f3f1fb66508dbd1b9e6eee9846a0ff0&quot; style=&quot;width: 100.0%; height: 100.0%;&quot;&gt;&lt;p&gt;buffalobills&lt;/p&gt;&lt;p&gt;Bills’ Damar Hamlin predicted to lose job in key position battle in Buffalo&lt;/p&gt;&lt;p&gt;Damar Hamlin pretty much earned a Buffalo Bills starting safety job by default in 2024. When second-round pick…&lt;br&gt;&lt;a href=&quot;https://channels.im/tags/NFL&quot; class=&quot;mention hashtag&quot; rel=&quot;nofollow noopener&quot; target=&quot;_blank&quot;&gt;#&lt;span&gt;NFL&lt;/span&gt;&lt;/a&gt; &lt;a href=&quot;https://channels.im/tags/BuffaloBills&quot; class=&quot;mention hashtag&quot; rel=&quot;nofollow noopener&quot; target=&quot;_blank&quot;&gt;#&lt;span&gt;BuffaloBills&lt;/span&gt;&lt;/a&gt; &lt;a href=&quot;https://channels.im/tags/Buffalo&quot; class=&quot;mention hashtag&quot; rel=&quot;nofollow noopener&quot; target=&quot;_blank&quot;&gt;#&lt;span&gt;Buffalo&lt;/span&gt;&lt;/a&gt; &lt;a href=&quot;https://channels.im/tags/Bills&quot; class=&quot;mention hashtag&quot; rel=&quot;nofollow noopener&quot; target=&quot;_blank&quot;&gt;#&lt;span&gt;Bills&lt;/span&gt;&lt;/a&gt; &lt;a href=&quot;https://channels.im/tags/Football&quot; class=&quot;mention hashtag&quot; rel=&quot;nofollow noopener&quot; target=&quot;_blank&quot;&gt;#&lt;span&gt;Football&lt;/span&gt;&lt;/a&gt;&lt;br&gt;&lt;a href=&quot;https://www.rawchili.com/nfl/197728/&quot; rel=&quot;nofollow noopener&quot; translate=&quot;no&quot; target=&quot;_blank&quot;&gt;&lt;span class=&quot;invisible&quot;&gt;https://www.&lt;/span&gt;&lt;span class=&quot;&quot;&gt;rawchili.com/nfl/197728/&lt;/span&gt;&lt;span class=&quot;invisible&quot;&gt;&lt;/span&gt;&lt;/a&gt;&lt;/p&gt;&lt;/div&gt;`)[0];\n",
       "                popup_cb52531b6fe1525158e306b96e1d3214.setContent(html_2f3f1fb66508dbd1b9e6eee9846a0ff0);\n",
       "            \n",
       "        \n",
       "\n",
       "        marker_e6546601b01aa5828e905cd6a7d39998.bindPopup(popup_cb52531b6fe1525158e306b96e1d3214)\n",
       "        ;\n",
       "\n",
       "        \n",
       "    \n",
       "    \n",
       "            var marker_a1d465b99b9a3ff2b8c4085b4d3dc302 = L.marker(\n",
       "                [37.7800771, -122.4201615],\n",
       "                {\n",
       "}\n",
       "            ).addTo(map_0d0b330cae222ae2570ebf21453b6135);\n",
       "        \n",
       "    \n",
       "        var popup_2c1a0420c9a683243cf804a6c03edb4d = L.popup({\n",
       "  &quot;maxWidth&quot;: &quot;100%&quot;,\n",
       "});\n",
       "\n",
       "        \n",
       "            \n",
       "                var html_f243048e4ecae47d050540d2c9c2787c = $(`&lt;div id=&quot;html_f243048e4ecae47d050540d2c9c2787c&quot; style=&quot;width: 100.0%; height: 100.0%;&quot;&gt;&lt;p&gt;jaseowo&lt;/p&gt;&lt;p&gt;&lt;span&gt;what if instead of zoophilia, you get rid of the philia, then replace the z with a b&lt;br&gt;&lt;br&gt;did i scare you &lt;/span&gt;​:bkvampire:​&lt;/p&gt;&lt;/div&gt;`)[0];\n",
       "                popup_2c1a0420c9a683243cf804a6c03edb4d.setContent(html_f243048e4ecae47d050540d2c9c2787c);\n",
       "            \n",
       "        \n",
       "\n",
       "        marker_a1d465b99b9a3ff2b8c4085b4d3dc302.bindPopup(popup_2c1a0420c9a683243cf804a6c03edb4d)\n",
       "        ;\n",
       "\n",
       "        \n",
       "    \n",
       "    \n",
       "            var marker_52c555d785d77a280a5f4b930470f74d = L.marker(\n",
       "                [1.33249, 103.84851],\n",
       "                {\n",
       "}\n",
       "            ).addTo(map_0d0b330cae222ae2570ebf21453b6135);\n",
       "        \n",
       "    \n",
       "        var popup_634d511e4204e38c421ec6e414178007 = L.popup({\n",
       "  &quot;maxWidth&quot;: &quot;100%&quot;,\n",
       "});\n",
       "\n",
       "        \n",
       "            \n",
       "                var html_86bf3d79986dcdc905e20e09f62546de = $(`&lt;div id=&quot;html_86bf3d79986dcdc905e20e09f62546de&quot; style=&quot;width: 100.0%; height: 100.0%;&quot;&gt;&lt;p&gt;trainaccident&lt;/p&gt;One house burned down, 2 men dead, firefighters rescue them... 90-year-old and 61-year-old father and son... Itabashi, Tokyo (July 11, 2025) (7/11 10:43 ANNnewsCH) #Tobu Tojo Line https://www.youtube.com/watch?v= VjbwRsmOztg&lt;/div&gt;`)[0];\n",
       "                popup_634d511e4204e38c421ec6e414178007.setContent(html_86bf3d79986dcdc905e20e09f62546de);\n",
       "            \n",
       "        \n",
       "\n",
       "        marker_52c555d785d77a280a5f4b930470f74d.bindPopup(popup_634d511e4204e38c421ec6e414178007)\n",
       "        ;\n",
       "\n",
       "        \n",
       "    \n",
       "    \n",
       "            var marker_179034e6e4a21163067648a45507d09d = L.marker(\n",
       "                [37.7800771, -122.4201615],\n",
       "                {\n",
       "}\n",
       "            ).addTo(map_0d0b330cae222ae2570ebf21453b6135);\n",
       "        \n",
       "    \n",
       "        var popup_0a7c51f9938e49b0879ab32f7679918f = L.popup({\n",
       "  &quot;maxWidth&quot;: &quot;100%&quot;,\n",
       "});\n",
       "\n",
       "        \n",
       "            \n",
       "                var html_db490e68c00c05dae8bd179324dbd0f8 = $(`&lt;div id=&quot;html_db490e68c00c05dae8bd179324dbd0f8&quot; style=&quot;width: 100.0%; height: 100.0%;&quot;&gt;&lt;p&gt;ten_nami_ten&lt;/p&gt;Returning Tachi: ......&lt;/div&gt;`)[0];\n",
       "                popup_0a7c51f9938e49b0879ab32f7679918f.setContent(html_db490e68c00c05dae8bd179324dbd0f8);\n",
       "            \n",
       "        \n",
       "\n",
       "        marker_179034e6e4a21163067648a45507d09d.bindPopup(popup_0a7c51f9938e49b0879ab32f7679918f)\n",
       "        ;\n",
       "\n",
       "        \n",
       "    \n",
       "    \n",
       "            var marker_a418c1bd4fd8345d7200a236cf709025 = L.marker(\n",
       "                [37.7800771, -122.4201615],\n",
       "                {\n",
       "}\n",
       "            ).addTo(map_0d0b330cae222ae2570ebf21453b6135);\n",
       "        \n",
       "    \n",
       "        var popup_8e8e0da565b4c92bacb806565d0f13f9 = L.popup({\n",
       "  &quot;maxWidth&quot;: &quot;100%&quot;,\n",
       "});\n",
       "\n",
       "        \n",
       "            \n",
       "                var html_5f422bbc86e8493d8a1a623950128e2f = $(`&lt;div id=&quot;html_5f422bbc86e8493d8a1a623950128e2f&quot; style=&quot;width: 100.0%; height: 100.0%;&quot;&gt;&lt;p&gt;monumental_movement_records&lt;/p&gt;&lt;p&gt;&lt;a href=&quot;https://mastodon.social/tags/%E3%83%AC%E3%82%B3%E3%83%BC%E3%83%89&quot; class=&quot;mention hashtag&quot; rel=&quot;tag&quot;&gt;#&lt;span&gt;レコード&lt;/span&gt;&lt;/a&gt;&lt;br /&gt;&lt;a href=&quot;https://mastodon.social/tags/%E3%83%95%E3%82%A1%E3%83%B3%E3%82%AF&quot; class=&quot;mention hashtag&quot; rel=&quot;tag&quot;&gt;#&lt;span&gt;ファンク&lt;/span&gt;&lt;/a&gt;&lt;/p&gt;&lt;p&gt;「Good Times」は、 1998年にリリースされた、イギリスのR&amp;amp;BアーティストLEMARE（レマー/Lemar Obika）の「Good Times」。&lt;/p&gt;&lt;p&gt;&lt;a href=&quot;https://monumental-movement.jp/Lemare-Good-Times/&quot; target=&quot;_blank&quot; rel=&quot;nofollow noopener&quot; translate=&quot;no&quot;&gt;&lt;span class=&quot;invisible&quot;&gt;https://&lt;/span&gt;&lt;span class=&quot;ellipsis&quot;&gt;monumental-movement.jp/Lemare-&lt;/span&gt;&lt;span class=&quot;invisible&quot;&gt;Good-Times/&lt;/span&gt;&lt;/a&gt;&lt;/p&gt;&lt;/div&gt;`)[0];\n",
       "                popup_8e8e0da565b4c92bacb806565d0f13f9.setContent(html_5f422bbc86e8493d8a1a623950128e2f);\n",
       "            \n",
       "        \n",
       "\n",
       "        marker_a418c1bd4fd8345d7200a236cf709025.bindPopup(popup_8e8e0da565b4c92bacb806565d0f13f9)\n",
       "        ;\n",
       "\n",
       "        \n",
       "    \n",
       "    \n",
       "            var marker_682b1c3732503a6f07ed4f6ddbfe32cf = L.marker(\n",
       "                [37.7800771, -122.4201615],\n",
       "                {\n",
       "}\n",
       "            ).addTo(map_0d0b330cae222ae2570ebf21453b6135);\n",
       "        \n",
       "    \n",
       "        var popup_5531402597ceaffdc5a9673927917e2d = L.popup({\n",
       "  &quot;maxWidth&quot;: &quot;100%&quot;,\n",
       "});\n",
       "\n",
       "        \n",
       "            \n",
       "                var html_e6e4023ebbd6c927e9725d9ea9cd5d9e = $(`&lt;div id=&quot;html_e6e4023ebbd6c927e9725d9ea9cd5d9e&quot; style=&quot;width: 100.0%; height: 100.0%;&quot;&gt;&lt;p&gt;easy_fx&lt;/p&gt;&lt;p&gt;&lt;a href=&quot;https://mastodon.social/tags/XM%E5%8F%A3%E5%BA%A7%E9%96%8B%E8%A8%AD&quot; class=&quot;mention hashtag&quot; rel=&quot;tag&quot;&gt;#&lt;span&gt;XM口座開設&lt;/span&gt;&lt;/a&gt;&lt;br /&gt;&lt;a href=&quot;https://mastodon.social/tags/FX&quot; class=&quot;mention hashtag&quot; rel=&quot;tag&quot;&gt;#&lt;span&gt;FX&lt;/span&gt;&lt;/a&gt;&lt;/p&gt;&lt;p&gt;フィボナッチは有名な数列で、 とても人気のあるFXツールです。FX相場を分析する上で信頼性も高くおすすめ！&lt;/p&gt;&lt;p&gt;&lt;a href=&quot;https://easyfx.jp/fibonacci.html&quot; target=&quot;_blank&quot; rel=&quot;nofollow noopener&quot; translate=&quot;no&quot;&gt;&lt;span class=&quot;invisible&quot;&gt;https://&lt;/span&gt;&lt;span class=&quot;&quot;&gt;easyfx.jp/fibonacci.html&lt;/span&gt;&lt;span class=&quot;invisible&quot;&gt;&lt;/span&gt;&lt;/a&gt;&lt;/p&gt;&lt;/div&gt;`)[0];\n",
       "                popup_5531402597ceaffdc5a9673927917e2d.setContent(html_e6e4023ebbd6c927e9725d9ea9cd5d9e);\n",
       "            \n",
       "        \n",
       "\n",
       "        marker_682b1c3732503a6f07ed4f6ddbfe32cf.bindPopup(popup_5531402597ceaffdc5a9673927917e2d)\n",
       "        ;\n",
       "\n",
       "        \n",
       "    \n",
       "    \n",
       "            var marker_91e84b3a9424af665ed9435eeea33460 = L.marker(\n",
       "                [37.7800771, -122.4201615],\n",
       "                {\n",
       "}\n",
       "            ).addTo(map_0d0b330cae222ae2570ebf21453b6135);\n",
       "        \n",
       "    \n",
       "        var popup_dedcac8d65280f5e6c58832d9beb35da = L.popup({\n",
       "  &quot;maxWidth&quot;: &quot;100%&quot;,\n",
       "});\n",
       "\n",
       "        \n",
       "            \n",
       "                var html_b5e5a5d4b6803b6cf18585c4c7abe4a6 = $(`&lt;div id=&quot;html_b5e5a5d4b6803b6cf18585c4c7abe4a6&quot; style=&quot;width: 100.0%; height: 100.0%;&quot;&gt;&lt;p&gt;emtk&lt;/p&gt;But Royal is too powerful for that.&lt;/div&gt;`)[0];\n",
       "                popup_dedcac8d65280f5e6c58832d9beb35da.setContent(html_b5e5a5d4b6803b6cf18585c4c7abe4a6);\n",
       "            \n",
       "        \n",
       "\n",
       "        marker_91e84b3a9424af665ed9435eeea33460.bindPopup(popup_dedcac8d65280f5e6c58832d9beb35da)\n",
       "        ;\n",
       "\n",
       "        \n",
       "    \n",
       "    \n",
       "            var marker_23f6f0d2361f923ca45251cd3245e8de = L.marker(\n",
       "                [37.7800771, -122.4201615],\n",
       "                {\n",
       "}\n",
       "            ).addTo(map_0d0b330cae222ae2570ebf21453b6135);\n",
       "        \n",
       "    \n",
       "        var popup_e6bea2a16816bf7161cc6c5dbd9f9722 = L.popup({\n",
       "  &quot;maxWidth&quot;: &quot;100%&quot;,\n",
       "});\n",
       "\n",
       "        \n",
       "            \n",
       "                var html_c725aed2c8cbcab1722347d87cf85f74 = $(`&lt;div id=&quot;html_c725aed2c8cbcab1722347d87cf85f74&quot; style=&quot;width: 100.0%; height: 100.0%;&quot;&gt;&lt;p&gt;inanna&lt;/p&gt;Daylilies at the Botanical Gardens. #Botanical garden flowers&lt;/div&gt;`)[0];\n",
       "                popup_e6bea2a16816bf7161cc6c5dbd9f9722.setContent(html_c725aed2c8cbcab1722347d87cf85f74);\n",
       "            \n",
       "        \n",
       "\n",
       "        marker_23f6f0d2361f923ca45251cd3245e8de.bindPopup(popup_e6bea2a16816bf7161cc6c5dbd9f9722)\n",
       "        ;\n",
       "\n",
       "        \n",
       "    \n",
       "    \n",
       "            var marker_4ec4db0c137de11b834d67780e683d2a = L.marker(\n",
       "                [37.7800771, -122.4201615],\n",
       "                {\n",
       "}\n",
       "            ).addTo(map_0d0b330cae222ae2570ebf21453b6135);\n",
       "        \n",
       "    \n",
       "        var popup_f3debd41553d2b8d66f7456e7402f7e3 = L.popup({\n",
       "  &quot;maxWidth&quot;: &quot;100%&quot;,\n",
       "});\n",
       "\n",
       "        \n",
       "            \n",
       "                var html_ddd69be6c4807bb20eb353cf513f5a9a = $(`&lt;div id=&quot;html_ddd69be6c4807bb20eb353cf513f5a9a&quot; style=&quot;width: 100.0%; height: 100.0%;&quot;&gt;&lt;p&gt;speedweek&lt;/p&gt;&lt;p&gt;Oliver Solberg absolviert ersten Toyota-Rally1-Test&lt;br /&gt;Der 23-jährige Schwede fuhr am Dienstag den Toyota-Rally1-Testwagen in Finnland. Nächste Woche gibt er zusammen mit Beifahrer Elliott Edmondson beim Rallye WM-Lauf in Estland sein Wettbewerbsdebüt für Toyota Gazoo Racin&lt;br /&gt;&lt;a href=&quot;https://mastodon.social/tags/Rallye&quot; class=&quot;mention hashtag&quot; rel=&quot;tag&quot;&gt;#&lt;span&gt;Rallye&lt;/span&gt;&lt;/a&gt; &lt;a href=&quot;https://mastodon.social/tags/Motorsport&quot; class=&quot;mention hashtag&quot; rel=&quot;tag&quot;&gt;#&lt;span&gt;Motorsport&lt;/span&gt;&lt;/a&gt;&lt;br /&gt;&lt;a href=&quot;https://www.speedweek.com/wrc/news/238395/Oliver-Solberg-absolviert-ersten-Toyota-Rally1-Test.html&quot; target=&quot;_blank&quot; rel=&quot;nofollow noopener&quot; translate=&quot;no&quot;&gt;&lt;span class=&quot;invisible&quot;&gt;https://www.&lt;/span&gt;&lt;span class=&quot;ellipsis&quot;&gt;speedweek.com/wrc/news/238395/&lt;/span&gt;&lt;span class=&quot;invisible&quot;&gt;Oliver-Solberg-absolviert-ersten-Toyota-Rally1-Test.html&lt;/span&gt;&lt;/a&gt;&lt;/p&gt;&lt;/div&gt;`)[0];\n",
       "                popup_f3debd41553d2b8d66f7456e7402f7e3.setContent(html_ddd69be6c4807bb20eb353cf513f5a9a);\n",
       "            \n",
       "        \n",
       "\n",
       "        marker_4ec4db0c137de11b834d67780e683d2a.bindPopup(popup_f3debd41553d2b8d66f7456e7402f7e3)\n",
       "        ;\n",
       "\n",
       "        \n",
       "    \n",
       "    \n",
       "            var marker_6e66e7c4b54dc0531623918549265cbd = L.marker(\n",
       "                [37.7800771, -122.4201615],\n",
       "                {\n",
       "}\n",
       "            ).addTo(map_0d0b330cae222ae2570ebf21453b6135);\n",
       "        \n",
       "    \n",
       "        var popup_03b5dd00726a2e53b498be34eab75077 = L.popup({\n",
       "  &quot;maxWidth&quot;: &quot;100%&quot;,\n",
       "});\n",
       "\n",
       "        \n",
       "            \n",
       "                var html_200a0059c24d80ec021436bec88b9553 = $(`&lt;div id=&quot;html_200a0059c24d80ec021436bec88b9553&quot; style=&quot;width: 100.0%; height: 100.0%;&quot;&gt;&lt;p&gt;tv&lt;/p&gt;&lt;p&gt;SUMMARY: A U.S. judge has blocked Trump&#x27;s birthright citizenship order, drawing criticism from the White House. In Gaza, children were among 15 killed in an airstrike as Israel&#x27;s military actions escalate. Stock futures dropped following Trump&#x27;s announcement of a 35% tariff on Canadian imports. Pence discussed Trump&#x27;s influence on the GOP agenda, calling the populist movement a minority voice. Justice Jackson expressed concerns about the state of democracy.&lt;/p&gt;&lt;/div&gt;`)[0];\n",
       "                popup_03b5dd00726a2e53b498be34eab75077.setContent(html_200a0059c24d80ec021436bec88b9553);\n",
       "            \n",
       "        \n",
       "\n",
       "        marker_6e66e7c4b54dc0531623918549265cbd.bindPopup(popup_03b5dd00726a2e53b498be34eab75077)\n",
       "        ;\n",
       "\n",
       "        \n",
       "    \n",
       "    \n",
       "            var marker_b3112fb23304f2f0adb74487fdfab849 = L.marker(\n",
       "                [37.7800771, -122.4201615],\n",
       "                {\n",
       "}\n",
       "            ).addTo(map_0d0b330cae222ae2570ebf21453b6135);\n",
       "        \n",
       "    \n",
       "        var popup_6e03ca3ffaf025800bc8962b93720d7e = L.popup({\n",
       "  &quot;maxWidth&quot;: &quot;100%&quot;,\n",
       "});\n",
       "\n",
       "        \n",
       "            \n",
       "                var html_b1ab70d2ff483fd8e3372f849af1d183 = $(`&lt;div id=&quot;html_b1ab70d2ff483fd8e3372f849af1d183&quot; style=&quot;width: 100.0%; height: 100.0%;&quot;&gt;&lt;p&gt;rsssunstar&lt;/p&gt;&lt;p&gt;Iloilo City police showcase 5-minute response time protocol in live simulation&lt;br /&gt;For more details, please visit &lt;a href=&quot;https://www.sunstar.com.ph/iloilo/iloilo-city-police-showcase-5-minute-response-time-protocol-in-live-simulation&quot; target=&quot;_blank&quot; rel=&quot;nofollow noopener&quot; translate=&quot;no&quot;&gt;&lt;span class=&quot;invisible&quot;&gt;https://www.&lt;/span&gt;&lt;span class=&quot;ellipsis&quot;&gt;sunstar.com.ph/iloilo/iloilo-c&lt;/span&gt;&lt;span class=&quot;invisible&quot;&gt;ity-police-showcase-5-minute-response-time-protocol-in-live-simulation&lt;/span&gt;&lt;/a&gt;&lt;/p&gt;&lt;/div&gt;`)[0];\n",
       "                popup_6e03ca3ffaf025800bc8962b93720d7e.setContent(html_b1ab70d2ff483fd8e3372f849af1d183);\n",
       "            \n",
       "        \n",
       "\n",
       "        marker_b3112fb23304f2f0adb74487fdfab849.bindPopup(popup_6e03ca3ffaf025800bc8962b93720d7e)\n",
       "        ;\n",
       "\n",
       "        \n",
       "    \n",
       "    \n",
       "            var marker_32546a7305c8f55833f04b2b924bac08 = L.marker(\n",
       "                [35.60916041, 139.730156891],\n",
       "                {\n",
       "}\n",
       "            ).addTo(map_0d0b330cae222ae2570ebf21453b6135);\n",
       "        \n",
       "    \n",
       "        var popup_0cf8064da2d5605d90e0478d1c90a212 = L.popup({\n",
       "  &quot;maxWidth&quot;: &quot;100%&quot;,\n",
       "});\n",
       "\n",
       "        \n",
       "            \n",
       "                var html_269fce0acb28d3dd408846a22109e308 = $(`&lt;div id=&quot;html_269fce0acb28d3dd408846a22109e308&quot; style=&quot;width: 100.0%; height: 100.0%;&quot;&gt;&lt;p&gt;onlineusers&lt;/p&gt;&lt;p&gt;4403 &lt;a href=&quot;https://misskey.io/&quot; rel=&quot;nofollow noopener&quot; target=&quot;_blank&quot;&gt;Misskey.io&lt;/a&gt;&lt;span&gt;&lt;br&gt; 276 &lt;/span&gt;&lt;a href=&quot;https://takusuki.com/&quot; rel=&quot;nofollow noopener&quot; target=&quot;_blank&quot;&gt;TRPGがすきー！&lt;/a&gt;&lt;span&gt;&lt;br&gt; 262 &lt;/span&gt;&lt;a href=&quot;https://misskey.gamelore.fun/&quot; rel=&quot;nofollow noopener&quot; target=&quot;_blank&quot;&gt;ゲームすきー&lt;/a&gt;&lt;span&gt;&lt;br&gt; 242 &lt;/span&gt;&lt;a href=&quot;https://nijimiss.moe/&quot; rel=&quot;nofollow noopener&quot; target=&quot;_blank&quot;&gt;にじみす.moe&lt;/a&gt;&lt;span&gt;&lt;br&gt; 195 &lt;/span&gt;&lt;a href=&quot;https://xissmie.xfolio.jp/&quot; rel=&quot;nofollow noopener&quot; target=&quot;_blank&quot;&gt;xissmie.xfolio.jp&lt;/a&gt;&lt;span&gt;&lt;br&gt; 169 &lt;/span&gt;&lt;a href=&quot;https://voskey.icalo.net/&quot; rel=&quot;nofollow noopener&quot; target=&quot;_blank&quot;&gt;ぼすきー&lt;/a&gt;&lt;span&gt;&lt;br&gt; 158 &lt;/span&gt;&lt;a href=&quot;https://misskey.design/&quot; rel=&quot;nofollow noopener&quot; target=&quot;_blank&quot;&gt;misskey.design&lt;/a&gt;&lt;span&gt;&lt;br&gt; 145 &lt;/span&gt;&lt;a href=&quot;https://live-theater.net/&quot; rel=&quot;nofollow noopener&quot; target=&quot;_blank&quot;&gt;LIVE THE@TER NET&lt;/a&gt;&lt;span&gt;&lt;br&gt; 135 &lt;/span&gt;&lt;a href=&quot;https://misskey.yukineko.me/&quot; rel=&quot;nofollow noopener&quot; target=&quot;_blank&quot;&gt;隠れ家&lt;/a&gt;&lt;span&gt;&lt;br&gt; 115 &lt;/span&gt;&lt;a href=&quot;https://mivatter.com/&quot; rel=&quot;nofollow noopener&quot; target=&quot;_blank&quot;&gt;Mivatter&lt;/a&gt;&lt;span&gt;&lt;br&gt; 109 &lt;/span&gt;&lt;a href=&quot;https://side.misskey.productions/&quot; rel=&quot;nofollow noopener&quot; target=&quot;_blank&quot;&gt;sideMisskey&lt;/a&gt;&lt;span&gt;&lt;br&gt; 105 &lt;/span&gt;&lt;a href=&quot;https://sushi.ski/&quot; rel=&quot;nofollow noopener&quot; target=&quot;_blank&quot;&gt;すしすきー&lt;/a&gt;&lt;span&gt;&lt;br&gt; 102 &lt;/span&gt;&lt;a href=&quot;https://misskey.flowers/&quot; rel=&quot;nofollow noopener&quot; target=&quot;_blank&quot;&gt;はなみすきー&lt;/a&gt;&lt;span&gt;&lt;br&gt;  94 &lt;/span&gt;&lt;a href=&quot;https://misskey.niri.la/&quot; rel=&quot;nofollow noopener&quot; target=&quot;_blank&quot;&gt;にりらみすきー部&lt;/a&gt;&lt;span&gt;&lt;br&gt;  78 &lt;/span&gt;&lt;a href=&quot;https://novelskey.tarbin.net/&quot; rel=&quot;nofollow noopener&quot; target=&quot;_blank&quot;&gt;ノベルスキー&lt;/a&gt;&lt;span&gt;&lt;br&gt;  77 &lt;/span&gt;&lt;a href=&quot;https://oekakiskey.com/&quot; rel=&quot;nofollow noopener&quot; target=&quot;_blank&quot;&gt;お絵かきすきー&lt;/a&gt;&lt;span&gt;&lt;br&gt;  72 &lt;/span&gt;&lt;a href=&quot;https://misskey.systems/&quot; rel=&quot;nofollow noopener&quot; target=&quot;_blank&quot;&gt;みすてむず&lt;/a&gt;&lt;span&gt;&lt;br&gt;  60 &lt;/span&gt;&lt;a href=&quot;https://buicha.social/&quot; rel=&quot;nofollow noopener&quot; target=&quot;_blank&quot;&gt;ぶいちゃ.social&lt;/a&gt;&lt;span&gt;&lt;br&gt;  50 &lt;/span&gt;&lt;a href=&quot;https://misskey-square.net/&quot; rel=&quot;nofollow noopener&quot; target=&quot;_blank&quot;&gt;みすきーすくえあ！&lt;/a&gt;&lt;span&gt;&lt;br&gt;  41 &lt;/span&gt;&lt;a href=&quot;https://misskey.art/&quot; rel=&quot;nofollow noopener&quot; target=&quot;_blank&quot;&gt;Misskey.art&lt;/a&gt;&lt;span&gt;&lt;br&gt;  38 &lt;/span&gt;&lt;a href=&quot;https://misskey.resonite.love/&quot; rel=&quot;nofollow noopener&quot; target=&quot;_blank&quot;&gt;Resonite.love&lt;/a&gt;&lt;span&gt;&lt;br&gt;  37 &lt;/span&gt;&lt;a href=&quot;https://ikaskey.bktsk.com/&quot; rel=&quot;nofollow noopener&quot; target=&quot;_blank&quot;&gt;いかすきー&lt;/a&gt;&lt;span&gt;&lt;br&gt;  33 &lt;/span&gt;&lt;a href=&quot;https://rhythmisskey.games/&quot; rel=&quot;nofollow noopener&quot; target=&quot;_blank&quot;&gt;りずみすきー&lt;/a&gt;&lt;span&gt;&lt;br&gt;  31 &lt;/span&gt;&lt;a href=&quot;https://mi.mashiro.site/&quot; rel=&quot;nofollow noopener&quot; target=&quot;_blank&quot;&gt;みすほわいと&lt;/a&gt;&lt;span&gt;&lt;br&gt;&lt;/span&gt;&lt;a href=&quot;https://misskey.cloud/tags/オンラインユーザー&quot; rel=&quot;nofollow noopener&quot; target=&quot;_blank&quot;&gt;#オンラインユーザー&lt;/a&gt;&lt;/p&gt;&lt;/div&gt;`)[0];\n",
       "                popup_0cf8064da2d5605d90e0478d1c90a212.setContent(html_269fce0acb28d3dd408846a22109e308);\n",
       "            \n",
       "        \n",
       "\n",
       "        marker_32546a7305c8f55833f04b2b924bac08.bindPopup(popup_0cf8064da2d5605d90e0478d1c90a212)\n",
       "        ;\n",
       "\n",
       "        \n",
       "    \n",
       "    \n",
       "            var marker_9df926233e99307add9f01317a42366d = L.marker(\n",
       "                [50.69095765, 3.174049418],\n",
       "                {\n",
       "}\n",
       "            ).addTo(map_0d0b330cae222ae2570ebf21453b6135);\n",
       "        \n",
       "    \n",
       "        var popup_644c939b005694d6adcd19af89a752cc = L.popup({\n",
       "  &quot;maxWidth&quot;: &quot;100%&quot;,\n",
       "});\n",
       "\n",
       "        \n",
       "            \n",
       "                var html_d6d01e51580ba38dee06e0ae58b8f08f = $(`&lt;div id=&quot;html_d6d01e51580ba38dee06e0ae58b8f08f&quot; style=&quot;width: 100.0%; height: 100.0%;&quot;&gt;&lt;p&gt;akahata&lt;/p&gt;Sunday Edition 13th Issue / Politics will change only if #Communist Party grows / #LDP want to produce rice with peace of mind JCP for change in agricultural policy (Shimbun Akahata)https://www.jcp.or.jp/akahata/aik25/2025-07-11/2025071103_03_0.html&lt;/div&gt;`)[0];\n",
       "                popup_644c939b005694d6adcd19af89a752cc.setContent(html_d6d01e51580ba38dee06e0ae58b8f08f);\n",
       "            \n",
       "        \n",
       "\n",
       "        marker_9df926233e99307add9f01317a42366d.bindPopup(popup_644c939b005694d6adcd19af89a752cc)\n",
       "        ;\n",
       "\n",
       "        \n",
       "    \n",
       "    \n",
       "            var marker_661389a8d89c22aa684fb9a4c9d1b0b3 = L.marker(\n",
       "                [37.39008, -122.0813919],\n",
       "                {\n",
       "}\n",
       "            ).addTo(map_0d0b330cae222ae2570ebf21453b6135);\n",
       "        \n",
       "    \n",
       "        var popup_13328ddd6391a834b5c4599705e1d2f1 = L.popup({\n",
       "  &quot;maxWidth&quot;: &quot;100%&quot;,\n",
       "});\n",
       "\n",
       "        \n",
       "            \n",
       "                var html_57215d10d4712223f202488bea1bbe9e = $(`&lt;div id=&quot;html_57215d10d4712223f202488bea1bbe9e&quot; style=&quot;width: 100.0%; height: 100.0%;&quot;&gt;&lt;p&gt;thatwriterguy.com&lt;/p&gt;&lt;p&gt;Thinking about getting a &quot;Lord of the Rings.&quot; What do you guys think of this design and placement? &lt;a class=&quot;hashtag&quot; rel=&quot;nofollow noopener&quot; href=&quot;https://bsky.app/search?q=%23lotr&quot; target=&quot;_blank&quot;&gt;#lotr&lt;/a&gt; &lt;a class=&quot;hashtag&quot; rel=&quot;nofollow noopener&quot; href=&quot;https://bsky.app/search?q=%23speakfriendandenter&quot; target=&quot;_blank&quot;&gt;#speakfriendandenter&lt;/a&gt;&lt;/p&gt;&lt;/div&gt;`)[0];\n",
       "                popup_13328ddd6391a834b5c4599705e1d2f1.setContent(html_57215d10d4712223f202488bea1bbe9e);\n",
       "            \n",
       "        \n",
       "\n",
       "        marker_661389a8d89c22aa684fb9a4c9d1b0b3.bindPopup(popup_13328ddd6391a834b5c4599705e1d2f1)\n",
       "        ;\n",
       "\n",
       "        \n",
       "    \n",
       "    \n",
       "            var marker_ae1c3cc89b6d80f53807402fc0255a5d = L.marker(\n",
       "                [49.450937999, 11.075269],\n",
       "                {\n",
       "}\n",
       "            ).addTo(map_0d0b330cae222ae2570ebf21453b6135);\n",
       "        \n",
       "    \n",
       "        var popup_f377cb7a8b8479b5504b78e3256722a3 = L.popup({\n",
       "  &quot;maxWidth&quot;: &quot;100%&quot;,\n",
       "});\n",
       "\n",
       "        \n",
       "            \n",
       "                var html_8e37c1c8c649839daf409977aa907c11 = $(`&lt;div id=&quot;html_8e37c1c8c649839daf409977aa907c11&quot; style=&quot;width: 100.0%; height: 100.0%;&quot;&gt;&lt;p&gt;schaumburgernachrichten&lt;/p&gt;Germany&#x27;s XXL trial + a new chance for social peace - The trial against steakhouse heiress Christina Block (52) and her partner Gerhard Delling (66) for the abduction of Block&#x27;s children starts today in Hamburg. We have the most important preliminary information... https://www.sn-online.de/politik/deutschlands-xxl-prozess-eine-neue-chance-fuer-sozialen-frieden-7HKO5VO4SJFEPBQHLZ3WBZUIMU.html&lt;/div&gt;`)[0];\n",
       "                popup_f377cb7a8b8479b5504b78e3256722a3.setContent(html_8e37c1c8c649839daf409977aa907c11);\n",
       "            \n",
       "        \n",
       "\n",
       "        marker_ae1c3cc89b6d80f53807402fc0255a5d.bindPopup(popup_f377cb7a8b8479b5504b78e3256722a3)\n",
       "        ;\n",
       "\n",
       "        \n",
       "    \n",
       "    \n",
       "            var marker_877a94e27a494071b927b860ca175b2f = L.marker(\n",
       "                [37.5502017, -121.98083],\n",
       "                {\n",
       "}\n",
       "            ).addTo(map_0d0b330cae222ae2570ebf21453b6135);\n",
       "        \n",
       "    \n",
       "        var popup_be558625546bb5d2831a65b9f6f5a28f = L.popup({\n",
       "  &quot;maxWidth&quot;: &quot;100%&quot;,\n",
       "});\n",
       "\n",
       "        \n",
       "            \n",
       "                var html_41700c2380eb9c58526cc10455ee308e = $(`&lt;div id=&quot;html_41700c2380eb9c58526cc10455ee308e&quot; style=&quot;width: 100.0%; height: 100.0%;&quot;&gt;&lt;p&gt;life&lt;/p&gt;&lt;p&gt;&lt;a href=&quot;https://www.wacoca.com/life/275475/&quot; rel=&quot;nofollow noopener&quot; translate=&quot;no&quot; target=&quot;_blank&quot;&gt;&lt;span class=&quot;invisible&quot;&gt;https://www.&lt;/span&gt;&lt;span class=&quot;&quot;&gt;wacoca.com/life/275475/&lt;/span&gt;&lt;span class=&quot;invisible&quot;&gt;&lt;/span&gt;&lt;/a&gt; ここは地獄か!?夏でも凍える“寒の地獄”と灼熱の“暖の地獄”のパワーがスゴい【九州の日帰り温泉vol.5】 &lt;a href=&quot;https://wakoka.com/tags/lifestyle&quot; class=&quot;mention hashtag&quot; rel=&quot;nofollow noopener&quot; target=&quot;_blank&quot;&gt;#&lt;span&gt;lifestyle&lt;/span&gt;&lt;/a&gt; &lt;a href=&quot;https://wakoka.com/tags/Peachy&quot; class=&quot;mention hashtag&quot; rel=&quot;nofollow noopener&quot; target=&quot;_blank&quot;&gt;#&lt;span&gt;Peachy&lt;/span&gt;&lt;/a&gt; &lt;a href=&quot;https://wakoka.com/tags/PeachyLifestyle&quot; class=&quot;mention hashtag&quot; rel=&quot;nofollow noopener&quot; target=&quot;_blank&quot;&gt;#&lt;span&gt;PeachyLifestyle&lt;/span&gt;&lt;/a&gt; &lt;a href=&quot;https://wakoka.com/tags/%E3%83%A9%E3%82%A4%E3%83%95%E3%82%B9%E3%82%BF%E3%82%A4%E3%83%AB&quot; class=&quot;mention hashtag&quot; rel=&quot;nofollow noopener&quot; target=&quot;_blank&quot;&gt;#&lt;span&gt;ライフスタイル&lt;/span&gt;&lt;/a&gt;&lt;/p&gt;&lt;/div&gt;`)[0];\n",
       "                popup_be558625546bb5d2831a65b9f6f5a28f.setContent(html_41700c2380eb9c58526cc10455ee308e);\n",
       "            \n",
       "        \n",
       "\n",
       "        marker_877a94e27a494071b927b860ca175b2f.bindPopup(popup_be558625546bb5d2831a65b9f6f5a28f)\n",
       "        ;\n",
       "\n",
       "        \n",
       "    \n",
       "    \n",
       "            var marker_10eb40330fc86dfd8226a8542448316d = L.marker(\n",
       "                [37.7800771, -122.4201615],\n",
       "                {\n",
       "}\n",
       "            ).addTo(map_0d0b330cae222ae2570ebf21453b6135);\n",
       "        \n",
       "    \n",
       "        var popup_abb75a56cb79fe18188f3115e01c9685 = L.popup({\n",
       "  &quot;maxWidth&quot;: &quot;100%&quot;,\n",
       "});\n",
       "\n",
       "        \n",
       "            \n",
       "                var html_1f753b4346b0a4dea06865adcf28230a = $(`&lt;div id=&quot;html_1f753b4346b0a4dea06865adcf28230a&quot; style=&quot;width: 100.0%; height: 100.0%;&quot;&gt;&lt;p&gt;AgentofSocialMediaChaos&lt;/p&gt;&lt;p&gt;AgentofSocialMediaChaos&#x27;s Waifu of the Day is Kinue Crossroad from Mobile Suit Gundam 00 &lt;a href=&quot;https://mstdn.jp/tags/Anime&quot; class=&quot;mention hashtag&quot; rel=&quot;nofollow noopener&quot; target=&quot;_blank&quot;&gt;#&lt;span&gt;Anime&lt;/span&gt;&lt;/a&gt; &lt;a href=&quot;https://mstdn.jp/tags/Gundam&quot; class=&quot;mention hashtag&quot; rel=&quot;nofollow noopener&quot; target=&quot;_blank&quot;&gt;#&lt;span&gt;Gundam&lt;/span&gt;&lt;/a&gt; &lt;a href=&quot;https://mstdn.jp/tags/MobileSuitGundam00&quot; class=&quot;mention hashtag&quot; rel=&quot;nofollow noopener&quot; target=&quot;_blank&quot;&gt;#&lt;span&gt;MobileSuitGundam00&lt;/span&gt;&lt;/a&gt; &lt;a href=&quot;https://mstdn.jp/tags/Waifu&quot; class=&quot;mention hashtag&quot; rel=&quot;nofollow noopener&quot; target=&quot;_blank&quot;&gt;#&lt;span&gt;Waifu&lt;/span&gt;&lt;/a&gt;&lt;/p&gt;&lt;/div&gt;`)[0];\n",
       "                popup_abb75a56cb79fe18188f3115e01c9685.setContent(html_1f753b4346b0a4dea06865adcf28230a);\n",
       "            \n",
       "        \n",
       "\n",
       "        marker_10eb40330fc86dfd8226a8542448316d.bindPopup(popup_abb75a56cb79fe18188f3115e01c9685)\n",
       "        ;\n",
       "\n",
       "        \n",
       "    \n",
       "    \n",
       "            var marker_3276ff663a8d1018db108ca3fcdf1f8c = L.marker(\n",
       "                [37.39008, -122.0813919],\n",
       "                {\n",
       "}\n",
       "            ).addTo(map_0d0b330cae222ae2570ebf21453b6135);\n",
       "        \n",
       "    \n",
       "        var popup_96e56e08a8f2cfa8d6d7ab4896494058 = L.popup({\n",
       "  &quot;maxWidth&quot;: &quot;100%&quot;,\n",
       "});\n",
       "\n",
       "        \n",
       "            \n",
       "                var html_8f4d8f59e6e66dfb8d66a9dbdc95b5d0 = $(`&lt;div id=&quot;html_8f4d8f59e6e66dfb8d66a9dbdc95b5d0&quot; style=&quot;width: 100.0%; height: 100.0%;&quot;&gt;&lt;p&gt;mmr3cords.bsky.social&lt;/p&gt;&lt;p&gt;&lt;a class=&quot;hashtag&quot; rel=&quot;nofollow noopener&quot; href=&quot;https://bsky.app/search?q=%23%E3%83%AC%E3%82%B3%E3%83%BC%E3%83%89&quot; target=&quot;_blank&quot;&gt;#レコード&lt;/a&gt; &lt;a class=&quot;hashtag&quot; rel=&quot;nofollow noopener&quot; href=&quot;https://bsky.app/search?q=%23%E3%83%95%E3%82%A1%E3%83%B3%E3%82%AF&quot; target=&quot;_blank&quot;&gt;#ファンク&lt;/a&gt;  「Good Times」は、 1998年にリリースされた、イギリスのR&amp;amp;BアーティストLEMARE（レマー/Lemar Obika）の「Good Times」。  &lt;a href=&quot;https://monumental-movement.jp/Lemare-Good-Times/&quot; rel=&quot;nofollow noopener&quot; target=&quot;_blank&quot;&gt;monumental-movement.jp/Lemare-Good-...&lt;/a&gt;&lt;br&gt;&lt;br&gt;&lt;a href=&quot;https://monumental-movement.jp/Lemare-Good-Times/&quot; rel=&quot;nofollow noopener&quot; target=&quot;_blank&quot;&gt;Lemare – Good Times&lt;/a&gt;&lt;/p&gt;&lt;/div&gt;`)[0];\n",
       "                popup_96e56e08a8f2cfa8d6d7ab4896494058.setContent(html_8f4d8f59e6e66dfb8d66a9dbdc95b5d0);\n",
       "            \n",
       "        \n",
       "\n",
       "        marker_3276ff663a8d1018db108ca3fcdf1f8c.bindPopup(popup_96e56e08a8f2cfa8d6d7ab4896494058)\n",
       "        ;\n",
       "\n",
       "        \n",
       "    \n",
       "    \n",
       "            var marker_77e7b59f30d7e340194c4ac6a46f6871 = L.marker(\n",
       "                [48.143438999, 11.573599],\n",
       "                {\n",
       "}\n",
       "            ).addTo(map_0d0b330cae222ae2570ebf21453b6135);\n",
       "        \n",
       "    \n",
       "        var popup_cd3c83df1dc70fa5fc9141ff032cb245 = L.popup({\n",
       "  &quot;maxWidth&quot;: &quot;100%&quot;,\n",
       "});\n",
       "\n",
       "        \n",
       "            \n",
       "                var html_58cabfab57ebb11e223825e9c2c4779d = $(`&lt;div id=&quot;html_58cabfab57ebb11e223825e9c2c4779d&quot; style=&quot;width: 100.0%; height: 100.0%;&quot;&gt;&lt;p&gt;flyover&lt;/p&gt;Originally: you didn&#x27;t know how good this one was until you watched Mitsuhide. Now: you don&#x27;t know how good this one is until you see the deleted scenes.&lt;/div&gt;`)[0];\n",
       "                popup_cd3c83df1dc70fa5fc9141ff032cb245.setContent(html_58cabfab57ebb11e223825e9c2c4779d);\n",
       "            \n",
       "        \n",
       "\n",
       "        marker_77e7b59f30d7e340194c4ac6a46f6871.bindPopup(popup_cd3c83df1dc70fa5fc9141ff032cb245)\n",
       "        ;\n",
       "\n",
       "        \n",
       "    \n",
       "    \n",
       "            var marker_b544413cad5a07696e284b5ea88f241e = L.marker(\n",
       "                [-41.284893524, 174.776100466],\n",
       "                {\n",
       "}\n",
       "            ).addTo(map_0d0b330cae222ae2570ebf21453b6135);\n",
       "        \n",
       "    \n",
       "        var popup_31a7f8d89c61d95044270201976f2c36 = L.popup({\n",
       "  &quot;maxWidth&quot;: &quot;100%&quot;,\n",
       "});\n",
       "\n",
       "        \n",
       "            \n",
       "                var html_799b05906ddc8cefcf0c665f89c03550 = $(`&lt;div id=&quot;html_799b05906ddc8cefcf0c665f89c03550&quot; style=&quot;width: 100.0%; height: 100.0%;&quot;&gt;&lt;p&gt;ben&lt;/p&gt;&lt;p&gt;It&#x27;s been a while, and I&#x27;ve come back with a new project to share.&lt;br&gt;&lt;br&gt;Bedrock is a portable 8-bit computer system that can run programs on any device ever made. Programs assemble down to a few kilobytes of bytecode and can then run on any computer, console, or handheld where the system has been implemented. The core takes a few hours to implement, and the input/output devices can be added on as needed.&lt;br&gt;&lt;br&gt;Bedrock started off as a fork of Uxn and Varvara, but it&#x27;s since grown into its own thing. I changed out the instruction set, the devices, the assembler, and the way the components connect to each other, all to make it easier to implement on more constrained systems. It should run decently on a TRS-80 or any other computer of that vintage, but I haven&#x27;t gotten around to testing that yet.&lt;br&gt;&lt;br&gt;The system is more or less fully specified, and there are a few programs that showcase what the system can do. The most impressive one is Cobalt, a full featured pixel-art drawing program with brushes and textures and GIF exporting and all that. They can be tried out in-browser from the project page.&lt;br&gt;&lt;br&gt;&lt;a href=&quot;https://benbridle.com/projects/bedrock&quot; rel=&quot;nofollow noopener&quot; target=&quot;_blank&quot;&gt;https://benbridle.com/projects/bedrock&lt;/a&gt;&lt;br&gt;&lt;a href=&quot;https://benbridle.com/articles/bedrock-differences-from-uxn&quot; rel=&quot;nofollow noopener&quot; target=&quot;_blank&quot;&gt;https://benbridle.com/articles/bedrock-differences-from-uxn&lt;/a&gt;&lt;/p&gt;&lt;/div&gt;`)[0];\n",
       "                popup_31a7f8d89c61d95044270201976f2c36.setContent(html_799b05906ddc8cefcf0c665f89c03550);\n",
       "            \n",
       "        \n",
       "\n",
       "        marker_b544413cad5a07696e284b5ea88f241e.bindPopup(popup_31a7f8d89c61d95044270201976f2c36)\n",
       "        ;\n",
       "\n",
       "        \n",
       "    \n",
       "    \n",
       "            var marker_fb529032842e7fafb11606b87c421a18 = L.marker(\n",
       "                [37.7800771, -122.4201615],\n",
       "                {\n",
       "}\n",
       "            ).addTo(map_0d0b330cae222ae2570ebf21453b6135);\n",
       "        \n",
       "    \n",
       "        var popup_479a2efcf1f0684b11fdfc8620521889 = L.popup({\n",
       "  &quot;maxWidth&quot;: &quot;100%&quot;,\n",
       "});\n",
       "\n",
       "        \n",
       "            \n",
       "                var html_de3bccf392a061ef32d870d4ceedf79e = $(`&lt;div id=&quot;html_de3bccf392a061ef32d870d4ceedf79e&quot; style=&quot;width: 100.0%; height: 100.0%;&quot;&gt;&lt;p&gt;teteatete&lt;/p&gt;&lt;p&gt;O QUE KAFKA DIRIA SOBRE A BUROCRACIA DO SÉCULO XXI?&lt;/p&gt;&lt;p&gt;Franz Kafka, autor tcheco de língua alemã e figura central da literatura do século ****, talvez jamais tenha imaginado o quanto sua obra seria profética ao tratar dos meandros da burocracia. Com romances como O Processo e O Castelo, Kafka criou um universo em que o indivíduo está constantemente submetido a sistemas impessoais, labirínticos e opressivos. A pergunta que nos propomos aqui é: se Kafka pudesse observar a…&lt;/p&gt;&lt;p&gt;&lt;a href=&quot;http://conservandovalor.com/2025/07/11/o-que-kafka-diria-sobre-a-burocracia-do-seculo-xxi/&quot; target=&quot;_blank&quot; rel=&quot;nofollow noopener&quot; translate=&quot;no&quot;&gt;&lt;span class=&quot;invisible&quot;&gt;http://&lt;/span&gt;&lt;span class=&quot;ellipsis&quot;&gt;conservandovalor.com/2025/07/1&lt;/span&gt;&lt;span class=&quot;invisible&quot;&gt;1/o-que-kafka-diria-sobre-a-burocracia-do-seculo-xxi/&lt;/span&gt;&lt;/a&gt;&lt;/p&gt;&lt;/div&gt;`)[0];\n",
       "                popup_479a2efcf1f0684b11fdfc8620521889.setContent(html_de3bccf392a061ef32d870d4ceedf79e);\n",
       "            \n",
       "        \n",
       "\n",
       "        marker_fb529032842e7fafb11606b87c421a18.bindPopup(popup_479a2efcf1f0684b11fdfc8620521889)\n",
       "        ;\n",
       "\n",
       "        \n",
       "    \n",
       "    \n",
       "            var marker_5d659d1d5ab96793ae91149e5ea7756e = L.marker(\n",
       "                [37.7800771, -122.4201615],\n",
       "                {\n",
       "}\n",
       "            ).addTo(map_0d0b330cae222ae2570ebf21453b6135);\n",
       "        \n",
       "    \n",
       "        var popup_0f5058bd2c4faef2cb222e14b2993cca = L.popup({\n",
       "  &quot;maxWidth&quot;: &quot;100%&quot;,\n",
       "});\n",
       "\n",
       "        \n",
       "            \n",
       "                var html_03c991890f40acf7ae0ad2d87af0e858 = $(`&lt;div id=&quot;html_03c991890f40acf7ae0ad2d87af0e858&quot; style=&quot;width: 100.0%; height: 100.0%;&quot;&gt;&lt;p&gt;kyodo_news&lt;/p&gt;Detailed information: Chinese military aircraft in the East China Sea unusually close to the Self-Defense Force aircraft 10:57 [Kyodo News, July 11] Japan&#x27;s Ministry of Defense announced on the 10th that on the 9th and 10th respectively in the East China Sea airspace occurred Chinese military aircraft close to the Air Self-Defense Force aircraft. Chinese military aircraft also approached SDF aircraft over the Pacific Ocean in June. Since this is an &quot;abnormal approach&quot; that could lead to an accidental conflict, Japan&#x27;s Undersecretary for Foreign Affairs, Mr. Kenhiro Funakoshi, expressed his serious concern to the Chinese Ambassador to Japan, Mr. Wu Jianghao, on the 10th of September, and solemnly demanded to prevent the occurrence of the incident from happening again. https://tchina.kyodonews.net/news/2025/07/aa0e8982ed13.html #news&lt;/div&gt;`)[0];\n",
       "                popup_0f5058bd2c4faef2cb222e14b2993cca.setContent(html_03c991890f40acf7ae0ad2d87af0e858);\n",
       "            \n",
       "        \n",
       "\n",
       "        marker_5d659d1d5ab96793ae91149e5ea7756e.bindPopup(popup_0f5058bd2c4faef2cb222e14b2993cca)\n",
       "        ;\n",
       "\n",
       "        \n",
       "    \n",
       "    \n",
       "            var marker_6c486bb8e4d25ffd1134ab134a105c29 = L.marker(\n",
       "                [37.7800771, -122.4201615],\n",
       "                {\n",
       "}\n",
       "            ).addTo(map_0d0b330cae222ae2570ebf21453b6135);\n",
       "        \n",
       "    \n",
       "        var popup_202d642c2a5c7358dc03d53a9c9c58c4 = L.popup({\n",
       "  &quot;maxWidth&quot;: &quot;100%&quot;,\n",
       "});\n",
       "\n",
       "        \n",
       "            \n",
       "                var html_5588884900d9e09c961687d958583e8a = $(`&lt;div id=&quot;html_5588884900d9e09c961687d958583e8a&quot; style=&quot;width: 100.0%; height: 100.0%;&quot;&gt;&lt;p&gt;DAZNFootball&lt;/p&gt;&lt;p&gt;All of the Blues&#x27; shots on target leading to the final 🔜&lt;/p&gt;&lt;p&gt;Catch the &lt;span class=&quot;h-card&quot;&gt;&lt;a href=&quot;https://twitter.com/FIFACWC&quot; class=&quot;u-url mention&quot; rel=&quot;nofollow noopener&quot; target=&quot;_blank&quot;&gt;@&lt;span&gt;FIFACWC@sportsbots.xyz&lt;/span&gt;&lt;/a&gt;&lt;/span&gt; Final | July 13 | Free | &lt;a href=&quot;http://DAZN.com&quot; rel=&quot;nofollow noopener&quot; target=&quot;_blank&quot;&gt;&lt;span class=&quot;invisible&quot;&gt;http://&lt;/span&gt;&lt;span class=&quot;&quot;&gt;DAZN.com&lt;/span&gt;&lt;span class=&quot;invisible&quot;&gt;&lt;/span&gt;&lt;/a&gt; | &lt;a href=&quot;https://twitter.com/hashtag/FIFACWC&quot; class=&quot;mention hashtag&quot; rel=&quot;nofollow noopener&quot; target=&quot;_blank&quot;&gt;#&lt;span&gt;FIFACWC&lt;/span&gt;&lt;/a&gt; &lt;a href=&quot;https://twitter.com/hashtag/TakeItToTheWorld&quot; class=&quot;mention hashtag&quot; rel=&quot;nofollow noopener&quot; target=&quot;_blank&quot;&gt;#&lt;span&gt;TakeItToTheWorld&lt;/span&gt;&lt;/a&gt;&lt;/p&gt;&lt;/div&gt;`)[0];\n",
       "                popup_202d642c2a5c7358dc03d53a9c9c58c4.setContent(html_5588884900d9e09c961687d958583e8a);\n",
       "            \n",
       "        \n",
       "\n",
       "        marker_6c486bb8e4d25ffd1134ab134a105c29.bindPopup(popup_202d642c2a5c7358dc03d53a9c9c58c4)\n",
       "        ;\n",
       "\n",
       "        \n",
       "    \n",
       "    \n",
       "            var marker_7971a0b22078ca9c9632f0ddada5cf3f = L.marker(\n",
       "                [37.7800771, -122.4201615],\n",
       "                {\n",
       "}\n",
       "            ).addTo(map_0d0b330cae222ae2570ebf21453b6135);\n",
       "        \n",
       "    \n",
       "        var popup_dff3bfb842611918bc0717dfec3082c6 = L.popup({\n",
       "  &quot;maxWidth&quot;: &quot;100%&quot;,\n",
       "});\n",
       "\n",
       "        \n",
       "            \n",
       "                var html_84b37ac30662d64ea14612ebfe673101 = $(`&lt;div id=&quot;html_84b37ac30662d64ea14612ebfe673101&quot; style=&quot;width: 100.0%; height: 100.0%;&quot;&gt;&lt;p&gt;709508&lt;/p&gt;&lt;p&gt;New Episode: &lt;a href=&quot;https://podcastindex.org/podcast/709508?episode=39737104418&quot; rel=&quot;nofollow noopener&quot; target=&quot;_blank&quot;&gt;The Minnesota Assassination &amp;amp; Evangelical Terrorism&lt;/a&gt;&lt;/p&gt;&lt;p&gt;Shownotes:&lt;br&gt;&lt;/p&gt;&lt;p&gt;James and Gare discuss the targeted assassination of a Minnesota Democrat by an anti-abortion evangelical missionary.&lt;/p&gt; &lt;p&gt;Sources:&lt;/p&gt; &lt;p&gt;https://mblsportal.sos.mn.gov/Business/SearchDetails?filingGuid=0792690a-c0b6-e811-9165-00155d0deff0&lt;/p&gt; &lt;p&gt;http&lt;/p&gt;&lt;p&gt;&lt;a href=&quot;https://steno.fm/show/5cb033dc-cee1-5ecd-8305-aa39b73f9f65/episode/YmYzYjQwODYtMzZiOC00Zjk0LTg2NDktYjMxNjAwMTY3MGIy&quot; rel=&quot;nofollow noopener&quot; target=&quot;_blank&quot;&gt;Transcript&lt;/a&gt;&lt;/p&gt;&lt;p&gt;&lt;a href=&quot;https://antennapod.org/deeplink/subscribe?url=https://omnycontent.com/d/playlist/e73c998e-6e60-432f-8610-ae210140c5b1/78D30ACB-8463-4C40-A5AE-AE2D0145C9FF/BC7F369B-DCE6-43C2-897E-AE2D0145CA12/podcast.rss&quot; rel=&quot;nofollow noopener&quot; target=&quot;_blank&quot;&gt;AntennaPod&lt;/a&gt; | &lt;a href=&quot;https://anytimeplayer.app/subscribe?url=https://omnycontent.com/d/playlist/e73c998e-6e60-432f-8610-ae210140c5b1/78D30ACB-8463-4C40-A5AE-AE2D0145C9FF/BC7F369B-DCE6-43C2-897E-AE2D0145CA12/podcast.rss&quot; rel=&quot;nofollow noopener&quot; target=&quot;_blank&quot;&gt;Anytime Player&lt;/a&gt; | &lt;a href=&quot;https://podcasts.apple.com/podcast/id1449762156&quot; rel=&quot;nofollow noopener&quot; target=&quot;_blank&quot;&gt;Apple Podcasts&lt;/a&gt; | &lt;a href=&quot;https://castamatic.com/guid/5cb033dc-cee1-5ecd-8305-aa39b73f9f65&quot; rel=&quot;nofollow noopener&quot; target=&quot;_blank&quot;&gt;Castamatic&lt;/a&gt; | &lt;a href=&quot;https://curiocaster.com/podcast/pi709508&quot; rel=&quot;nofollow noopener&quot; target=&quot;_blank&quot;&gt;CurioCaster&lt;/a&gt; | &lt;a href=&quot;https://fountain.fm/show/709508&quot; rel=&quot;nofollow noopener&quot; target=&quot;_blank&quot;&gt;Fountain&lt;/a&gt; | &lt;a href=&quot;https://gpodder.net/subscribe?url=https://omnycontent.com/d/playlist/e73c998e-6e60-432f-8610-ae210140c5b1/78D30ACB-8463-4C40-A5AE-AE2D0145C9FF/BC7F369B-DCE6-43C2-897E-AE2D0145CA12/podcast.rss&quot; rel=&quot;nofollow noopener&quot; target=&quot;_blank&quot;&gt;gPodder&lt;/a&gt; | &lt;a href=&quot;https://overcast.fm/itunes1449762156&quot; rel=&quot;nofollow noopener&quot; target=&quot;_blank&quot;&gt;Overcast&lt;/a&gt; | &lt;a href=&quot;https://pcasts.in/feed/https://omnycontent.com/d/playlist/e73c998e-6e60-432f-8610-ae210140c5b1/78D30ACB-8463-4C40-A5AE-AE2D0145C9FF/BC7F369B-DCE6-43C2-897E-AE2D0145CA12/podcast.rss&quot; rel=&quot;nofollow noopener&quot; target=&quot;_blank&quot;&gt;Pocket Casts&lt;/a&gt; | &lt;a href=&quot;https://podcastaddict.com/feed/https://omnycontent.com/d/playlist/e73c998e-6e60-432f-8610-ae210140c5b1/78D30ACB-8463-4C40-A5AE-AE2D0145C9FF/BC7F369B-DCE6-43C2-897E-AE2D0145CA12/podcast.rss&quot; rel=&quot;nofollow noopener&quot; target=&quot;_blank&quot;&gt;Podcast Addict&lt;/a&gt; | &lt;a href=&quot;https://app.podcastguru.io/podcast/1449762156&quot; rel=&quot;nofollow noopener&quot; target=&quot;_blank&quot;&gt;Podcast Guru&lt;/a&gt; | &lt;a href=&quot;https://podnews.net/podcast/pi709508&quot; rel=&quot;nofollow noopener&quot; target=&quot;_blank&quot;&gt;Podnews&lt;/a&gt; | &lt;a href=&quot;https://api.podverse.fm/api/v1/podcast/podcastindex/709508&quot; rel=&quot;nofollow noopener&quot; target=&quot;_blank&quot;&gt;Podverse&lt;/a&gt; | &lt;a href=&quot;https://truefans.fm/5cb033dc-cee1-5ecd-8305-aa39b73f9f65&quot; rel=&quot;nofollow noopener&quot; target=&quot;_blank&quot;&gt;Truefans&lt;/a&gt;&lt;/p&gt;&lt;p&gt;Or &lt;a href=&quot;https://podtrac.com/pts/redirect.mp3/traffic.omny.fm/d/clips/e73c998e-6e60-432f-8610-ae210140c5b1/78d30acb-8463-4c40-a5ae-ae2d0145c9ff/bf3b4086-36b8-4f94-8649-b316001670b2/audio.mp3?utm_source=Podcast&amp;amp;in_playlist=bc7f369b-dce6-43c2-897e-ae2d0145ca12&quot; rel=&quot;nofollow noopener&quot; target=&quot;_blank&quot;&gt;Listen&lt;/a&gt; right here.&lt;/p&gt;&lt;/div&gt;`)[0];\n",
       "                popup_dff3bfb842611918bc0717dfec3082c6.setContent(html_84b37ac30662d64ea14612ebfe673101);\n",
       "            \n",
       "        \n",
       "\n",
       "        marker_7971a0b22078ca9c9632f0ddada5cf3f.bindPopup(popup_dff3bfb842611918bc0717dfec3082c6)\n",
       "        ;\n",
       "\n",
       "        \n",
       "    \n",
       "    \n",
       "            var marker_ffe684656e740d218c3eb369e28e0a20 = L.marker(\n",
       "                [37.7800771, -122.4201615],\n",
       "                {\n",
       "}\n",
       "            ).addTo(map_0d0b330cae222ae2570ebf21453b6135);\n",
       "        \n",
       "    \n",
       "        var popup_a50a6433e45079f14dff8cfb0d10cf62 = L.popup({\n",
       "  &quot;maxWidth&quot;: &quot;100%&quot;,\n",
       "});\n",
       "\n",
       "        \n",
       "            \n",
       "                var html_e35af09afd034c520143bcc4d3a509b8 = $(`&lt;div id=&quot;html_e35af09afd034c520143bcc4d3a509b8&quot; style=&quot;width: 100.0%; height: 100.0%;&quot;&gt;&lt;p&gt;news_s&lt;/p&gt;&lt;p&gt;‫ الأيرلندي بن هيلي يفوز بالمرحلة السادسة لطواف فرنسا للدراجات الهوائية&lt;/p&gt;&lt;p&gt;رياضة 30 10 يوليو 2025 , 11:45م باريس - قنا  فاز الدراج الأيرلندي بن هيلي بالمركز الأول في المرحلة السادسة من النسخة الـ112 لطواف فرنسا للدراجات الهوائية، والتي امتدت لمسافة 201.5 كيلومتر بين مدينتي بايو وفير في منطقة نورماندي.&lt;br /&gt;ونجح هيلي، البالغ من العمر 24 عامًا، في تحقيق فوزه الأول في هذا السباق العريق، قاطعًا المرحلة بزمن بلغ 4 ساعات و26 دقيقة و54 ثانية، متقدمًا بفارق دقيقتين و44 ثانية عن…&lt;/p&gt;&lt;p&gt;&lt;a href=&quot;https://news-s.online/%d8%a7%d9%84%d8%a3%d9%8a%d8%b1%d9%84%d9%86%d8%af%d9%8a-%d8%a8%d9%86-%d9%87%d9%8a%d9%84%d9%8a-%d9%8a%d9%81%d9%88%d8%b2-%d8%a8%d8%a7%d9%84%d9%85%d8%b1%d8%ad%d9%84%d8%a9-%d8%a7%d9%84%d8%b3/&quot; target=&quot;_blank&quot; rel=&quot;nofollow noopener&quot; translate=&quot;no&quot;&gt;&lt;span class=&quot;invisible&quot;&gt;https://&lt;/span&gt;&lt;span class=&quot;ellipsis&quot;&gt;news-s.online/%d8%a7%d9%84%d8%&lt;/span&gt;&lt;span class=&quot;invisible&quot;&gt;a3%d9%8a%d8%b1%d9%84%d9%86%d8%af%d9%8a-%d8%a8%d9%86-%d9%87%d9%8a%d9%84%d9%8a-%d9%8a%d9%81%d9%88%d8%b2-%d8%a8%d8%a7%d9%84%d9%85%d8%b1%d8%ad%d9%84%d8%a9-%d8%a7%d9%84%d8%b3/&lt;/span&gt;&lt;/a&gt;&lt;/p&gt;&lt;/div&gt;`)[0];\n",
       "                popup_a50a6433e45079f14dff8cfb0d10cf62.setContent(html_e35af09afd034c520143bcc4d3a509b8);\n",
       "            \n",
       "        \n",
       "\n",
       "        marker_ffe684656e740d218c3eb369e28e0a20.bindPopup(popup_a50a6433e45079f14dff8cfb0d10cf62)\n",
       "        ;\n",
       "\n",
       "        \n",
       "    \n",
       "    \n",
       "            var marker_e7cacb3abe207c6c466269529cbb0367 = L.marker(\n",
       "                [37.7800771, -122.4201615],\n",
       "                {\n",
       "}\n",
       "            ).addTo(map_0d0b330cae222ae2570ebf21453b6135);\n",
       "        \n",
       "    \n",
       "        var popup_44c32da07a16b7174bf44890f3a0924f = L.popup({\n",
       "  &quot;maxWidth&quot;: &quot;100%&quot;,\n",
       "});\n",
       "\n",
       "        \n",
       "            \n",
       "                var html_cc95e2cb886abb0062811d9cf67d71fc = $(`&lt;div id=&quot;html_cc95e2cb886abb0062811d9cf67d71fc&quot; style=&quot;width: 100.0%; height: 100.0%;&quot;&gt;&lt;p&gt;iembot_dvn&lt;/p&gt;&lt;p&gt;DVN continues Tornado Warning [tornado: RADAR INDICATED, hail: 1.00 IN] for Bureau [IL] till 10:15 PM CDT &lt;a href=&quot;https://mesonet.agron.iastate.edu/vtec/f/2025-O-CON-KDVN-TO-W-0023_2025-07-11T03:02Z&quot; rel=&quot;nofollow noopener&quot; translate=&quot;no&quot; target=&quot;_blank&quot;&gt;&lt;span class=&quot;invisible&quot;&gt;https://&lt;/span&gt;&lt;span class=&quot;ellipsis&quot;&gt;mesonet.agron.iastate.edu/vtec&lt;/span&gt;&lt;span class=&quot;invisible&quot;&gt;/f/2025-O-CON-KDVN-TO-W-0023_2025-07-11T03:02Z&lt;/span&gt;&lt;/a&gt;&lt;/p&gt;&lt;/div&gt;`)[0];\n",
       "                popup_44c32da07a16b7174bf44890f3a0924f.setContent(html_cc95e2cb886abb0062811d9cf67d71fc);\n",
       "            \n",
       "        \n",
       "\n",
       "        marker_e7cacb3abe207c6c466269529cbb0367.bindPopup(popup_44c32da07a16b7174bf44890f3a0924f)\n",
       "        ;\n",
       "\n",
       "        \n",
       "    \n",
       "    \n",
       "            var marker_ba03b0ff669dee84b40f68f1384674a6 = L.marker(\n",
       "                [37.7800771, -122.4201615],\n",
       "                {\n",
       "}\n",
       "            ).addTo(map_0d0b330cae222ae2570ebf21453b6135);\n",
       "        \n",
       "    \n",
       "        var popup_ca985995e81d983f2656d956d9a67717 = L.popup({\n",
       "  &quot;maxWidth&quot;: &quot;100%&quot;,\n",
       "});\n",
       "\n",
       "        \n",
       "            \n",
       "                var html_c6bc52eb5a37b387bda55063bbb257f8 = $(`&lt;div id=&quot;html_c6bc52eb5a37b387bda55063bbb257f8&quot; style=&quot;width: 100.0%; height: 100.0%;&quot;&gt;&lt;p&gt;LaCeys_ES&lt;/p&gt;&lt;p&gt;ぬフォローしてなかった&lt;/p&gt;&lt;/div&gt;`)[0];\n",
       "                popup_ca985995e81d983f2656d956d9a67717.setContent(html_c6bc52eb5a37b387bda55063bbb257f8);\n",
       "            \n",
       "        \n",
       "\n",
       "        marker_ba03b0ff669dee84b40f68f1384674a6.bindPopup(popup_ca985995e81d983f2656d956d9a67717)\n",
       "        ;\n",
       "\n",
       "        \n",
       "    \n",
       "    \n",
       "            var marker_83afc4ba46db0372befe7dcc7ccba48d = L.marker(\n",
       "                [35.68945633, 139.69171609],\n",
       "                {\n",
       "}\n",
       "            ).addTo(map_0d0b330cae222ae2570ebf21453b6135);\n",
       "        \n",
       "    \n",
       "        var popup_5517b4fff6be441426896acca1af18e0 = L.popup({\n",
       "  &quot;maxWidth&quot;: &quot;100%&quot;,\n",
       "});\n",
       "\n",
       "        \n",
       "            \n",
       "                var html_31db0205406a6e4fcda7147384b58df1 = $(`&lt;div id=&quot;html_31db0205406a6e4fcda7147384b58df1&quot; style=&quot;width: 100.0%; height: 100.0%;&quot;&gt;&lt;p&gt;youtube_ANNnewsCH&lt;/p&gt;Toshogu Shrine&quot; in Ueno no Mori, dedicated to Ieyasu and Yoshimune, with 110,000 pieces of glittering gold leaf [Good! Morning] (July 11, 2025)  #Good! Morning] (July 11, 2025)https://www.youtube.com/watch?v=aJDAoXVfoh8#youtube_ANNnewsCH #News #TV Asahi #provided #News Project #Good!&lt;/div&gt;`)[0];\n",
       "                popup_5517b4fff6be441426896acca1af18e0.setContent(html_31db0205406a6e4fcda7147384b58df1);\n",
       "            \n",
       "        \n",
       "\n",
       "        marker_83afc4ba46db0372befe7dcc7ccba48d.bindPopup(popup_5517b4fff6be441426896acca1af18e0)\n",
       "        ;\n",
       "\n",
       "        \n",
       "    \n",
       "    \n",
       "            var marker_7af1a48b1937e1da5345fb30ade4cd6e = L.marker(\n",
       "                [37.4532207, -122.1832229],\n",
       "                {\n",
       "}\n",
       "            ).addTo(map_0d0b330cae222ae2570ebf21453b6135);\n",
       "        \n",
       "    \n",
       "        var popup_b81302b7f99fc024bb6c7fb5d39c65e9 = L.popup({\n",
       "  &quot;maxWidth&quot;: &quot;100%&quot;,\n",
       "});\n",
       "\n",
       "        \n",
       "            \n",
       "                var html_8b45c3fd668e8c67f630086ed7d68177 = $(`&lt;div id=&quot;html_8b45c3fd668e8c67f630086ed7d68177&quot; style=&quot;width: 100.0%; height: 100.0%;&quot;&gt;&lt;p&gt;news.medical&lt;/p&gt;&lt;p&gt;Younger Swedes, especially women and ethnic minorities, are being diagnosed with type 2 diabetes at record rates, signaling an urgent need for targeted prevention before the crisis escalates. &lt;a href=&quot;https://www.news-medical.net/news/20250710/Early-onset-diabetes-rates-soar-among-young-adults-in-Sweden.aspx&quot; rel=&quot;nofollow noopener&quot; target=&quot;_blank&quot;&gt;https://www.news-medical.net/news/20250710/Early-onset-diabetes-rates-soar-among-young-adults-in-Sweden.aspx&lt;/a&gt;&lt;br&gt;#Type 2 diabetes&lt;/p&gt;&lt;/div&gt;`)[0];\n",
       "                popup_b81302b7f99fc024bb6c7fb5d39c65e9.setContent(html_8b45c3fd668e8c67f630086ed7d68177);\n",
       "            \n",
       "        \n",
       "\n",
       "        marker_7af1a48b1937e1da5345fb30ade4cd6e.bindPopup(popup_b81302b7f99fc024bb6c7fb5d39c65e9)\n",
       "        ;\n",
       "\n",
       "        \n",
       "    \n",
       "    \n",
       "            var marker_a8991414bc0a1b4e59899297f81eeb7e = L.marker(\n",
       "                [47.603229, -122.33028],\n",
       "                {\n",
       "}\n",
       "            ).addTo(map_0d0b330cae222ae2570ebf21453b6135);\n",
       "        \n",
       "    \n",
       "        var popup_734492e4faafbbf429d810d12aa1bc4d = L.popup({\n",
       "  &quot;maxWidth&quot;: &quot;100%&quot;,\n",
       "});\n",
       "\n",
       "        \n",
       "            \n",
       "                var html_4235778539db4dc8e68d1182161655c8 = $(`&lt;div id=&quot;html_4235778539db4dc8e68d1182161655c8&quot; style=&quot;width: 100.0%; height: 100.0%;&quot;&gt;&lt;p&gt;HindustanTimes&lt;/p&gt;&lt;p&gt;Woman returns to waterlogged home in upscale Gurgaon society after brutal rain: ‘Everything was destroyed’&lt;br&gt;&lt;a href=&quot;https://www.hindustantimes.com/trending/woman-returns-to-waterlogged-home-in-upscale-gurgaon-society-after-brutal-rain-everything-was-destroyed-101752200403777.html?utm_source=flipboard&amp;amp;utm_medium=activitypub&quot; rel=&quot;nofollow noopener&quot; translate=&quot;no&quot; target=&quot;_blank&quot;&gt;&lt;span class=&quot;invisible&quot;&gt;https://www.&lt;/span&gt;&lt;span class=&quot;ellipsis&quot;&gt;hindustantimes.com/trending/wo&lt;/span&gt;&lt;span class=&quot;invisible&quot;&gt;man-returns-to-waterlogged-home-in-upscale-gurgaon-society-after-brutal-rain-everything-was-destroyed-101752200403777.html?utm_source=flipboard&amp;amp;utm_medium=activitypub &lt;/span&gt;&lt;/a&gt;&lt;/p&gt;&lt;p&gt;Posted into It&#x27;s Viral &lt;span class=&quot;h-card&quot; translate=&quot;no&quot;&gt;&lt;a href=&quot;https://flipboard.com/@hindustantimes/it-s-viral-453g355qz&quot; class=&quot;u-url mention&quot; rel=&quot;nofollow noopener&quot; target=&quot;_blank&quot;&gt;@&lt;span&gt;it-s-viral-HindustanTimes&lt;/span&gt;&lt;/a&gt;&lt;/span&gt;&lt;/p&gt;&lt;/div&gt;`)[0];\n",
       "                popup_734492e4faafbbf429d810d12aa1bc4d.setContent(html_4235778539db4dc8e68d1182161655c8);\n",
       "            \n",
       "        \n",
       "\n",
       "        marker_a8991414bc0a1b4e59899297f81eeb7e.bindPopup(popup_734492e4faafbbf429d810d12aa1bc4d)\n",
       "        ;\n",
       "\n",
       "        \n",
       "    \n",
       "    \n",
       "            var marker_f0be1cbf706100a9fd38e57fae5078b2 = L.marker(\n",
       "                [35.68945633, 139.69171609],\n",
       "                {\n",
       "}\n",
       "            ).addTo(map_0d0b330cae222ae2570ebf21453b6135);\n",
       "        \n",
       "    \n",
       "        var popup_b3f2b61025c59f092c2ff56b48284658 = L.popup({\n",
       "  &quot;maxWidth&quot;: &quot;100%&quot;,\n",
       "});\n",
       "\n",
       "        \n",
       "            \n",
       "                var html_a722df6c58b987e56de946b970266a2e = $(`&lt;div id=&quot;html_a722df6c58b987e56de946b970266a2e&quot; style=&quot;width: 100.0%; height: 100.0%;&quot;&gt;&lt;p&gt;guppy0228&lt;/p&gt;&lt;p&gt;&lt;span&gt;インターステラ、89億円を調達–三井住友銀行やジャパネットが出資 - UchuBiz&lt;br&gt;&lt;/span&gt;&lt;a href=&quot;https://uchubiz.com/article/new63584/&quot; rel=&quot;nofollow noopener&quot; target=&quot;_blank&quot;&gt;https://uchubiz.com/article/new63584/&lt;/a&gt;&lt;span&gt;&lt;br&gt;&lt;br&gt;インターステラテクノロジズが2025年7月11日、シリーズFラウンドで89億円調達。三井住友銀行やジャパネットが出資し、三井住友銀行とは業務提携も締結。トヨタ関連とも提携し低コスト高頻度の打ち上げを目指すぽい。&lt;/span&gt;&lt;/p&gt;&lt;/div&gt;`)[0];\n",
       "                popup_b3f2b61025c59f092c2ff56b48284658.setContent(html_a722df6c58b987e56de946b970266a2e);\n",
       "            \n",
       "        \n",
       "\n",
       "        marker_f0be1cbf706100a9fd38e57fae5078b2.bindPopup(popup_b3f2b61025c59f092c2ff56b48284658)\n",
       "        ;\n",
       "\n",
       "        \n",
       "    \n",
       "    \n",
       "            var marker_41f9c315f015ea78e7aad8ce67a3b4b4 = L.marker(\n",
       "                [50.69095765, 3.174049418],\n",
       "                {\n",
       "}\n",
       "            ).addTo(map_0d0b330cae222ae2570ebf21453b6135);\n",
       "        \n",
       "    \n",
       "        var popup_2261403d94481c35fa394e28f0b752e3 = L.popup({\n",
       "  &quot;maxWidth&quot;: &quot;100%&quot;,\n",
       "});\n",
       "\n",
       "        \n",
       "            \n",
       "                var html_76a5e7e5e53b44770c0e778065a2942e = $(`&lt;div id=&quot;html_76a5e7e5e53b44770c0e778065a2942e&quot; style=&quot;width: 100.0%; height: 100.0%;&quot;&gt;&lt;p&gt;autonerdery&lt;/p&gt;&lt;p&gt;Okay, this one&#x27;s mobile again. It was clogging the driveway all week, blocking access to our charger, which was a major nuisance. I replaced the valve cover gasket again last weekend, and this time broke not one, but *two* hoses (including the same one I broke last time), so getting those replacements was the holdup. I still have to change the oil, but that&#x27;s an easy job for tomorrow. &lt;a href=&quot;https://weird.autos/tags/WeirdCarMastodon&quot; class=&quot;mention hashtag&quot; rel=&quot;nofollow noopener&quot; target=&quot;_blank&quot;&gt;#&lt;span&gt;WeirdCarMastodon&lt;/span&gt;&lt;/a&gt; &lt;a href=&quot;https://weird.autos/tags/WrenchEveryDay&quot; class=&quot;mention hashtag&quot; rel=&quot;nofollow noopener&quot; target=&quot;_blank&quot;&gt;#&lt;span&gt;WrenchEveryDay&lt;/span&gt;&lt;/a&gt; &lt;a href=&quot;https://weird.autos/tags/BMW&quot; class=&quot;mention hashtag&quot; rel=&quot;nofollow noopener&quot; target=&quot;_blank&quot;&gt;#&lt;span&gt;BMW&lt;/span&gt;&lt;/a&gt;&lt;/p&gt;&lt;/div&gt;`)[0];\n",
       "                popup_2261403d94481c35fa394e28f0b752e3.setContent(html_76a5e7e5e53b44770c0e778065a2942e);\n",
       "            \n",
       "        \n",
       "\n",
       "        marker_41f9c315f015ea78e7aad8ce67a3b4b4.bindPopup(popup_2261403d94481c35fa394e28f0b752e3)\n",
       "        ;\n",
       "\n",
       "        \n",
       "    \n",
       "    \n",
       "            var marker_c9869e07297b8351539551f142bd667f = L.marker(\n",
       "                [37.7800771, -122.4201615],\n",
       "                {\n",
       "}\n",
       "            ).addTo(map_0d0b330cae222ae2570ebf21453b6135);\n",
       "        \n",
       "    \n",
       "        var popup_e62a578c457c971a4e1192348bb65d2d = L.popup({\n",
       "  &quot;maxWidth&quot;: &quot;100%&quot;,\n",
       "});\n",
       "\n",
       "        \n",
       "            \n",
       "                var html_81400448766f04ac2937fc2a74ab6b51 = $(`&lt;div id=&quot;html_81400448766f04ac2937fc2a74ab6b51&quot; style=&quot;width: 100.0%; height: 100.0%;&quot;&gt;&lt;p&gt;todayupdate&lt;/p&gt;&lt;p&gt;Smoke billows from luxury yacht fire in St Tropez&lt;/p&gt;&lt;p&gt;Social media videos show black smoke billowing from a luxury yacht on fire in St Tropez in the French Riviera on Thursday. The blaze took place on the Sea Lady II, a 41m boat which sleeps up to 10 guests and can be chartered from €65,000 (£56,000) a week. Firefighters initially struggled to get on board to contain the fire, while emergency services quickly moved away surrounding yachts and put up anti-pollution…&lt;/p&gt;&lt;p&gt;&lt;a href=&quot;https://todayupdate.site/smoke-billows-from-luxury-yacht-fire-in-st-tropez/&quot; target=&quot;_blank&quot; rel=&quot;nofollow noopener&quot; translate=&quot;no&quot;&gt;&lt;span class=&quot;invisible&quot;&gt;https://&lt;/span&gt;&lt;span class=&quot;ellipsis&quot;&gt;todayupdate.site/smoke-billows&lt;/span&gt;&lt;span class=&quot;invisible&quot;&gt;-from-luxury-yacht-fire-in-st-tropez/&lt;/span&gt;&lt;/a&gt;&lt;/p&gt;&lt;/div&gt;`)[0];\n",
       "                popup_e62a578c457c971a4e1192348bb65d2d.setContent(html_81400448766f04ac2937fc2a74ab6b51);\n",
       "            \n",
       "        \n",
       "\n",
       "        marker_c9869e07297b8351539551f142bd667f.bindPopup(popup_e62a578c457c971a4e1192348bb65d2d)\n",
       "        ;\n",
       "\n",
       "        \n",
       "    \n",
       "    \n",
       "            var marker_d648e2613a9c61bcec93ac6fd3201b6c = L.marker(\n",
       "                [37.7800771, -122.4201615],\n",
       "                {\n",
       "}\n",
       "            ).addTo(map_0d0b330cae222ae2570ebf21453b6135);\n",
       "        \n",
       "    \n",
       "        var popup_d9cf9bc765b063b6ed8fdfcc1a88e3fd = L.popup({\n",
       "  &quot;maxWidth&quot;: &quot;100%&quot;,\n",
       "});\n",
       "\n",
       "        \n",
       "            \n",
       "                var html_69fc732c466d02fb7404844f1fb2b9b1 = $(`&lt;div id=&quot;html_69fc732c466d02fb7404844f1fb2b9b1&quot; style=&quot;width: 100.0%; height: 100.0%;&quot;&gt;&lt;p&gt;mlevel&lt;/p&gt;&lt;p&gt;&amp;quot;A work in which there are theories is like an object which still has the ticket that shows its price.&amp;quot;&lt;br /&gt;Marcel Proust&lt;br /&gt;(07/10/1871 – 11/18/1922)&lt;br /&gt;French writer&lt;/p&gt;&lt;/div&gt;`)[0];\n",
       "                popup_d9cf9bc765b063b6ed8fdfcc1a88e3fd.setContent(html_69fc732c466d02fb7404844f1fb2b9b1);\n",
       "            \n",
       "        \n",
       "\n",
       "        marker_d648e2613a9c61bcec93ac6fd3201b6c.bindPopup(popup_d9cf9bc765b063b6ed8fdfcc1a88e3fd)\n",
       "        ;\n",
       "\n",
       "        \n",
       "    \n",
       "    \n",
       "            var marker_3c12d5b87ba5abbaf3805e19dbefd651 = L.marker(\n",
       "                [37.7800771, -122.4201615],\n",
       "                {\n",
       "}\n",
       "            ).addTo(map_0d0b330cae222ae2570ebf21453b6135);\n",
       "        \n",
       "    \n",
       "        var popup_a96323e894bdcefeb2c16a39645f5b87 = L.popup({\n",
       "  &quot;maxWidth&quot;: &quot;100%&quot;,\n",
       "});\n",
       "\n",
       "        \n",
       "            \n",
       "                var html_f8de0e418395223cb18e0722c940b148 = $(`&lt;div id=&quot;html_f8de0e418395223cb18e0722c940b148&quot; style=&quot;width: 100.0%; height: 100.0%;&quot;&gt;&lt;p&gt;FOXSportsMX&lt;/p&gt;EL MEJOR ANÁLISIS ⚽Inicia #FOXGolMéxico @TonyVallsFox@twitter.com@RafaMLOficial@twitter.com@santipuente@twitter.com@FABIANESTAY10@twitter.com@arturobrizioc@twitter.com📺 FOX Sports 📱🖥💻: http://bit.ly/41KWwFR&lt;/div&gt;`)[0];\n",
       "                popup_a96323e894bdcefeb2c16a39645f5b87.setContent(html_f8de0e418395223cb18e0722c940b148);\n",
       "            \n",
       "        \n",
       "\n",
       "        marker_3c12d5b87ba5abbaf3805e19dbefd651.bindPopup(popup_a96323e894bdcefeb2c16a39645f5b87)\n",
       "        ;\n",
       "\n",
       "        \n",
       "    \n",
       "    \n",
       "            var marker_0d8e98c369736e6cf4f4eb246ed753b5 = L.marker(\n",
       "                [37.39008, -122.0813919],\n",
       "                {\n",
       "}\n",
       "            ).addTo(map_0d0b330cae222ae2570ebf21453b6135);\n",
       "        \n",
       "    \n",
       "        var popup_533e3f1521d937c138ae8d2808c55f43 = L.popup({\n",
       "  &quot;maxWidth&quot;: &quot;100%&quot;,\n",
       "});\n",
       "\n",
       "        \n",
       "            \n",
       "                var html_6ea0d76fa206e0732eb294b1e4481648 = $(`&lt;div id=&quot;html_6ea0d76fa206e0732eb294b1e4481648&quot; style=&quot;width: 100.0%; height: 100.0%;&quot;&gt;&lt;p&gt;jctrip.bsky.social&lt;/p&gt;&lt;p&gt;Be Love.&lt;/p&gt;&lt;/div&gt;`)[0];\n",
       "                popup_533e3f1521d937c138ae8d2808c55f43.setContent(html_6ea0d76fa206e0732eb294b1e4481648);\n",
       "            \n",
       "        \n",
       "\n",
       "        marker_0d8e98c369736e6cf4f4eb246ed753b5.bindPopup(popup_533e3f1521d937c138ae8d2808c55f43)\n",
       "        ;\n",
       "\n",
       "        \n",
       "    \n",
       "&lt;/script&gt;\n",
       "&lt;/html&gt;\" style=\"position:absolute;width:100%;height:100%;left:0;top:0;border:none !important;\" allowfullscreen webkitallowfullscreen mozallowfullscreen></iframe></div></div>"
      ],
      "text/plain": [
       "<folium.folium.Map at 0xffff1d2b5910>"
      ]
     },
     "execution_count": 68,
     "metadata": {},
     "output_type": "execute_result"
    }
   ],
   "source": [
    "usmap # displays the map in the notebook"
   ]
  },
  {
   "cell_type": "markdown",
   "metadata": {
    "tags": []
   },
   "source": [
    "## Class `LocationListener` (in locationlistener.py)"
   ]
  },
  {
   "cell_type": "markdown",
   "metadata": {},
   "source": [
    "## Utility Functions in `tootutilities.py` "
   ]
  },
  {
   "cell_type": "markdown",
   "metadata": {},
   "source": [
    "### Utility Function `get_domain_location_from_url`  \n",
    "* Receives the URL of a toot, extracts the domain name, looks up the domain's IP address, then uses the free tier of the ipgeolocation.io API to lookup the geographic location of that IP address\n",
    "*  Get a key at for ipgeolocation.io web service at: https://ipgeolocation.io/signup.html\n",
    "    * store it in `ipgeolocation_key` within in c`keys_mastodon.py`"
   ]
  },
  {
   "cell_type": "markdown",
   "metadata": {},
   "source": [
    "### `get_geocodes` Utility Function \n",
    "* Receives a list of dictionaries containing toots and **geocodes their server locations**\n",
    "* If geocoding is successful for a toot, adds the **latitude** and **longitude** to the toot’s **dictionary in `toot_list`**"
   ]
  },
  {
   "cell_type": "markdown",
   "metadata": {
    "tags": []
   },
   "source": [
    "<!--\n",
    "# More Info \n",
    "* See Lesson 12 in [**Python Fundamentals LiveLessons** here on O'Reilly Online Learning](https://learning.oreilly.com/videos/python-fundamentals/9780135917411)\n",
    "* See Chapter 12 in [**Python for Programmers** on O'Reilly Online Learning](https://learning.oreilly.com/library/view/python-for-programmers/9780135231364/)\n",
    "* See Chapter 13 in [**Intro Python for Computer Science and Data Science** on O'Reilly Online Learning](https://learning.oreilly.com/library/view/intro-to-python/9780135404799/)\n",
    "* Interested in a print book? Check out:\n",
    "\n",
    "| Python for Programmers<br>(640-page professional book) | Intro to Python for Computer<br>Science and Data Science<br>(880-page college textbook)\n",
    "| :------ | :------\n",
    "| <a href=\"https://amzn.to/2VvdnxE\"><img alt=\"Python for Programmers cover\" src=\"../images/PyFPCover.png\" width=\"150\" border=\"1\"/></a> | <a href=\"https://amzn.to/2LiDCmt\"><img alt=\"Intro to Python for Computer Science and Data Science: Learning to Program with AI, Big Data and the Cloud\" src=\"../images/IntroToPythonCover.png\" width=\"159\" border=\"1\"></a>\n",
    "\n",
    ">Please **do not** purchase both books&mdash;_Python for Programmers_ is a subset of _Intro to Python for Computer Science and Data Science_\n",
    "-->"
   ]
  },
  {
   "cell_type": "markdown",
   "metadata": {},
   "source": [
    "------\n",
    "&copy;1992&ndash;2024 by Pearson Education, Inc. All Rights Reserved. This content is based on Chapter 12 of the book [**Intro to Python for Computer Science and Data Science: Learning to Program with AI, Big Data and the Cloud**](https://amzn.to/2VvdnxE).\n",
    "\n",
    "DISCLAIMER: The authors and publisher of this book have used their \n",
    "best efforts in preparing the book. These efforts include the \n",
    "development, research, and testing of the theories and programs \n",
    "to determine their effectiveness. The authors and publisher make \n",
    "no warranty of any kind, expressed or implied, with regard to these \n",
    "programs or to the documentation contained in these books. The authors \n",
    "and publisher shall not be liable in any event for incidental or \n",
    "consequential damages in connection with, or arising out of, the \n",
    "furnishing, performance, or use of these programs.                  "
   ]
  }
 ],
 "metadata": {
  "celltoolbar": "Slideshow",
  "kernelspec": {
   "display_name": "Python 3 (ipykernel)",
   "language": "python",
   "name": "python3"
  },
  "language_info": {
   "codemirror_mode": {
    "name": "ipython",
    "version": 3
   },
   "file_extension": ".py",
   "mimetype": "text/x-python",
   "name": "python",
   "nbconvert_exporter": "python",
   "pygments_lexer": "ipython3",
   "version": "3.11.6"
  }
 },
 "nbformat": 4,
 "nbformat_minor": 4
}
